{
  "nbformat": 4,
  "nbformat_minor": 0,
  "metadata": {
    "colab": {
      "provenance": [],
      "include_colab_link": true
    },
    "kernelspec": {
      "display_name": "Python 3",
      "language": "python",
      "name": "python3"
    },
    "language_info": {
      "codemirror_mode": {
        "name": "ipython",
        "version": 3
      },
      "file_extension": ".py",
      "mimetype": "text/x-python",
      "name": "python",
      "nbconvert_exporter": "python",
      "pygments_lexer": "ipython3",
      "version": "3.7.10"
    }
  },
  "cells": [
    {
      "cell_type": "markdown",
      "metadata": {
        "id": "view-in-github",
        "colab_type": "text"
      },
      "source": [
        "<a href=\"https://colab.research.google.com/github/codingfarm1/codingfarm1.github.io/blob/master/04_%ED%8C%8C%EC%9D%B4%EC%8D%AC_%EB%AC%B8%EC%9E%90%EC%97%B4%EC%9D%98_%EC%82%AC%EB%B3%B8.ipynb\" target=\"_parent\"><img src=\"https://colab.research.google.com/assets/colab-badge.svg\" alt=\"Open In Colab\"/></a>"
      ]
    },
    {
      "cell_type": "markdown",
      "metadata": {
        "id": "yhrjrcX50_xk"
      },
      "source": [
        "# 문자열"
      ]
    },
    {
      "cell_type": "markdown",
      "metadata": {
        "id": "af-WjtP-6EHN"
      },
      "source": [
        "데이터 분석에 있어서 문자열(텍스트) 데이터의 중요성\n",
        "\n",
        "- 자연어처리 데이터는 대부분이 텍스트 데이터로 이루어져 있습니다.\n",
        "- 우리가 흔히 접하는 Excel 혹은 Table 데이터안에도 수많은 텍스트 데이터가 존재합니다.\n",
        "- 게다가 우리나라는 영어와 더불어 **한글**까지 추가로 처리 할 수 있어야 합니다!!"
      ]
    },
    {
      "cell_type": "markdown",
      "metadata": {
        "id": "P76mpWgqefWM"
      },
      "source": [
        "### 특성\n",
        "\n",
        "- 문자열 역시 리스트(list), 튜플(tuple)과 마찬가지로 sequence 형 자료구조를 가집니다.\n",
        "- 문자열은 불변(immutable) 객체입니다."
      ]
    },
    {
      "cell_type": "markdown",
      "metadata": {
        "id": "NuK-a3yR8d9b"
      },
      "source": [
        "### 문자열의 생성\n",
        "\n",
        "파이썬의 문자열은 작은 따옴표(**'**) 나 큰 따옴표(**\"**) 모두 구분없이 사용하여 문자열을 생성할 수 있습니다."
      ]
    },
    {
      "cell_type": "markdown",
      "metadata": {
        "id": "58vOhBsu6WLW"
      },
      "source": [
        "작은 따옴표(**'**) 사용"
      ]
    },
    {
      "cell_type": "code",
      "metadata": {
        "id": "JXzjndKx6Tqq"
      },
      "source": [
        "'안녕하세요? 반갑습니다.'"
      ],
      "execution_count": null,
      "outputs": []
    },
    {
      "cell_type": "markdown",
      "metadata": {
        "id": "5HX4SerY6X9F"
      },
      "source": [
        "큰 따옴표(**\"**) 사용"
      ]
    },
    {
      "cell_type": "code",
      "metadata": {
        "id": "-PBmn72k6YFJ"
      },
      "source": [
        "\"안녕하세요? 반갑습니다.\""
      ],
      "execution_count": null,
      "outputs": []
    },
    {
      "cell_type": "markdown",
      "metadata": {
        "id": "Wl5BW9ZY6b6N"
      },
      "source": [
        "작은 따옴표 3개 혹은 큰 따옴표 3개를 써서 **여러 줄의 문자열을 생성**할 수 있습니다."
      ]
    },
    {
      "cell_type": "code",
      "metadata": {
        "id": "YX2-gHvH6YRE"
      },
      "source": [
        "sample = '''안녕하세요?\n",
        "반가워요\n",
        "내이름은\n",
        "파이썬 입니다.'''\n",
        "\n",
        "print(sample)"
      ],
      "execution_count": null,
      "outputs": []
    },
    {
      "cell_type": "code",
      "metadata": {
        "id": "F7k_-5Jb6l1D"
      },
      "source": [
        "sample = \"\"\"안녕하세요?\n",
        "반가워요\n",
        "내이름은\n",
        "파이썬 입니다.\n",
        "\n",
        "웰컴!\n",
        "\"\"\"\n",
        "\n",
        "print(sample)"
      ],
      "execution_count": null,
      "outputs": []
    },
    {
      "cell_type": "markdown",
      "metadata": {
        "id": "CYr2ZjlH8g77"
      },
      "source": [
        "## 문자열 출력 (포맷팅)"
      ]
    },
    {
      "cell_type": "markdown",
      "metadata": {
        "id": "G6S7kF158rD9"
      },
      "source": [
        "### print() : 출력"
      ]
    },
    {
      "cell_type": "code",
      "metadata": {
        "id": "xw3G7lRN80nO",
        "colab": {
          "base_uri": "https://localhost:8080/"
        },
        "outputId": "488d1dc6-a615-4986-9bcc-20551eb77223"
      },
      "source": [
        "print('헬로우 파이썬')"
      ],
      "execution_count": 1,
      "outputs": [
        {
          "output_type": "stream",
          "name": "stdout",
          "text": [
            "헬로우 파이썬\n"
          ]
        }
      ]
    },
    {
      "cell_type": "code",
      "metadata": {
        "id": "yVHPxpah84Ng",
        "colab": {
          "base_uri": "https://localhost:8080/"
        },
        "outputId": "6f04e999-9dce-496e-b4e2-c49f60ffbe90"
      },
      "source": [
        "print('문자열 첫째', '그리고, 둘째')"
      ],
      "execution_count": 2,
      "outputs": [
        {
          "output_type": "stream",
          "name": "stdout",
          "text": [
            "문자열 첫째 그리고, 둘째\n"
          ]
        }
      ]
    },
    {
      "cell_type": "markdown",
      "metadata": {
        "id": "dbfmLyGJsrWo"
      },
      "source": [
        "`end` 옵션으로 출력될 마지막 글자를 변경할 수 있습니다. (기본값: \\n)\n",
        "\n",
        "- [참고] : \\n 은 개행을 의미하는 특수 문자입니다."
      ]
    },
    {
      "cell_type": "code",
      "metadata": {
        "id": "QZmPntbdnH2z",
        "colab": {
          "base_uri": "https://localhost:8080/"
        },
        "outputId": "c1247533-8847-44d3-cb86-501d8b212167"
      },
      "source": [
        "print('a', end=' ')\n",
        "print('a')\n",
        "print('a')"
      ],
      "execution_count": 3,
      "outputs": [
        {
          "output_type": "stream",
          "name": "stdout",
          "text": [
            "a a\n",
            "a\n"
          ]
        }
      ]
    },
    {
      "cell_type": "code",
      "metadata": {
        "id": "DWX0fGdn88NQ",
        "colab": {
          "base_uri": "https://localhost:8080/"
        },
        "outputId": "ac3277ff-056f-4057-83d3-64f7c6ee2dbe"
      },
      "source": [
        "print('여기까지!', end='end출력!')"
      ],
      "execution_count": 4,
      "outputs": [
        {
          "output_type": "stream",
          "name": "stdout",
          "text": [
            "여기까지!end출력!"
          ]
        }
      ]
    },
    {
      "cell_type": "markdown",
      "metadata": {
        "id": "kMMLXqOVefWQ"
      },
      "source": [
        "`sep` 옵션으로 출력될 문자열 사이에 출력될 글자를 변경할 수 있습니다. (기본값: 공백)"
      ]
    },
    {
      "cell_type": "code",
      "metadata": {
        "id": "mQRiYp6wefWQ",
        "colab": {
          "base_uri": "https://localhost:8080/"
        },
        "outputId": "a4d5ae00-c210-481a-c074-f9f283bb27a7"
      },
      "source": [
        "print('문자1', '문자1', '문자3', sep=' <구분> ')"
      ],
      "execution_count": 5,
      "outputs": [
        {
          "output_type": "stream",
          "name": "stdout",
          "text": [
            "문자1 <구분> 문자1 <구분> 문자3\n"
          ]
        }
      ]
    },
    {
      "cell_type": "markdown",
      "metadata": {
        "id": "9gaXVMAjio6o"
      },
      "source": [
        "### %를 사용한 출력"
      ]
    },
    {
      "cell_type": "code",
      "metadata": {
        "id": "UcL19LR7irHO",
        "colab": {
          "base_uri": "https://localhost:8080/",
          "height": 35
        },
        "outputId": "14c11895-b542-48a8-bdac-d3fdc62b24b3"
      },
      "source": [
        "\"안녕하세요? %s\" % ('반갑습니다.')"
      ],
      "execution_count": 6,
      "outputs": [
        {
          "output_type": "execute_result",
          "data": {
            "text/plain": [
              "'안녕하세요? 반갑습니다.'"
            ],
            "application/vnd.google.colaboratory.intrinsic+json": {
              "type": "string"
            }
          },
          "metadata": {},
          "execution_count": 6
        }
      ]
    },
    {
      "cell_type": "code",
      "metadata": {
        "id": "B-6BrxWbivtD",
        "colab": {
          "base_uri": "https://localhost:8080/",
          "height": 35
        },
        "outputId": "8f657ad9-6c2b-40ef-a8cb-e47f5c909154"
      },
      "source": [
        "'안녕하세요? %.3f' % (0.123456)"
      ],
      "execution_count": 7,
      "outputs": [
        {
          "output_type": "execute_result",
          "data": {
            "text/plain": [
              "'안녕하세요? 0.123'"
            ],
            "application/vnd.google.colaboratory.intrinsic+json": {
              "type": "string"
            }
          },
          "metadata": {},
          "execution_count": 7
        }
      ]
    },
    {
      "cell_type": "code",
      "metadata": {
        "id": "D0xXLvfti3cS",
        "colab": {
          "base_uri": "https://localhost:8080/",
          "height": 35
        },
        "outputId": "c0d39a7a-2180-42fa-f0f4-95961396fe1a"
      },
      "source": [
        "'안녕하세요? %d' % (12345)"
      ],
      "execution_count": 8,
      "outputs": [
        {
          "output_type": "execute_result",
          "data": {
            "text/plain": [
              "'안녕하세요? 12345'"
            ],
            "application/vnd.google.colaboratory.intrinsic+json": {
              "type": "string"
            }
          },
          "metadata": {},
          "execution_count": 8
        }
      ]
    },
    {
      "cell_type": "code",
      "metadata": {
        "id": "RU7ru-gPi-US",
        "colab": {
          "base_uri": "https://localhost:8080/",
          "height": 35
        },
        "outputId": "143bcec4-e740-4167-cdf3-5f253365e5bf"
      },
      "source": [
        "'안녕하세요? %c' % ('a')"
      ],
      "execution_count": 9,
      "outputs": [
        {
          "output_type": "execute_result",
          "data": {
            "text/plain": [
              "'안녕하세요? a'"
            ],
            "application/vnd.google.colaboratory.intrinsic+json": {
              "type": "string"
            }
          },
          "metadata": {},
          "execution_count": 9
        }
      ]
    },
    {
      "cell_type": "markdown",
      "metadata": {
        "id": "5CLJ0YaDjF8Z"
      },
      "source": [
        "### {} 와 format를 사용한 출력"
      ]
    },
    {
      "cell_type": "code",
      "metadata": {
        "id": "32GRkJFgjIyG",
        "colab": {
          "base_uri": "https://localhost:8080/",
          "height": 35
        },
        "outputId": "111b444d-fb0b-4689-f801-3cd88ff39d97"
      },
      "source": [
        "'웰컴투? {}'.format('파이썬.')"
      ],
      "execution_count": 10,
      "outputs": [
        {
          "output_type": "execute_result",
          "data": {
            "text/plain": [
              "'웰컴투? 파이썬.'"
            ],
            "application/vnd.google.colaboratory.intrinsic+json": {
              "type": "string"
            }
          },
          "metadata": {},
          "execution_count": 10
        }
      ]
    },
    {
      "cell_type": "code",
      "metadata": {
        "id": "8J2L4341jNKd",
        "colab": {
          "base_uri": "https://localhost:8080/",
          "height": 35
        },
        "outputId": "aeb28b45-6f93-4e26-d76f-1b188c16085f"
      },
      "source": [
        "'비밀번호 {}'.format(486)"
      ],
      "execution_count": 11,
      "outputs": [
        {
          "output_type": "execute_result",
          "data": {
            "text/plain": [
              "'비밀번호 486'"
            ],
            "application/vnd.google.colaboratory.intrinsic+json": {
              "type": "string"
            }
          },
          "metadata": {},
          "execution_count": 11
        }
      ]
    },
    {
      "cell_type": "markdown",
      "metadata": {
        "id": "9dbOcHmbefWR"
      },
      "source": [
        "소수점 2자리 까지 제한하는 경우 (그 이하자리는 반올림)"
      ]
    },
    {
      "cell_type": "code",
      "metadata": {
        "id": "lL6qZGlSjPsO",
        "colab": {
          "base_uri": "https://localhost:8080/",
          "height": 35
        },
        "outputId": "010ca63b-6d27-4e2b-bf57-b36551afef20"
      },
      "source": [
        "'원주율? {:.2f}'.format(3.141592)"
      ],
      "execution_count": 12,
      "outputs": [
        {
          "output_type": "execute_result",
          "data": {
            "text/plain": [
              "'원주율? 3.14'"
            ],
            "application/vnd.google.colaboratory.intrinsic+json": {
              "type": "string"
            }
          },
          "metadata": {},
          "execution_count": 12
        }
      ]
    },
    {
      "cell_type": "markdown",
      "metadata": {
        "id": "EKla2fH0_rRt"
      },
      "source": [
        "### f 문자열 포맷팅 (python 3.6 이상만 지원)"
      ]
    },
    {
      "cell_type": "code",
      "metadata": {
        "id": "8fAI91HW_w1O",
        "colab": {
          "base_uri": "https://localhost:8080/"
        },
        "outputId": "bdd7f56e-9d7c-47a3-b39e-2f020f5f93f2"
      },
      "source": [
        "name = '펭수'\n",
        "age = 10\n",
        "print(f'나의 이름은 {name}입니다. 나이는 {age} 살입니다.')"
      ],
      "execution_count": 13,
      "outputs": [
        {
          "output_type": "stream",
          "name": "stdout",
          "text": [
            "나의 이름은 펭수입니다. 나이는 10 살입니다.\n"
          ]
        }
      ]
    },
    {
      "cell_type": "code",
      "metadata": {
        "id": "1zx2auV4_3fu",
        "colab": {
          "base_uri": "https://localhost:8080/"
        },
        "outputId": "301d12a0-0ced-483f-ca86-5f9e99081250"
      },
      "source": [
        "print(f'내년에 저는 {age+1} 살입니다.')"
      ],
      "execution_count": 14,
      "outputs": [
        {
          "output_type": "stream",
          "name": "stdout",
          "text": [
            "내년에 저는 11 살입니다.\n"
          ]
        }
      ]
    },
    {
      "cell_type": "code",
      "metadata": {
        "id": "90vy6SCUADEu"
      },
      "source": [
        "d = {'name':'펭수', 'age':10}"
      ],
      "execution_count": 15,
      "outputs": []
    },
    {
      "cell_type": "code",
      "metadata": {
        "id": "sk6wcosPAGX9",
        "colab": {
          "base_uri": "https://localhost:8080/"
        },
        "outputId": "63f061dd-9d19-469f-b854-39ee5d145d9f"
      },
      "source": [
        "print(f\"반가워요. 저는 {d['name']}입니다. 저의 나이는 {d['age']} 살입니다.\")"
      ],
      "execution_count": 16,
      "outputs": [
        {
          "output_type": "stream",
          "name": "stdout",
          "text": [
            "반가워요. 저는 펭수입니다. 저의 나이는 10 살입니다.\n"
          ]
        }
      ]
    },
    {
      "cell_type": "markdown",
      "metadata": {
        "id": "Cp1lYd91efWT"
      },
      "source": [
        "### 연습문제\n",
        "\n",
        "- 변수 `a`를 활용하여 문자열 포맷팅으로 출력하세요\n",
        "- print() 를 사용합니다."
      ]
    },
    {
      "cell_type": "code",
      "metadata": {
        "id": "wLbvN6i1efWT"
      },
      "source": [
        "a = 1234"
      ],
      "execution_count": 17,
      "outputs": []
    },
    {
      "cell_type": "code",
      "metadata": {
        "id": "uSgaYW9eefWT",
        "colab": {
          "base_uri": "https://localhost:8080/"
        },
        "outputId": "a5311c3f-e47f-4a8d-e3d3-3c2a8dacc10b"
      },
      "source": [
        "# 코드를 입력해 주세요\n",
        "print(f'a의 값은 {a}입니다.')"
      ],
      "execution_count": 20,
      "outputs": [
        {
          "output_type": "stream",
          "name": "stdout",
          "text": [
            "a의 값은 1234입니다.\n"
          ]
        }
      ]
    },
    {
      "cell_type": "markdown",
      "metadata": {
        "id": "7LdBJozoefWU"
      },
      "source": [
        "<p><strong>[출력 결과]</strong></p><pre>a의 값은 1234입니다\n",
        "</pre>"
      ]
    },
    {
      "cell_type": "markdown",
      "metadata": {
        "id": "RvT_8MyZefWU"
      },
      "source": [
        "- 변수 `a`, `b`를 활용하여 문자열 포맷팅으로 출력하세요\n",
        "- 단, `a`, `b`의 값은 소수 3째짜리까지 출력하고, 그 이하는 반올림합니다."
      ]
    },
    {
      "cell_type": "code",
      "metadata": {
        "id": "FVctqo8UefWU"
      },
      "source": [
        "a = 3.141592\n",
        "b = 6.181112"
      ],
      "execution_count": 21,
      "outputs": []
    },
    {
      "cell_type": "code",
      "metadata": {
        "id": "uiq9Jd9DefWU",
        "colab": {
          "base_uri": "https://localhost:8080/"
        },
        "outputId": "0206955f-6437-4b23-c9b9-7219203097f2"
      },
      "source": [
        "# 코드를 입력해 주세요\n",
        "print(f'a의 값은 {a:.3f}, b의값은 {b:.3f} 입니다.')"
      ],
      "execution_count": 23,
      "outputs": [
        {
          "output_type": "stream",
          "name": "stdout",
          "text": [
            "a의 값은 3.142, b의값은 6.181 입니다.\n"
          ]
        }
      ]
    },
    {
      "cell_type": "markdown",
      "metadata": {
        "id": "Rframi4befWU"
      },
      "source": [
        "<p><strong>[출력 결과]</strong></p><pre>a의 값은 3.142, b의 값은 6.181입니다\n",
        "</pre>"
      ]
    },
    {
      "cell_type": "markdown",
      "metadata": {
        "id": "I0X0Ex-N6ftn"
      },
      "source": [
        "## 문자열 길이"
      ]
    },
    {
      "cell_type": "markdown",
      "metadata": {
        "id": "Bn4hrljDumxP"
      },
      "source": [
        "### 영문 (alphabet)"
      ]
    },
    {
      "cell_type": "code",
      "metadata": {
        "id": "LHe2Vr9m6pK1",
        "colab": {
          "base_uri": "https://localhost:8080/"
        },
        "outputId": "3ebcd8b8-a7df-4953-bb9b-648973f3467c"
      },
      "source": [
        "len('banana')"
      ],
      "execution_count": 24,
      "outputs": [
        {
          "output_type": "execute_result",
          "data": {
            "text/plain": [
              "6"
            ]
          },
          "metadata": {},
          "execution_count": 24
        }
      ]
    },
    {
      "cell_type": "markdown",
      "metadata": {
        "id": "9siMZPhguuqx"
      },
      "source": [
        "**공백**은 길이에 포함됩니다."
      ]
    },
    {
      "cell_type": "code",
      "metadata": {
        "id": "sWeic6eQ6vvd",
        "colab": {
          "base_uri": "https://localhost:8080/"
        },
        "outputId": "8d47955a-1dd4-465e-b300-6925c9165d0b"
      },
      "source": [
        "len('banana pen')"
      ],
      "execution_count": 25,
      "outputs": [
        {
          "output_type": "execute_result",
          "data": {
            "text/plain": [
              "10"
            ]
          },
          "metadata": {},
          "execution_count": 25
        }
      ]
    },
    {
      "cell_type": "markdown",
      "metadata": {
        "id": "MJT04oW7uqLg"
      },
      "source": [
        "### 한글"
      ]
    },
    {
      "cell_type": "code",
      "metadata": {
        "id": "C4OsD6KE64xb",
        "colab": {
          "base_uri": "https://localhost:8080/"
        },
        "outputId": "6723b134-2d86-4cdd-f161-bdbbc7e65cb7"
      },
      "source": [
        "len('한글')"
      ],
      "execution_count": 26,
      "outputs": [
        {
          "output_type": "execute_result",
          "data": {
            "text/plain": [
              "2"
            ]
          },
          "metadata": {},
          "execution_count": 26
        }
      ]
    },
    {
      "cell_type": "markdown",
      "metadata": {
        "id": "K9saUoviu5tz"
      },
      "source": [
        "**공백**은 길이에 포함됩니다."
      ]
    },
    {
      "cell_type": "code",
      "metadata": {
        "id": "ZcM0bTkdpc4_",
        "colab": {
          "base_uri": "https://localhost:8080/"
        },
        "outputId": "7685737f-ab07-4d83-a699-7c42fe354e7a"
      },
      "source": [
        "len('한글이 최고!')"
      ],
      "execution_count": 27,
      "outputs": [
        {
          "output_type": "execute_result",
          "data": {
            "text/plain": [
              "7"
            ]
          },
          "metadata": {},
          "execution_count": 27
        }
      ]
    },
    {
      "cell_type": "markdown",
      "metadata": {
        "id": "fYYXjPApww5F"
      },
      "source": [
        "## 인덱싱 (indexing)\n",
        "\n",
        "- 문자열에서 한 개의 글자(char)를 조회하기 위해서는 **[]를 활용한 인덱싱으로 조회**할 수 있습니다."
      ]
    },
    {
      "cell_type": "code",
      "metadata": {
        "id": "9yJDIklaefWW",
        "colab": {
          "base_uri": "https://localhost:8080/",
          "height": 35
        },
        "outputId": "010cd880-d647-44c4-b1b3-cb7d27c3b786"
      },
      "source": [
        "a = 'Python is my life'\n",
        "a"
      ],
      "execution_count": 28,
      "outputs": [
        {
          "output_type": "execute_result",
          "data": {
            "text/plain": [
              "'Python is my life'"
            ],
            "application/vnd.google.colaboratory.intrinsic+json": {
              "type": "string"
            }
          },
          "metadata": {},
          "execution_count": 28
        }
      ]
    },
    {
      "cell_type": "markdown",
      "metadata": {
        "id": "oxD0se1eefWW"
      },
      "source": [
        "<div class=\"jp-RenderedHTMLCommon jp-RenderedMarkdown jp-MarkdownOutput \" data-mime-type=\"text/markdown\">\n",
        "<table>\n",
        "<thead><tr>\n",
        "<th>P</th>\n",
        "<th>y</th>\n",
        "<th>t</th>\n",
        "<th>h</th>\n",
        "<th>o</th>\n",
        "<th>n</th>\n",
        "<th></th>\n",
        "<th>i</th>\n",
        "<th>s</th>\n",
        "<th></th>\n",
        "<th>m</th>\n",
        "<th>y</th>\n",
        "<th></th>\n",
        "<th>l</th>\n",
        "<th>i</th>\n",
        "<th>f</th>\n",
        "<th>e</th>\n",
        "</tr>\n",
        "</thead>\n",
        "<tbody>\n",
        "<tr>\n",
        "<td>0</td>\n",
        "<td>1</td>\n",
        "<td>2</td>\n",
        "<td>3</td>\n",
        "<td>4</td>\n",
        "<td>5</td>\n",
        "<td>6</td>\n",
        "<td>7</td>\n",
        "<td>8</td>\n",
        "<td>9</td>\n",
        "<td>10</td>\n",
        "<td>11</td>\n",
        "<td>12</td>\n",
        "<td>13</td>\n",
        "<td>14</td>\n",
        "<td>15</td>\n",
        "<td>16</td>\n",
        "</tr>\n",
        "<tr>\n",
        "<td>-17</td>\n",
        "<td>-16</td>\n",
        "<td>-15</td>\n",
        "<td>-14</td>\n",
        "<td>-13</td>\n",
        "<td>-12</td>\n",
        "<td>-11</td>\n",
        "<td>-10</td>\n",
        "<td>-9</td>\n",
        "<td>-8</td>\n",
        "<td>-7</td>\n",
        "<td>-6</td>\n",
        "<td>-5</td>\n",
        "<td>-4</td>\n",
        "<td>-3</td>\n",
        "<td>-2</td>\n",
        "<td>-1</td>\n",
        "</tr>\n",
        "</tbody>\n",
        "</table>\n",
        "\n",
        "</div>"
      ]
    },
    {
      "cell_type": "code",
      "metadata": {
        "id": "_Ee3pk7axjxw",
        "colab": {
          "base_uri": "https://localhost:8080/",
          "height": 35
        },
        "outputId": "496dd9d1-74e0-462e-898b-d94c3ef4e241"
      },
      "source": [
        "a[0]"
      ],
      "execution_count": 29,
      "outputs": [
        {
          "output_type": "execute_result",
          "data": {
            "text/plain": [
              "'P'"
            ],
            "application/vnd.google.colaboratory.intrinsic+json": {
              "type": "string"
            }
          },
          "metadata": {},
          "execution_count": 29
        }
      ]
    },
    {
      "cell_type": "code",
      "metadata": {
        "id": "wrjfuPlrxm8E",
        "colab": {
          "base_uri": "https://localhost:8080/",
          "height": 35
        },
        "outputId": "948105b1-bb96-4eb9-964f-418d2a51e845"
      },
      "source": [
        "a[-2]"
      ],
      "execution_count": 30,
      "outputs": [
        {
          "output_type": "execute_result",
          "data": {
            "text/plain": [
              "'f'"
            ],
            "application/vnd.google.colaboratory.intrinsic+json": {
              "type": "string"
            }
          },
          "metadata": {},
          "execution_count": 30
        }
      ]
    },
    {
      "cell_type": "markdown",
      "metadata": {
        "id": "ztqTg5l5efWX"
      },
      "source": [
        "### 연습문제"
      ]
    },
    {
      "cell_type": "markdown",
      "metadata": {
        "id": "iM0DDbFdefWX"
      },
      "source": [
        "문자열 \"210101-1234567\"을 인덱싱 하여 성별을 나타내는 숫자를 출력 하세요"
      ]
    },
    {
      "cell_type": "code",
      "metadata": {
        "id": "uid2zza-efWX"
      },
      "source": [
        "registration_number =  '210101-1234567'"
      ],
      "execution_count": 31,
      "outputs": []
    },
    {
      "cell_type": "code",
      "metadata": {
        "id": "JpLoINWlefWX",
        "colab": {
          "base_uri": "https://localhost:8080/",
          "height": 35
        },
        "outputId": "af5441bb-6bd4-4cc0-ef68-89338839c158"
      },
      "source": [
        "# 코드를 입력해 주세요\n",
        "registration_number[-7]"
      ],
      "execution_count": 32,
      "outputs": [
        {
          "output_type": "execute_result",
          "data": {
            "text/plain": [
              "'1'"
            ],
            "application/vnd.google.colaboratory.intrinsic+json": {
              "type": "string"
            }
          },
          "metadata": {},
          "execution_count": 32
        }
      ]
    },
    {
      "cell_type": "markdown",
      "metadata": {
        "id": "nPnLFP4mefWY"
      },
      "source": [
        "<p><strong>[출력 결과]</strong></p><pre>'1'</pre>"
      ]
    },
    {
      "cell_type": "markdown",
      "metadata": {
        "id": "uQtvUw-txhmT"
      },
      "source": [
        "## 슬라이싱 (Slicing)\n",
        "\n",
        "- 슬라이싱의 활용: [start:stop:step] 을 명시하여 부분을 추출할 수 있습니다."
      ]
    },
    {
      "cell_type": "code",
      "metadata": {
        "id": "cl4a31vLefWY",
        "colab": {
          "base_uri": "https://localhost:8080/",
          "height": 35
        },
        "outputId": "8dc2e5d8-2a41-42a4-80c5-47ff9fab0ed7"
      },
      "source": [
        "a = 'Python is my life'\n",
        "a"
      ],
      "execution_count": 33,
      "outputs": [
        {
          "output_type": "execute_result",
          "data": {
            "text/plain": [
              "'Python is my life'"
            ],
            "application/vnd.google.colaboratory.intrinsic+json": {
              "type": "string"
            }
          },
          "metadata": {},
          "execution_count": 33
        }
      ]
    },
    {
      "cell_type": "markdown",
      "metadata": {
        "id": "fOdNfLFqefWY"
      },
      "source": [
        "<div class=\"jp-RenderedHTMLCommon jp-RenderedMarkdown jp-MarkdownOutput \" data-mime-type=\"text/markdown\">\n",
        "<table>\n",
        "<thead><tr>\n",
        "<th>P</th>\n",
        "<th>y</th>\n",
        "<th>t</th>\n",
        "<th>h</th>\n",
        "<th>o</th>\n",
        "<th>n</th>\n",
        "<th></th>\n",
        "<th>i</th>\n",
        "<th>s</th>\n",
        "<th></th>\n",
        "<th>m</th>\n",
        "<th>y</th>\n",
        "<th></th>\n",
        "<th>l</th>\n",
        "<th>i</th>\n",
        "<th>f</th>\n",
        "<th>e</th>\n",
        "</tr>\n",
        "</thead>\n",
        "<tbody>\n",
        "<tr>\n",
        "<td>0</td>\n",
        "<td>1</td>\n",
        "<td>2</td>\n",
        "<td>3</td>\n",
        "<td>4</td>\n",
        "<td>5</td>\n",
        "<td>6</td>\n",
        "<td>7</td>\n",
        "<td>8</td>\n",
        "<td>9</td>\n",
        "<td>10</td>\n",
        "<td>11</td>\n",
        "<td>12</td>\n",
        "<td>13</td>\n",
        "<td>14</td>\n",
        "<td>15</td>\n",
        "<td>16</td>\n",
        "</tr>\n",
        "<tr>\n",
        "<td>-17</td>\n",
        "<td>-16</td>\n",
        "<td>-15</td>\n",
        "<td>-14</td>\n",
        "<td>-13</td>\n",
        "<td>-12</td>\n",
        "<td>-11</td>\n",
        "<td>-10</td>\n",
        "<td>-9</td>\n",
        "<td>-8</td>\n",
        "<td>-7</td>\n",
        "<td>-6</td>\n",
        "<td>-5</td>\n",
        "<td>-4</td>\n",
        "<td>-3</td>\n",
        "<td>-2</td>\n",
        "<td>-1</td>\n",
        "</tr>\n",
        "</tbody>\n",
        "</table>\n",
        "\n",
        "</div>"
      ]
    },
    {
      "cell_type": "markdown",
      "metadata": {
        "id": "fuF8OxXzefWY"
      },
      "source": [
        "[:]을 활용하여 전체를 추출할 수 있습니다."
      ]
    },
    {
      "cell_type": "code",
      "metadata": {
        "id": "CTnWR075efWZ",
        "colab": {
          "base_uri": "https://localhost:8080/",
          "height": 35
        },
        "outputId": "16b4292a-ee14-41d1-d0cf-38281d638c88"
      },
      "source": [
        "a[:]"
      ],
      "execution_count": 34,
      "outputs": [
        {
          "output_type": "execute_result",
          "data": {
            "text/plain": [
              "'Python is my life'"
            ],
            "application/vnd.google.colaboratory.intrinsic+json": {
              "type": "string"
            }
          },
          "metadata": {},
          "execution_count": 34
        }
      ]
    },
    {
      "cell_type": "markdown",
      "metadata": {
        "id": "cL-WhArrefWZ"
      },
      "source": [
        "<div class=\"jp-RenderedHTMLCommon jp-RenderedMarkdown jp-MarkdownOutput \" data-mime-type=\"text/markdown\">\n",
        "<table>\n",
        "<thead><tr>\n",
        "<th>P</th>\n",
        "<th>y</th>\n",
        "<th>t</th>\n",
        "<th>h</th>\n",
        "<th>o</th>\n",
        "<th>n</th>\n",
        "<th></th>\n",
        "<th>i</th>\n",
        "<th>s</th>\n",
        "<th></th>\n",
        "<th>m</th>\n",
        "<th>y</th>\n",
        "<th></th>\n",
        "<th>l</th>\n",
        "<th>i</th>\n",
        "<th>f</th>\n",
        "<th>e</th>\n",
        "</tr>\n",
        "</thead>\n",
        "<tbody>\n",
        "<tr>\n",
        "<td>0</td>\n",
        "<td>1</td>\n",
        "<td>2</td>\n",
        "<td>3</td>\n",
        "<td>4</td>\n",
        "<td>5</td>\n",
        "<td>6</td>\n",
        "<td>7</td>\n",
        "<td>8</td>\n",
        "<td>9</td>\n",
        "<td>10</td>\n",
        "<td>11</td>\n",
        "<td>12</td>\n",
        "<td>13</td>\n",
        "<td>14</td>\n",
        "<td>15</td>\n",
        "<td>16</td>\n",
        "</tr>\n",
        "<tr>\n",
        "<td>-17</td>\n",
        "<td>-16</td>\n",
        "<td>-15</td>\n",
        "<td>-14</td>\n",
        "<td>-13</td>\n",
        "<td>-12</td>\n",
        "<td>-11</td>\n",
        "<td>-10</td>\n",
        "<td>-9</td>\n",
        "<td>-8</td>\n",
        "<td>-7</td>\n",
        "<td>-6</td>\n",
        "<td>-5</td>\n",
        "<td>-4</td>\n",
        "<td>-3</td>\n",
        "<td>-2</td>\n",
        "<td>-1</td>\n",
        "</tr>\n",
        "</tbody>\n",
        "</table>\n",
        "\n",
        "</div>"
      ]
    },
    {
      "cell_type": "markdown",
      "metadata": {
        "id": "pHMFJUy8efWZ"
      },
      "source": [
        "[start:]는 시작 index 부터 끝까지 추출합니다."
      ]
    },
    {
      "cell_type": "code",
      "metadata": {
        "id": "DIWMqyewefWZ",
        "colab": {
          "base_uri": "https://localhost:8080/",
          "height": 35
        },
        "outputId": "7a5984f7-8957-41a9-95ac-85471d04cba3"
      },
      "source": [
        "a[3:]"
      ],
      "execution_count": 35,
      "outputs": [
        {
          "output_type": "execute_result",
          "data": {
            "text/plain": [
              "'hon is my life'"
            ],
            "application/vnd.google.colaboratory.intrinsic+json": {
              "type": "string"
            }
          },
          "metadata": {},
          "execution_count": 35
        }
      ]
    },
    {
      "cell_type": "code",
      "metadata": {
        "id": "xTdvS-UpefWa",
        "colab": {
          "base_uri": "https://localhost:8080/",
          "height": 35
        },
        "outputId": "cf5dc00b-2ad0-42c6-bf72-571491bdcf3e"
      },
      "source": [
        "a[-4:]"
      ],
      "execution_count": 36,
      "outputs": [
        {
          "output_type": "execute_result",
          "data": {
            "text/plain": [
              "'life'"
            ],
            "application/vnd.google.colaboratory.intrinsic+json": {
              "type": "string"
            }
          },
          "metadata": {},
          "execution_count": 36
        }
      ]
    },
    {
      "cell_type": "markdown",
      "metadata": {
        "id": "qNP1OCS9efWa"
      },
      "source": [
        "<div class=\"jp-RenderedHTMLCommon jp-RenderedMarkdown jp-MarkdownOutput \" data-mime-type=\"text/markdown\">\n",
        "<table>\n",
        "<thead><tr>\n",
        "<th>P</th>\n",
        "<th>y</th>\n",
        "<th>t</th>\n",
        "<th>h</th>\n",
        "<th>o</th>\n",
        "<th>n</th>\n",
        "<th></th>\n",
        "<th>i</th>\n",
        "<th>s</th>\n",
        "<th></th>\n",
        "<th>m</th>\n",
        "<th>y</th>\n",
        "<th></th>\n",
        "<th>l</th>\n",
        "<th>i</th>\n",
        "<th>f</th>\n",
        "<th>e</th>\n",
        "</tr>\n",
        "</thead>\n",
        "<tbody>\n",
        "<tr>\n",
        "<td>0</td>\n",
        "<td>1</td>\n",
        "<td>2</td>\n",
        "<td>3</td>\n",
        "<td>4</td>\n",
        "<td>5</td>\n",
        "<td>6</td>\n",
        "<td>7</td>\n",
        "<td>8</td>\n",
        "<td>9</td>\n",
        "<td>10</td>\n",
        "<td>11</td>\n",
        "<td>12</td>\n",
        "<td>13</td>\n",
        "<td>14</td>\n",
        "<td>15</td>\n",
        "<td>16</td>\n",
        "</tr>\n",
        "<tr>\n",
        "<td>-17</td>\n",
        "<td>-16</td>\n",
        "<td>-15</td>\n",
        "<td>-14</td>\n",
        "<td>-13</td>\n",
        "<td>-12</td>\n",
        "<td>-11</td>\n",
        "<td>-10</td>\n",
        "<td>-9</td>\n",
        "<td>-8</td>\n",
        "<td>-7</td>\n",
        "<td>-6</td>\n",
        "<td>-5</td>\n",
        "<td>-4</td>\n",
        "<td>-3</td>\n",
        "<td>-2</td>\n",
        "<td>-1</td>\n",
        "</tr>\n",
        "</tbody>\n",
        "</table>\n",
        "\n",
        "</div>"
      ]
    },
    {
      "cell_type": "markdown",
      "metadata": {
        "id": "gLUlg1HnefWa"
      },
      "source": [
        "[:end]는 처음부터 end 전까지 추출합니다."
      ]
    },
    {
      "cell_type": "code",
      "metadata": {
        "id": "GuwSW6AfxHlO",
        "colab": {
          "base_uri": "https://localhost:8080/",
          "height": 35
        },
        "outputId": "43627192-c389-432c-e25b-3199f4119e25"
      },
      "source": [
        "a[:6]"
      ],
      "execution_count": 37,
      "outputs": [
        {
          "output_type": "execute_result",
          "data": {
            "text/plain": [
              "'Python'"
            ],
            "application/vnd.google.colaboratory.intrinsic+json": {
              "type": "string"
            }
          },
          "metadata": {},
          "execution_count": 37
        }
      ]
    },
    {
      "cell_type": "code",
      "metadata": {
        "id": "PJU7lxPfxK-K",
        "colab": {
          "base_uri": "https://localhost:8080/",
          "height": 35
        },
        "outputId": "1fc91c10-b79b-47d5-b0ac-48edf8ede5d8"
      },
      "source": [
        "a[:-3]"
      ],
      "execution_count": 38,
      "outputs": [
        {
          "output_type": "execute_result",
          "data": {
            "text/plain": [
              "'Python is my l'"
            ],
            "application/vnd.google.colaboratory.intrinsic+json": {
              "type": "string"
            }
          },
          "metadata": {},
          "execution_count": 38
        }
      ]
    },
    {
      "cell_type": "markdown",
      "metadata": {
        "id": "CyqAn2eqefWb"
      },
      "source": [
        "<div class=\"jp-RenderedHTMLCommon jp-RenderedMarkdown jp-MarkdownOutput \" data-mime-type=\"text/markdown\">\n",
        "<table>\n",
        "<thead><tr>\n",
        "<th>P</th>\n",
        "<th>y</th>\n",
        "<th>t</th>\n",
        "<th>h</th>\n",
        "<th>o</th>\n",
        "<th>n</th>\n",
        "<th></th>\n",
        "<th>i</th>\n",
        "<th>s</th>\n",
        "<th></th>\n",
        "<th>m</th>\n",
        "<th>y</th>\n",
        "<th></th>\n",
        "<th>l</th>\n",
        "<th>i</th>\n",
        "<th>f</th>\n",
        "<th>e</th>\n",
        "</tr>\n",
        "</thead>\n",
        "<tbody>\n",
        "<tr>\n",
        "<td>0</td>\n",
        "<td>1</td>\n",
        "<td>2</td>\n",
        "<td>3</td>\n",
        "<td>4</td>\n",
        "<td>5</td>\n",
        "<td>6</td>\n",
        "<td>7</td>\n",
        "<td>8</td>\n",
        "<td>9</td>\n",
        "<td>10</td>\n",
        "<td>11</td>\n",
        "<td>12</td>\n",
        "<td>13</td>\n",
        "<td>14</td>\n",
        "<td>15</td>\n",
        "<td>16</td>\n",
        "</tr>\n",
        "<tr>\n",
        "<td>-17</td>\n",
        "<td>-16</td>\n",
        "<td>-15</td>\n",
        "<td>-14</td>\n",
        "<td>-13</td>\n",
        "<td>-12</td>\n",
        "<td>-11</td>\n",
        "<td>-10</td>\n",
        "<td>-9</td>\n",
        "<td>-8</td>\n",
        "<td>-7</td>\n",
        "<td>-6</td>\n",
        "<td>-5</td>\n",
        "<td>-4</td>\n",
        "<td>-3</td>\n",
        "<td>-2</td>\n",
        "<td>-1</td>\n",
        "</tr>\n",
        "</tbody>\n",
        "</table>\n",
        "\n",
        "</div>"
      ]
    },
    {
      "cell_type": "markdown",
      "metadata": {
        "id": "ZPCnuNbNefWb"
      },
      "source": [
        "[start:end]는 start부터 end 전까지 추출합니다."
      ]
    },
    {
      "cell_type": "code",
      "metadata": {
        "id": "D0nLAaU9xV3E",
        "colab": {
          "base_uri": "https://localhost:8080/",
          "height": 35
        },
        "outputId": "d57a6734-a209-47df-b072-f8d926f9782d"
      },
      "source": [
        "a[3:6]"
      ],
      "execution_count": 39,
      "outputs": [
        {
          "output_type": "execute_result",
          "data": {
            "text/plain": [
              "'hon'"
            ],
            "application/vnd.google.colaboratory.intrinsic+json": {
              "type": "string"
            }
          },
          "metadata": {},
          "execution_count": 39
        }
      ]
    },
    {
      "cell_type": "markdown",
      "metadata": {
        "id": "YAHXa147efWc"
      },
      "source": [
        "[start:stop:step]에서 step 지정시 step만큼 건너 뛰면서 추출합니다."
      ]
    },
    {
      "cell_type": "code",
      "metadata": {
        "id": "lVNSxsf7xZdK",
        "colab": {
          "base_uri": "https://localhost:8080/",
          "height": 35
        },
        "outputId": "66f8c359-69e2-45cc-820d-e6d42d7745ce"
      },
      "source": [
        "a[::2]"
      ],
      "execution_count": 40,
      "outputs": [
        {
          "output_type": "execute_result",
          "data": {
            "text/plain": [
              "'Pto sm ie'"
            ],
            "application/vnd.google.colaboratory.intrinsic+json": {
              "type": "string"
            }
          },
          "metadata": {},
          "execution_count": 40
        }
      ]
    },
    {
      "cell_type": "markdown",
      "metadata": {
        "id": "gqszBTMJefWc"
      },
      "source": [
        "역순으로 출력하기 위해서는 step을 -1로 지정합니다."
      ]
    },
    {
      "cell_type": "code",
      "metadata": {
        "id": "stAflU2pefWc",
        "colab": {
          "base_uri": "https://localhost:8080/",
          "height": 35
        },
        "outputId": "f0012ec6-6b0b-4a12-fd2b-e509b9bdf0e3"
      },
      "source": [
        "a[::-1]"
      ],
      "execution_count": 41,
      "outputs": [
        {
          "output_type": "execute_result",
          "data": {
            "text/plain": [
              "'efil ym si nohtyP'"
            ],
            "application/vnd.google.colaboratory.intrinsic+json": {
              "type": "string"
            }
          },
          "metadata": {},
          "execution_count": 41
        }
      ]
    },
    {
      "cell_type": "markdown",
      "metadata": {
        "id": "HeCCEfRQefWc"
      },
      "source": [
        "## 연습문제"
      ]
    },
    {
      "cell_type": "markdown",
      "metadata": {
        "id": "-o8vcMeQefWc"
      },
      "source": [
        "문자열 '20210101Sunny'를 슬라이싱하여 날짜는 `date`변수에 날씨는 `weather` 변수에 저장 후 출력 하세요"
      ]
    },
    {
      "cell_type": "code",
      "metadata": {
        "id": "yqH2OJGhefWd"
      },
      "source": [
        "sample = '20210101Sunny'"
      ],
      "execution_count": 42,
      "outputs": []
    },
    {
      "cell_type": "code",
      "metadata": {
        "id": "5xi5y2jtefWd",
        "colab": {
          "base_uri": "https://localhost:8080/"
        },
        "outputId": "4ae8ccdf-238a-460d-ca2d-eb2ac4566e03"
      },
      "source": [
        "# 코드를 입력해 주세요\n",
        "date = sample[:8]\n",
        "weather = sample[8:]\n",
        "print(f'date :{date}, weather: {weather}')"
      ],
      "execution_count": 45,
      "outputs": [
        {
          "output_type": "stream",
          "name": "stdout",
          "text": [
            "date :20210101, weather: Sunny\n"
          ]
        }
      ]
    },
    {
      "cell_type": "markdown",
      "metadata": {
        "id": "xFkOZzQhefWd"
      },
      "source": [
        "<p><strong>[출력 결과]</strong></p><pre>date: 20210101, weather: Sunny\n",
        "</pre>"
      ]
    },
    {
      "cell_type": "markdown",
      "metadata": {
        "id": "3YtcNbW9efWd"
      },
      "source": [
        "### 불변(immutable)\n",
        "\n",
        "- 문자열은 index를 통해 값을 수정 및 변경이 불가합니다.\n",
        "- 하지만 메서드(method)로 변경할 수 있습니다."
      ]
    },
    {
      "cell_type": "code",
      "metadata": {
        "id": "dX6xkFv8ycbC"
      },
      "source": [
        "a = 'Python is my life'"
      ],
      "execution_count": 46,
      "outputs": []
    },
    {
      "cell_type": "markdown",
      "metadata": {
        "id": "JqLGdHgbefWd"
      },
      "source": [
        "index에 값을 할당하여 변경하려는 경우"
      ]
    },
    {
      "cell_type": "code",
      "metadata": {
        "id": "rRb3BS2OrNuf",
        "colab": {
          "base_uri": "https://localhost:8080/",
          "height": 35
        },
        "outputId": "41ee66b8-ccb9-417e-eebd-23c0ffd7389a"
      },
      "source": [
        "a[2]"
      ],
      "execution_count": 47,
      "outputs": [
        {
          "output_type": "execute_result",
          "data": {
            "text/plain": [
              "'t'"
            ],
            "application/vnd.google.colaboratory.intrinsic+json": {
              "type": "string"
            }
          },
          "metadata": {},
          "execution_count": 47
        }
      ]
    },
    {
      "cell_type": "code",
      "metadata": {
        "id": "d0OIpUlQyd98",
        "colab": {
          "base_uri": "https://localhost:8080/",
          "height": 146
        },
        "outputId": "29aee380-69c5-4388-a8c1-def2b49cd1c0"
      },
      "source": [
        "a[2] = 'Y'"
      ],
      "execution_count": 48,
      "outputs": [
        {
          "output_type": "error",
          "ename": "TypeError",
          "evalue": "'str' object does not support item assignment",
          "traceback": [
            "\u001b[0;31m---------------------------------------------------------------------------\u001b[0m",
            "\u001b[0;31mTypeError\u001b[0m                                 Traceback (most recent call last)",
            "\u001b[0;32m<ipython-input-48-f2db0e8f1888>\u001b[0m in \u001b[0;36m<cell line: 1>\u001b[0;34m()\u001b[0m\n\u001b[0;32m----> 1\u001b[0;31m \u001b[0ma\u001b[0m\u001b[0;34m[\u001b[0m\u001b[0;36m2\u001b[0m\u001b[0;34m]\u001b[0m \u001b[0;34m=\u001b[0m \u001b[0;34m'Y'\u001b[0m\u001b[0;34m\u001b[0m\u001b[0;34m\u001b[0m\u001b[0m\n\u001b[0m",
            "\u001b[0;31mTypeError\u001b[0m: 'str' object does not support item assignment"
          ]
        }
      ]
    },
    {
      "cell_type": "markdown",
      "metadata": {
        "id": "iQQp24dNefWe"
      },
      "source": [
        "del로 부분 삭제하려는 경우"
      ]
    },
    {
      "cell_type": "code",
      "metadata": {
        "id": "U9L7Mku-efWe",
        "colab": {
          "base_uri": "https://localhost:8080/",
          "height": 146
        },
        "outputId": "b167381e-40f0-49aa-cf75-aeef737774b6"
      },
      "source": [
        "del a[2]"
      ],
      "execution_count": 49,
      "outputs": [
        {
          "output_type": "error",
          "ename": "TypeError",
          "evalue": "'str' object doesn't support item deletion",
          "traceback": [
            "\u001b[0;31m---------------------------------------------------------------------------\u001b[0m",
            "\u001b[0;31mTypeError\u001b[0m                                 Traceback (most recent call last)",
            "\u001b[0;32m<ipython-input-49-734682c6a06c>\u001b[0m in \u001b[0;36m<cell line: 1>\u001b[0;34m()\u001b[0m\n\u001b[0;32m----> 1\u001b[0;31m \u001b[0;32mdel\u001b[0m \u001b[0ma\u001b[0m\u001b[0;34m[\u001b[0m\u001b[0;36m2\u001b[0m\u001b[0;34m]\u001b[0m\u001b[0;34m\u001b[0m\u001b[0;34m\u001b[0m\u001b[0m\n\u001b[0m",
            "\u001b[0;31mTypeError\u001b[0m: 'str' object doesn't support item deletion"
          ]
        }
      ]
    },
    {
      "cell_type": "markdown",
      "metadata": {
        "id": "M1QOBKQdefWe"
      },
      "source": [
        "## 문자열의 덧셈과 곱셈"
      ]
    },
    {
      "cell_type": "markdown",
      "metadata": {
        "id": "wy7OzuVn7Rx6"
      },
      "source": [
        "### 연결: 문자열의 덧셈\n",
        "\n",
        "덧셈은 문자열을 연결합니다."
      ]
    },
    {
      "cell_type": "code",
      "metadata": {
        "id": "CqP9eJT0efWe"
      },
      "source": [
        "a = '반갑습니다!'\n",
        "b = '웰컴 투 파이썬'"
      ],
      "execution_count": 50,
      "outputs": []
    },
    {
      "cell_type": "code",
      "metadata": {
        "id": "3_LKDb6_7Bap",
        "colab": {
          "base_uri": "https://localhost:8080/",
          "height": 35
        },
        "outputId": "2744d181-ea78-4680-e129-2a6cad81b9a4"
      },
      "source": [
        "a + b"
      ],
      "execution_count": 51,
      "outputs": [
        {
          "output_type": "execute_result",
          "data": {
            "text/plain": [
              "'반갑습니다!웰컴 투 파이썬'"
            ],
            "application/vnd.google.colaboratory.intrinsic+json": {
              "type": "string"
            }
          },
          "metadata": {},
          "execution_count": 51
        }
      ]
    },
    {
      "cell_type": "code",
      "metadata": {
        "id": "US6zEg98vol3",
        "colab": {
          "base_uri": "https://localhost:8080/",
          "height": 35
        },
        "outputId": "21b0313e-a5f1-4775-ab47-0da3e532b61e"
      },
      "source": [
        "a + '???'"
      ],
      "execution_count": 52,
      "outputs": [
        {
          "output_type": "execute_result",
          "data": {
            "text/plain": [
              "'반갑습니다!???'"
            ],
            "application/vnd.google.colaboratory.intrinsic+json": {
              "type": "string"
            }
          },
          "metadata": {},
          "execution_count": 52
        }
      ]
    },
    {
      "cell_type": "code",
      "metadata": {
        "id": "WDjnEfnXefWf",
        "colab": {
          "base_uri": "https://localhost:8080/",
          "height": 35
        },
        "outputId": "3b1617fa-3513-49f6-ef01-00507530b23f"
      },
      "source": [
        "'hello' + ', world'"
      ],
      "execution_count": 53,
      "outputs": [
        {
          "output_type": "execute_result",
          "data": {
            "text/plain": [
              "'hello, world'"
            ],
            "application/vnd.google.colaboratory.intrinsic+json": {
              "type": "string"
            }
          },
          "metadata": {},
          "execution_count": 53
        }
      ]
    },
    {
      "cell_type": "markdown",
      "metadata": {
        "id": "qQqStSwV7Tdj"
      },
      "source": [
        "### 복제: 문자열의 곱셈\n",
        "\n",
        "문자열을 곱한 숫자 만큼 반복하여 생성합니다."
      ]
    },
    {
      "cell_type": "code",
      "metadata": {
        "id": "_Ohx_-zrrvRm",
        "colab": {
          "base_uri": "https://localhost:8080/",
          "height": 146
        },
        "outputId": "01f79bff-271c-4fd9-c016-a6e63bf5757d"
      },
      "source": [
        "a * b"
      ],
      "execution_count": 54,
      "outputs": [
        {
          "output_type": "error",
          "ename": "TypeError",
          "evalue": "can't multiply sequence by non-int of type 'str'",
          "traceback": [
            "\u001b[0;31m---------------------------------------------------------------------------\u001b[0m",
            "\u001b[0;31mTypeError\u001b[0m                                 Traceback (most recent call last)",
            "\u001b[0;32m<ipython-input-54-9bc1a869709f>\u001b[0m in \u001b[0;36m<cell line: 1>\u001b[0;34m()\u001b[0m\n\u001b[0;32m----> 1\u001b[0;31m \u001b[0ma\u001b[0m \u001b[0;34m*\u001b[0m \u001b[0mb\u001b[0m\u001b[0;34m\u001b[0m\u001b[0;34m\u001b[0m\u001b[0m\n\u001b[0m",
            "\u001b[0;31mTypeError\u001b[0m: can't multiply sequence by non-int of type 'str'"
          ]
        }
      ]
    },
    {
      "cell_type": "code",
      "metadata": {
        "id": "xrTsCnY77BVO",
        "colab": {
          "base_uri": "https://localhost:8080/",
          "height": 35
        },
        "outputId": "4852797f-3d9d-4578-88de-7eec29979b1a"
      },
      "source": [
        "a * 2"
      ],
      "execution_count": 55,
      "outputs": [
        {
          "output_type": "execute_result",
          "data": {
            "text/plain": [
              "'반갑습니다!반갑습니다!'"
            ],
            "application/vnd.google.colaboratory.intrinsic+json": {
              "type": "string"
            }
          },
          "metadata": {},
          "execution_count": 55
        }
      ]
    },
    {
      "cell_type": "code",
      "metadata": {
        "id": "IacR3tePvfZg",
        "colab": {
          "base_uri": "https://localhost:8080/"
        },
        "outputId": "af9252a4-4f9b-4ac9-9acb-cf9b7d9a16fa"
      },
      "source": [
        "print('abc ' * 5)\n",
        "print('===' * 7)"
      ],
      "execution_count": 56,
      "outputs": [
        {
          "output_type": "stream",
          "name": "stdout",
          "text": [
            "abc abc abc abc abc \n",
            "=====================\n"
          ]
        }
      ]
    },
    {
      "cell_type": "markdown",
      "metadata": {
        "id": "2VJuUbNy_ZUr"
      },
      "source": [
        "## 문자열의 list, set"
      ]
    },
    {
      "cell_type": "markdown",
      "metadata": {
        "id": "cST_Dqdov5gS"
      },
      "source": [
        "### 리스트(list)\n",
        "\n",
        "- 문자열을 리스트(list)로 타입 변환이 가능합니다.\n",
        "- 타입 변환시 한 글자를 요소로 갖는 리스트가 생성됩니다."
      ]
    },
    {
      "cell_type": "code",
      "metadata": {
        "id": "SLWiM44c_cng",
        "colab": {
          "base_uri": "https://localhost:8080/"
        },
        "outputId": "46fb77d5-3b57-42ab-9d9b-ba45b587e560"
      },
      "source": [
        "list('ABCDE')"
      ],
      "execution_count": 57,
      "outputs": [
        {
          "output_type": "execute_result",
          "data": {
            "text/plain": [
              "['A', 'B', 'C', 'D', 'E']"
            ]
          },
          "metadata": {},
          "execution_count": 57
        }
      ]
    },
    {
      "cell_type": "markdown",
      "metadata": {
        "id": "Fb2mqFztv7uK"
      },
      "source": [
        "### 세트(set)\n",
        "\n",
        "- 한 글자를 요소로 갖는 세트가 생성됩니다.\n",
        "- 세트의 특성상 요소를 생성한 후 중복된 글자는 제거됩니다."
      ]
    },
    {
      "cell_type": "code",
      "metadata": {
        "id": "XTEdxUag_evd",
        "colab": {
          "base_uri": "https://localhost:8080/"
        },
        "outputId": "eb6c2ca4-2896-42d3-9728-db60e2d3b4a7"
      },
      "source": [
        "set('AAABBBCCC')"
      ],
      "execution_count": 58,
      "outputs": [
        {
          "output_type": "execute_result",
          "data": {
            "text/plain": [
              "{'A', 'B', 'C'}"
            ]
          },
          "metadata": {},
          "execution_count": 58
        }
      ]
    },
    {
      "cell_type": "markdown",
      "metadata": {
        "id": "c-A3YeF9efWg"
      },
      "source": [
        "중복이 제거된 리스트로 생성하기 위해서는 list로 다시 타입 변환합니다."
      ]
    },
    {
      "cell_type": "code",
      "metadata": {
        "id": "8ujXOXJp_eNh",
        "colab": {
          "base_uri": "https://localhost:8080/"
        },
        "outputId": "59d22d16-c990-4a0e-b858-dae33b7afe72"
      },
      "source": [
        "list(set('AAABBBCCC'))"
      ],
      "execution_count": 59,
      "outputs": [
        {
          "output_type": "execute_result",
          "data": {
            "text/plain": [
              "['C', 'B', 'A']"
            ]
          },
          "metadata": {},
          "execution_count": 59
        }
      ]
    },
    {
      "cell_type": "markdown",
      "metadata": {
        "id": "J1r3BMiLefWh"
      },
      "source": [
        "### 연습문제\n",
        "\n",
        "- 다음 중 a, b, c에서 공통으로 사용된 알파벳(공백 포함)을 출력하세요.\n",
        "- list 형식으로 출력하세요."
      ]
    },
    {
      "cell_type": "code",
      "metadata": {
        "id": "XRDhYkBuefWh"
      },
      "source": [
        "a = 'Hello, World'\n",
        "b = 'World To World'\n",
        "c = 'world to world'"
      ],
      "execution_count": 60,
      "outputs": []
    },
    {
      "cell_type": "code",
      "metadata": {
        "id": "qOTuRY1eefWh",
        "colab": {
          "base_uri": "https://localhost:8080/"
        },
        "outputId": "ffa25eb8-78c6-4993-c54f-a63360fbad9b"
      },
      "source": [
        "# 코드를 입력해 주세요\n",
        "result = list(set(a) & set(b) & set(c))\n",
        "result.sort()\n",
        "print(result)"
      ],
      "execution_count": 62,
      "outputs": [
        {
          "output_type": "stream",
          "name": "stdout",
          "text": [
            "[' ', 'd', 'l', 'o', 'r']\n"
          ]
        }
      ]
    },
    {
      "cell_type": "markdown",
      "metadata": {
        "id": "41lHl1vAefWh"
      },
      "source": [
        "<p><strong>[출력 결과]</strong></p><pre>['o', 'l', ' ', 'd', 'r']</pre>"
      ]
    },
    {
      "cell_type": "markdown",
      "metadata": {
        "id": "X3drW8_W6_cP"
      },
      "source": [
        "## 문자열(텍스트)을 다루는 다양한 기능, 메서드(method)\n",
        "\n",
        "문자열만 가지고 있는 **고유의 편한 기능**들이 있습니다.\n",
        "\n",
        "우리는 이들 중 몇 가지를 배워 앞으로 유용하게 활용할 예정입니다."
      ]
    },
    {
      "cell_type": "markdown",
      "metadata": {
        "id": "b3crAbCA7Oy-"
      },
      "source": [
        "### split() : 분리"
      ]
    },
    {
      "cell_type": "markdown",
      "metadata": {
        "id": "OsAWWrld7UiV"
      },
      "source": [
        "- split은 문장을 특정 규칙에 의해 쪼개 주는 기능을 합니다.\n",
        "- 분리한 결과는 list 형식으로 값을 return 받습니다."
      ]
    },
    {
      "cell_type": "code",
      "metadata": {
        "id": "FC4GEYLM7WmE"
      },
      "source": [
        "a = 'This is a pen'"
      ],
      "execution_count": 63,
      "outputs": []
    },
    {
      "cell_type": "markdown",
      "metadata": {
        "id": "gJVbkVK8efWi"
      },
      "source": [
        "기본 값으로 **공백**이 지정되어 있습니다. 즉, 공백을 기준으로 분리하여 리스트로 반환합니다."
      ]
    },
    {
      "cell_type": "code",
      "metadata": {
        "id": "fGrSNzoaefWi",
        "colab": {
          "base_uri": "https://localhost:8080/"
        },
        "outputId": "636f8d68-5250-4800-a105-b5b6deb45536"
      },
      "source": [
        "a.split()"
      ],
      "execution_count": 64,
      "outputs": [
        {
          "output_type": "execute_result",
          "data": {
            "text/plain": [
              "['This', 'is', 'a', 'pen']"
            ]
          },
          "metadata": {},
          "execution_count": 64
        }
      ]
    },
    {
      "cell_type": "markdown",
      "metadata": {
        "id": "JWUQvHVc7vql"
      },
      "source": [
        "기본 값인 **공백**에서 **특정 문자**로 지정할 수 있습니다."
      ]
    },
    {
      "cell_type": "code",
      "metadata": {
        "id": "-CCwHeQk7hru"
      },
      "source": [
        "a = 'This-is-a-pen'"
      ],
      "execution_count": 65,
      "outputs": []
    },
    {
      "cell_type": "code",
      "metadata": {
        "id": "MGeoKMAZs992",
        "colab": {
          "base_uri": "https://localhost:8080/"
        },
        "outputId": "70fa8cb5-48cf-499e-e7c6-423c18fcd0f6"
      },
      "source": [
        "a.split()"
      ],
      "execution_count": 66,
      "outputs": [
        {
          "output_type": "execute_result",
          "data": {
            "text/plain": [
              "['This-is-a-pen']"
            ]
          },
          "metadata": {},
          "execution_count": 66
        }
      ]
    },
    {
      "cell_type": "code",
      "metadata": {
        "id": "fr07vyKD7lJd",
        "colab": {
          "base_uri": "https://localhost:8080/"
        },
        "outputId": "964ad1d8-4239-4013-d9e7-d3d5a3b38741"
      },
      "source": [
        "a.split('-')"
      ],
      "execution_count": 67,
      "outputs": [
        {
          "output_type": "execute_result",
          "data": {
            "text/plain": [
              "['This', 'is', 'a', 'pen']"
            ]
          },
          "metadata": {},
          "execution_count": 67
        }
      ]
    },
    {
      "cell_type": "code",
      "metadata": {
        "id": "BL7mXU7H77EE",
        "colab": {
          "base_uri": "https://localhost:8080/"
        },
        "outputId": "8328d8de-4b88-4b7f-e9bf-39e58a144ffa"
      },
      "source": [
        "aa = a.split('-')\n",
        "aa"
      ],
      "execution_count": 68,
      "outputs": [
        {
          "output_type": "execute_result",
          "data": {
            "text/plain": [
              "['This', 'is', 'a', 'pen']"
            ]
          },
          "metadata": {},
          "execution_count": 68
        }
      ]
    },
    {
      "cell_type": "markdown",
      "metadata": {
        "id": "M0G2zFIuefWj"
      },
      "source": [
        "`aa`에 반환된 리스트를 대입 후 index로 값을 조회할 수 있습니다."
      ]
    },
    {
      "cell_type": "code",
      "metadata": {
        "id": "fcoZjewf7-Cl",
        "colab": {
          "base_uri": "https://localhost:8080/",
          "height": 35
        },
        "outputId": "6f5bd89c-7235-459e-8f9b-52422f699086"
      },
      "source": [
        "aa[0]"
      ],
      "execution_count": 69,
      "outputs": [
        {
          "output_type": "execute_result",
          "data": {
            "text/plain": [
              "'This'"
            ],
            "application/vnd.google.colaboratory.intrinsic+json": {
              "type": "string"
            }
          },
          "metadata": {},
          "execution_count": 69
        }
      ]
    },
    {
      "cell_type": "code",
      "metadata": {
        "id": "Tdu5YodD8ByV",
        "colab": {
          "base_uri": "https://localhost:8080/",
          "height": 35
        },
        "outputId": "8bf2d5c4-c638-4c2f-9f72-a06b7cf63786"
      },
      "source": [
        "aa[2]"
      ],
      "execution_count": 70,
      "outputs": [
        {
          "output_type": "execute_result",
          "data": {
            "text/plain": [
              "'a'"
            ],
            "application/vnd.google.colaboratory.intrinsic+json": {
              "type": "string"
            }
          },
          "metadata": {},
          "execution_count": 70
        }
      ]
    },
    {
      "cell_type": "code",
      "metadata": {
        "id": "A3bVCP1o8CgV",
        "colab": {
          "base_uri": "https://localhost:8080/",
          "height": 35
        },
        "outputId": "3ec19e7e-4fd3-4686-d80f-94c2afee48db"
      },
      "source": [
        "aa[0] + aa[2]"
      ],
      "execution_count": 71,
      "outputs": [
        {
          "output_type": "execute_result",
          "data": {
            "text/plain": [
              "'Thisa'"
            ],
            "application/vnd.google.colaboratory.intrinsic+json": {
              "type": "string"
            }
          },
          "metadata": {},
          "execution_count": 71
        }
      ]
    },
    {
      "cell_type": "markdown",
      "metadata": {
        "id": "KCsSZDFzefWj"
      },
      "source": [
        "**한글**도 동일하게 적용됩니다."
      ]
    },
    {
      "cell_type": "code",
      "metadata": {
        "id": "8cV3DoUT8X5P"
      },
      "source": [
        "a = '한글은 어떻게 될까요?'"
      ],
      "execution_count": 72,
      "outputs": []
    },
    {
      "cell_type": "code",
      "metadata": {
        "id": "Hjb4bU-a8Ebd",
        "colab": {
          "base_uri": "https://localhost:8080/"
        },
        "outputId": "11b90f42-a755-42d6-e596-00645a3c380f"
      },
      "source": [
        "a.split()"
      ],
      "execution_count": 73,
      "outputs": [
        {
          "output_type": "execute_result",
          "data": {
            "text/plain": [
              "['한글은', '어떻게', '될까요?']"
            ]
          },
          "metadata": {},
          "execution_count": 73
        }
      ]
    },
    {
      "cell_type": "markdown",
      "metadata": {
        "id": "7DcLmsWdefWk"
      },
      "source": [
        "### 연습문제\n",
        "\n",
        "`sample` 변수를 활용하여 다음의 출력을 가지도록 문자열을 분리하세요"
      ]
    },
    {
      "cell_type": "code",
      "metadata": {
        "id": "7DPYGgiPefWk"
      },
      "source": [
        "sample = 'abc-def.789/100'"
      ],
      "execution_count": 74,
      "outputs": []
    },
    {
      "cell_type": "code",
      "metadata": {
        "id": "7pLCyTPEefWk",
        "colab": {
          "base_uri": "https://localhost:8080/"
        },
        "outputId": "b953b1a6-9780-4ce2-cdd2-22140ac158a6"
      },
      "source": [
        "# 코드를 입력해 주세요\n",
        "sample.split('.')"
      ],
      "execution_count": 75,
      "outputs": [
        {
          "output_type": "execute_result",
          "data": {
            "text/plain": [
              "['abc-def', '789/100']"
            ]
          },
          "metadata": {},
          "execution_count": 75
        }
      ]
    },
    {
      "cell_type": "markdown",
      "metadata": {
        "id": "P5GhJIiTefWk"
      },
      "source": [
        "<p><strong>[출력 결과]</strong></p><pre>['abc-def', '789/100']</pre>"
      ]
    },
    {
      "cell_type": "code",
      "metadata": {
        "id": "3PCCQJ2refWk",
        "colab": {
          "base_uri": "https://localhost:8080/"
        },
        "outputId": "981b49d7-2415-43bc-8f37-99e7af6459c9"
      },
      "source": [
        "# 코드를 입력해 주세요\n",
        "sample.split('-')"
      ],
      "execution_count": 76,
      "outputs": [
        {
          "output_type": "execute_result",
          "data": {
            "text/plain": [
              "['abc', 'def.789/100']"
            ]
          },
          "metadata": {},
          "execution_count": 76
        }
      ]
    },
    {
      "cell_type": "markdown",
      "metadata": {
        "id": "W-t668T2efWk"
      },
      "source": [
        "<p><strong>[출력 결과]</strong></p><pre>['abc', 'def.789/100']</pre>"
      ]
    },
    {
      "cell_type": "markdown",
      "metadata": {
        "id": "YiAIxxl3-JZk"
      },
      "source": [
        "### join() : 합치기\n",
        "\n",
        "- 결합하고자 하는 문자에 .join() 안에 리스트를 지정하여 결합할 수 있습니다."
      ]
    },
    {
      "cell_type": "code",
      "metadata": {
        "id": "ovA1xnOEwSZ6",
        "colab": {
          "base_uri": "https://localhost:8080/",
          "height": 35
        },
        "outputId": "f0ee44f9-5bdb-4a99-8381-37775ede0d85"
      },
      "source": [
        "'$$'.join(['010',  '1234', '5678'])"
      ],
      "execution_count": 77,
      "outputs": [
        {
          "output_type": "execute_result",
          "data": {
            "text/plain": [
              "'010$$1234$$5678'"
            ],
            "application/vnd.google.colaboratory.intrinsic+json": {
              "type": "string"
            }
          },
          "metadata": {},
          "execution_count": 77
        }
      ]
    },
    {
      "cell_type": "code",
      "metadata": {
        "id": "qlufBtYj-Un_",
        "colab": {
          "base_uri": "https://localhost:8080/",
          "height": 35
        },
        "outputId": "724e9dc5-5de6-412e-c977-71cece502ac1"
      },
      "source": [
        "'-'.join('ABCDE')"
      ],
      "execution_count": 78,
      "outputs": [
        {
          "output_type": "execute_result",
          "data": {
            "text/plain": [
              "'A-B-C-D-E'"
            ],
            "application/vnd.google.colaboratory.intrinsic+json": {
              "type": "string"
            }
          },
          "metadata": {},
          "execution_count": 78
        }
      ]
    },
    {
      "cell_type": "markdown",
      "metadata": {
        "id": "aYCF2N-cefWl"
      },
      "source": [
        "### 연습문제"
      ]
    },
    {
      "cell_type": "markdown",
      "metadata": {
        "id": "GaZU-g9YefWl"
      },
      "source": [
        "sample = ['Python', 'is', 'too', 'interesting']\n",
        "\n",
        "리스트를 Python is too interesting 이라는 문자열로 출력하세요"
      ]
    },
    {
      "cell_type": "code",
      "metadata": {
        "id": "gnjn0VnMefWl"
      },
      "source": [
        "sample = ['Python', 'is', 'too', 'interesting']"
      ],
      "execution_count": 79,
      "outputs": []
    },
    {
      "cell_type": "code",
      "metadata": {
        "id": "LkHyWI6OefWl",
        "colab": {
          "base_uri": "https://localhost:8080/",
          "height": 35
        },
        "outputId": "07dcf815-4479-45ec-ba6e-153501c1938c"
      },
      "source": [
        "# 코드를 입력해 주세요\n",
        "\" \".join(sample)"
      ],
      "execution_count": 80,
      "outputs": [
        {
          "output_type": "execute_result",
          "data": {
            "text/plain": [
              "'Python is too interesting'"
            ],
            "application/vnd.google.colaboratory.intrinsic+json": {
              "type": "string"
            }
          },
          "metadata": {},
          "execution_count": 80
        }
      ]
    },
    {
      "cell_type": "markdown",
      "metadata": {
        "id": "ulh6HQ9pefWm"
      },
      "source": [
        "<p><strong>[출력 결과]</strong></p><pre>'Python is too interesting'</pre>"
      ]
    },
    {
      "cell_type": "markdown",
      "metadata": {
        "id": "dBxYW5wZ8GP-"
      },
      "source": [
        "### lower(), upper() : 소문자 / 대문자로 만들기"
      ]
    },
    {
      "cell_type": "code",
      "metadata": {
        "id": "_jM72wdq8I5l"
      },
      "source": [
        "a = 'My name is Teddy'"
      ],
      "execution_count": 81,
      "outputs": []
    },
    {
      "cell_type": "markdown",
      "metadata": {
        "id": "aLvNB1v_efWm"
      },
      "source": [
        "소문자로 변경"
      ]
    },
    {
      "cell_type": "code",
      "metadata": {
        "id": "nzwSAYnY8PMt",
        "colab": {
          "base_uri": "https://localhost:8080/",
          "height": 35
        },
        "outputId": "6f120113-332d-4006-ecc0-8147a7f5fb5a"
      },
      "source": [
        "a.lower()"
      ],
      "execution_count": 82,
      "outputs": [
        {
          "output_type": "execute_result",
          "data": {
            "text/plain": [
              "'my name is teddy'"
            ],
            "application/vnd.google.colaboratory.intrinsic+json": {
              "type": "string"
            }
          },
          "metadata": {},
          "execution_count": 82
        }
      ]
    },
    {
      "cell_type": "markdown",
      "metadata": {
        "id": "hcnGVW_ZefWm"
      },
      "source": [
        "대문자로 변경"
      ]
    },
    {
      "cell_type": "code",
      "metadata": {
        "id": "-WzdUBjE8Q45",
        "colab": {
          "base_uri": "https://localhost:8080/",
          "height": 35
        },
        "outputId": "6d057d0d-460b-4058-d692-1c0ce92c44d3"
      },
      "source": [
        "a.upper()"
      ],
      "execution_count": 83,
      "outputs": [
        {
          "output_type": "execute_result",
          "data": {
            "text/plain": [
              "'MY NAME IS TEDDY'"
            ],
            "application/vnd.google.colaboratory.intrinsic+json": {
              "type": "string"
            }
          },
          "metadata": {},
          "execution_count": 83
        }
      ]
    },
    {
      "cell_type": "markdown",
      "metadata": {
        "id": "zgO8rcbUefWn"
      },
      "source": [
        "한글에는 대소문자 구분이 없습니다."
      ]
    },
    {
      "cell_type": "code",
      "metadata": {
        "id": "LCvVGpAs8V_e"
      },
      "source": [
        "a = '한글엔 대소문자가 없어요ㅠ'"
      ],
      "execution_count": 84,
      "outputs": []
    },
    {
      "cell_type": "code",
      "metadata": {
        "id": "Als5HOz28hM5",
        "colab": {
          "base_uri": "https://localhost:8080/",
          "height": 35
        },
        "outputId": "5a770f48-31ce-4dbd-a819-d151e43dcacc"
      },
      "source": [
        "a.lower()"
      ],
      "execution_count": 85,
      "outputs": [
        {
          "output_type": "execute_result",
          "data": {
            "text/plain": [
              "'한글엔 대소문자가 없어요ㅠ'"
            ],
            "application/vnd.google.colaboratory.intrinsic+json": {
              "type": "string"
            }
          },
          "metadata": {},
          "execution_count": 85
        }
      ]
    },
    {
      "cell_type": "code",
      "metadata": {
        "id": "rjPBxrK08iFt",
        "colab": {
          "base_uri": "https://localhost:8080/",
          "height": 35
        },
        "outputId": "56d9e5e2-0242-424a-a0a7-6798ac3cb752"
      },
      "source": [
        "a.upper()"
      ],
      "execution_count": 86,
      "outputs": [
        {
          "output_type": "execute_result",
          "data": {
            "text/plain": [
              "'한글엔 대소문자가 없어요ㅠ'"
            ],
            "application/vnd.google.colaboratory.intrinsic+json": {
              "type": "string"
            }
          },
          "metadata": {},
          "execution_count": 86
        }
      ]
    },
    {
      "cell_type": "markdown",
      "metadata": {
        "id": "ZThLS-KL8rA8"
      },
      "source": [
        "## startswith, endswith\n",
        "\n",
        "시작과, 끝이 맞는지 결과를 bool로 반환합니다."
      ]
    },
    {
      "cell_type": "code",
      "metadata": {
        "id": "uuTemUdN0w2B"
      },
      "source": [
        "a = '01-sample.png'"
      ],
      "execution_count": 87,
      "outputs": []
    },
    {
      "cell_type": "markdown",
      "metadata": {
        "id": "EavY7Aun0kjs"
      },
      "source": [
        "### startswith() : 시작하는\n",
        "\n",
        "- 지정한 문자열로 시작하면 True, 그렇지 않다면 False를 반환합니다."
      ]
    },
    {
      "cell_type": "code",
      "metadata": {
        "id": "8pNYKEFi85Ie",
        "colab": {
          "base_uri": "https://localhost:8080/"
        },
        "outputId": "f53bb64c-c99d-439a-c462-c228fcc338bc"
      },
      "source": [
        "a.startswith('01')"
      ],
      "execution_count": 88,
      "outputs": [
        {
          "output_type": "execute_result",
          "data": {
            "text/plain": [
              "True"
            ]
          },
          "metadata": {},
          "execution_count": 88
        }
      ]
    },
    {
      "cell_type": "code",
      "metadata": {
        "id": "D858M3T00b3z",
        "colab": {
          "base_uri": "https://localhost:8080/"
        },
        "outputId": "1cd06e77-ee67-4744-d7c2-64b06c743d08"
      },
      "source": [
        "a.startswith('02')"
      ],
      "execution_count": 89,
      "outputs": [
        {
          "output_type": "execute_result",
          "data": {
            "text/plain": [
              "False"
            ]
          },
          "metadata": {},
          "execution_count": 89
        }
      ]
    },
    {
      "cell_type": "markdown",
      "metadata": {
        "id": "oGXxMjlf0cyr"
      },
      "source": [
        "### endswith() : 끝나는\n",
        "\n",
        "- 지정한 문자열로 끝나면 True, 그렇지 않다면 False를 반환합니다."
      ]
    },
    {
      "cell_type": "code",
      "metadata": {
        "id": "VCpn1plG892e",
        "colab": {
          "base_uri": "https://localhost:8080/"
        },
        "outputId": "70d28906-ec64-4f87-fa42-61309c19d8a4"
      },
      "source": [
        "a.endswith('.png')"
      ],
      "execution_count": 90,
      "outputs": [
        {
          "output_type": "execute_result",
          "data": {
            "text/plain": [
              "True"
            ]
          },
          "metadata": {},
          "execution_count": 90
        }
      ]
    },
    {
      "cell_type": "code",
      "metadata": {
        "id": "1F4JLtPY9BZl",
        "colab": {
          "base_uri": "https://localhost:8080/"
        },
        "outputId": "9fc2ad52-0519-4c4c-8a8b-a80387a3c951"
      },
      "source": [
        "a.endswith('.jpg')"
      ],
      "execution_count": 91,
      "outputs": [
        {
          "output_type": "execute_result",
          "data": {
            "text/plain": [
              "False"
            ]
          },
          "metadata": {},
          "execution_count": 91
        }
      ]
    },
    {
      "cell_type": "markdown",
      "metadata": {
        "id": "BlmsgCrK9VVk"
      },
      "source": [
        "## replace() : 문자열 바꾸기\n",
        "\n",
        "- 문자열에 **replace(바꿀 대상, 바꾸려는 문자열)** 지정하여 문자열을 변경합니다.\n",
        "- 결과는 복사본이 만들어져 반환됩니다."
      ]
    },
    {
      "cell_type": "code",
      "metadata": {
        "id": "ANj2HqcK9Vb8"
      },
      "source": [
        "a = '01-sample.png'"
      ],
      "execution_count": 92,
      "outputs": []
    },
    {
      "cell_type": "code",
      "metadata": {
        "id": "EEjlaLiV9end",
        "colab": {
          "base_uri": "https://localhost:8080/",
          "height": 35
        },
        "outputId": "cebf3d8f-522f-4637-deec-ec31043bd100"
      },
      "source": [
        "a.replace('.png', '.jpg')"
      ],
      "execution_count": 93,
      "outputs": [
        {
          "output_type": "execute_result",
          "data": {
            "text/plain": [
              "'01-sample.jpg'"
            ],
            "application/vnd.google.colaboratory.intrinsic+json": {
              "type": "string"
            }
          },
          "metadata": {},
          "execution_count": 93
        }
      ]
    },
    {
      "cell_type": "markdown",
      "metadata": {
        "id": "96-PVLbgefWp"
      },
      "source": [
        "반환값은 복사본이며 원본에 **변경사항이 바로 적용되지 않습니다.**"
      ]
    },
    {
      "cell_type": "code",
      "metadata": {
        "id": "GWeRrKH59h6M",
        "colab": {
          "base_uri": "https://localhost:8080/",
          "height": 35
        },
        "outputId": "fb811328-d709-45e8-8d1a-8fe0d5425056"
      },
      "source": [
        "a"
      ],
      "execution_count": 94,
      "outputs": [
        {
          "output_type": "execute_result",
          "data": {
            "text/plain": [
              "'01-sample.png'"
            ],
            "application/vnd.google.colaboratory.intrinsic+json": {
              "type": "string"
            }
          },
          "metadata": {},
          "execution_count": 94
        }
      ]
    },
    {
      "cell_type": "code",
      "metadata": {
        "id": "ecF_C16h9jYs"
      },
      "source": [
        "new_a = a.replace('.png', '.jpg')"
      ],
      "execution_count": 95,
      "outputs": []
    },
    {
      "cell_type": "code",
      "metadata": {
        "id": "A3tvDKm39nW0",
        "colab": {
          "base_uri": "https://localhost:8080/"
        },
        "outputId": "e808ef31-a2b3-4ba4-c3d5-e41a36054aae"
      },
      "source": [
        "print(new_a)"
      ],
      "execution_count": 96,
      "outputs": [
        {
          "output_type": "stream",
          "name": "stdout",
          "text": [
            "01-sample.jpg\n"
          ]
        }
      ]
    },
    {
      "cell_type": "markdown",
      "metadata": {
        "id": "f2XosBBa97Uk"
      },
      "source": [
        "## 불필요한 공백 제거"
      ]
    },
    {
      "cell_type": "code",
      "metadata": {
        "id": "KsUFyKpj9-eL"
      },
      "source": [
        "a = '    01-sample.png                '"
      ],
      "execution_count": 97,
      "outputs": []
    },
    {
      "cell_type": "code",
      "metadata": {
        "id": "EX31a4RRz3mX",
        "colab": {
          "base_uri": "https://localhost:8080/"
        },
        "outputId": "1ce8961e-f7ac-4544-b395-690cc8e479e7"
      },
      "source": [
        "print(a)"
      ],
      "execution_count": 98,
      "outputs": [
        {
          "output_type": "stream",
          "name": "stdout",
          "text": [
            "    01-sample.png                \n"
          ]
        }
      ]
    },
    {
      "cell_type": "markdown",
      "metadata": {
        "id": "x2BIXr3a-IbK"
      },
      "source": [
        "**strip은 불필요한 공백을 제거**해 줍니다."
      ]
    },
    {
      "cell_type": "markdown",
      "metadata": {
        "id": "Zg3o3-6pzjxH"
      },
      "source": [
        "### lstrip() : 왼쪽 공백 제거"
      ]
    },
    {
      "cell_type": "code",
      "metadata": {
        "id": "9-tTlJmEzqAi",
        "colab": {
          "base_uri": "https://localhost:8080/",
          "height": 35
        },
        "outputId": "6e7c70aa-94b3-4999-e46b-8b9e9135a461"
      },
      "source": [
        "a.lstrip()"
      ],
      "execution_count": 99,
      "outputs": [
        {
          "output_type": "execute_result",
          "data": {
            "text/plain": [
              "'01-sample.png                '"
            ],
            "application/vnd.google.colaboratory.intrinsic+json": {
              "type": "string"
            }
          },
          "metadata": {},
          "execution_count": 99
        }
      ]
    },
    {
      "cell_type": "markdown",
      "metadata": {
        "id": "MLR04FyNz0ra"
      },
      "source": [
        "### rstrip() : 오른쪽 공백 제거"
      ]
    },
    {
      "cell_type": "code",
      "metadata": {
        "id": "6kYVeqJTz81g",
        "colab": {
          "base_uri": "https://localhost:8080/",
          "height": 35
        },
        "outputId": "a34fd5a0-016e-47d8-c58b-0b9a61f8b78f"
      },
      "source": [
        "a.rstrip()"
      ],
      "execution_count": 100,
      "outputs": [
        {
          "output_type": "execute_result",
          "data": {
            "text/plain": [
              "'    01-sample.png'"
            ],
            "application/vnd.google.colaboratory.intrinsic+json": {
              "type": "string"
            }
          },
          "metadata": {},
          "execution_count": 100
        }
      ]
    },
    {
      "cell_type": "markdown",
      "metadata": {
        "id": "TkvP_X0Ez-GA"
      },
      "source": [
        "### strip() : 양쪽 공백 제거"
      ]
    },
    {
      "cell_type": "code",
      "metadata": {
        "id": "YiShmptM-G_b",
        "colab": {
          "base_uri": "https://localhost:8080/",
          "height": 35
        },
        "outputId": "ecb448f3-eb52-4938-ea0a-27a1acaf765c"
      },
      "source": [
        "a.strip()"
      ],
      "execution_count": 101,
      "outputs": [
        {
          "output_type": "execute_result",
          "data": {
            "text/plain": [
              "'01-sample.png'"
            ],
            "application/vnd.google.colaboratory.intrinsic+json": {
              "type": "string"
            }
          },
          "metadata": {},
          "execution_count": 101
        }
      ]
    },
    {
      "cell_type": "code",
      "metadata": {
        "id": "-HVB1VA1xZMs"
      },
      "source": [],
      "execution_count": null,
      "outputs": []
    }
  ]
}