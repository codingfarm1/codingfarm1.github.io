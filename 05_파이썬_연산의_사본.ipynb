{
  "nbformat": 4,
  "nbformat_minor": 0,
  "metadata": {
    "colab": {
      "provenance": [],
      "include_colab_link": true
    },
    "kernelspec": {
      "display_name": "Python 3",
      "language": "python",
      "name": "python3"
    },
    "language_info": {
      "codemirror_mode": {
        "name": "ipython",
        "version": 3
      },
      "file_extension": ".py",
      "mimetype": "text/x-python",
      "name": "python",
      "nbconvert_exporter": "python",
      "pygments_lexer": "ipython3",
      "version": "3.7.10"
    }
  },
  "cells": [
    {
      "cell_type": "markdown",
      "metadata": {
        "id": "view-in-github",
        "colab_type": "text"
      },
      "source": [
        "<a href=\"https://colab.research.google.com/github/codingfarm1/codingfarm1.github.io/blob/master/05_%ED%8C%8C%EC%9D%B4%EC%8D%AC_%EC%97%B0%EC%82%B0%EC%9D%98_%EC%82%AC%EB%B3%B8.ipynb\" target=\"_parent\"><img src=\"https://colab.research.google.com/assets/colab-badge.svg\" alt=\"Open In Colab\"/></a>"
      ]
    },
    {
      "cell_type": "markdown",
      "metadata": {
        "id": "jqa_7SA3jzYX"
      },
      "source": [
        "# 연산"
      ]
    },
    {
      "cell_type": "markdown",
      "metadata": {
        "id": "LltjCE7kj5kA"
      },
      "source": [
        "Excel에서도 **sum이나 +, -** 기호로 셀과 셀 단위, 열과 열단위, 행과 행단위 연산이 가능합니다.\n",
        "\n",
        "python에서도 마찬가지로 사칙 연산외 다양한 연산 기능을 기본으로 제공해 줍니다.\n",
        "(**사용법도 물론 매우 쉽습니다^^**)"
      ]
    },
    {
      "cell_type": "markdown",
      "metadata": {
        "id": "xRX1SSoskTdo"
      },
      "source": [
        "## 사칙연산 (+, -, /, *)"
      ]
    },
    {
      "cell_type": "markdown",
      "metadata": {
        "id": "EFebGxnjkXwr"
      },
      "source": [
        "* 더하기 (+)\n",
        "* 빼기 (-)\n",
        "* 나누기 (/)\n",
        "* 곱하기 (*)"
      ]
    },
    {
      "cell_type": "code",
      "metadata": {
        "id": "Ks6gjRfkkt9I"
      },
      "source": [
        "a = 10\n",
        "b = 3"
      ],
      "execution_count": 1,
      "outputs": []
    },
    {
      "cell_type": "markdown",
      "metadata": {
        "id": "8DshdUKZkoeX"
      },
      "source": [
        "### + : 덧셈"
      ]
    },
    {
      "cell_type": "code",
      "metadata": {
        "id": "GRJdclDnkl0v",
        "colab": {
          "base_uri": "https://localhost:8080/"
        },
        "outputId": "ad45cfc5-0914-4166-9087-fa0d460e5bc0"
      },
      "source": [
        "a + b"
      ],
      "execution_count": 2,
      "outputs": [
        {
          "output_type": "execute_result",
          "data": {
            "text/plain": [
              "13"
            ]
          },
          "metadata": {},
          "execution_count": 2
        }
      ]
    },
    {
      "cell_type": "code",
      "metadata": {
        "id": "M3NXutOf2k9O",
        "colab": {
          "base_uri": "https://localhost:8080/"
        },
        "outputId": "aa4e4b38-66af-40be-8008-10c8e484093e"
      },
      "source": [
        "10 + 234"
      ],
      "execution_count": 3,
      "outputs": [
        {
          "output_type": "execute_result",
          "data": {
            "text/plain": [
              "244"
            ]
          },
          "metadata": {},
          "execution_count": 3
        }
      ]
    },
    {
      "cell_type": "markdown",
      "metadata": {
        "id": "slDLupTo39N9"
      },
      "source": [
        "**+=** 기호는 + (덧셈) 한 뒤 자기 자신의 변수에 재 할당합니다.\n",
        "\n",
        "(예시) `a += 3` 은 `a = a + 3`과 같습니다."
      ]
    },
    {
      "cell_type": "code",
      "metadata": {
        "id": "W1z5yPZX328d",
        "colab": {
          "base_uri": "https://localhost:8080/"
        },
        "outputId": "9cfe190f-56c8-42d8-91e3-535ffb46a472"
      },
      "source": [
        "s = 10\n",
        "s += 5\n",
        "print(s)"
      ],
      "execution_count": 4,
      "outputs": [
        {
          "output_type": "stream",
          "name": "stdout",
          "text": [
            "15\n"
          ]
        }
      ]
    },
    {
      "cell_type": "markdown",
      "metadata": {
        "id": "iZVY_FHJknXf"
      },
      "source": [
        "### - : 뺄셈"
      ]
    },
    {
      "cell_type": "code",
      "metadata": {
        "id": "fZtYiLERkrr0",
        "colab": {
          "base_uri": "https://localhost:8080/"
        },
        "outputId": "8faa60e8-1898-4ea8-b6f9-c674a82664d3"
      },
      "source": [
        "a - b"
      ],
      "execution_count": 5,
      "outputs": [
        {
          "output_type": "execute_result",
          "data": {
            "text/plain": [
              "7"
            ]
          },
          "metadata": {},
          "execution_count": 5
        }
      ]
    },
    {
      "cell_type": "code",
      "metadata": {
        "id": "7fX0CkXK3Sto",
        "colab": {
          "base_uri": "https://localhost:8080/"
        },
        "outputId": "262c50e3-fff3-431d-a5e0-bb6bd15a1bb7"
      },
      "source": [
        "10 - 9"
      ],
      "execution_count": 6,
      "outputs": [
        {
          "output_type": "execute_result",
          "data": {
            "text/plain": [
              "1"
            ]
          },
          "metadata": {},
          "execution_count": 6
        }
      ]
    },
    {
      "cell_type": "code",
      "metadata": {
        "id": "PsHv93O_4C7L",
        "colab": {
          "base_uri": "https://localhost:8080/"
        },
        "outputId": "e4d4ded9-3cd4-459c-968a-b641dd755e07"
      },
      "source": [
        "s = 10\n",
        "s -= 3\n",
        "print(s)"
      ],
      "execution_count": 7,
      "outputs": [
        {
          "output_type": "stream",
          "name": "stdout",
          "text": [
            "7\n"
          ]
        }
      ]
    },
    {
      "cell_type": "markdown",
      "metadata": {
        "id": "Ofd8aJrXk0c5"
      },
      "source": [
        "### / : 나눗셈"
      ]
    },
    {
      "cell_type": "code",
      "metadata": {
        "id": "4wy7Uqik4FZS",
        "colab": {
          "base_uri": "https://localhost:8080/"
        },
        "outputId": "3ef823ef-7e35-48a2-c2c6-edf9d1d7be58"
      },
      "source": [
        "a, b"
      ],
      "execution_count": 8,
      "outputs": [
        {
          "output_type": "execute_result",
          "data": {
            "text/plain": [
              "(10, 3)"
            ]
          },
          "metadata": {},
          "execution_count": 8
        }
      ]
    },
    {
      "cell_type": "code",
      "metadata": {
        "id": "2a24yJmtk2Ha",
        "colab": {
          "base_uri": "https://localhost:8080/"
        },
        "outputId": "46ecfa14-a7ff-4df6-8415-8a472f7d61e1"
      },
      "source": [
        "a / b"
      ],
      "execution_count": 9,
      "outputs": [
        {
          "output_type": "execute_result",
          "data": {
            "text/plain": [
              "3.3333333333333335"
            ]
          },
          "metadata": {},
          "execution_count": 9
        }
      ]
    },
    {
      "cell_type": "code",
      "metadata": {
        "id": "bwVUkNmK3VWh",
        "colab": {
          "base_uri": "https://localhost:8080/"
        },
        "outputId": "88500a4f-b9a1-484b-cd49-eff7c1fefb67"
      },
      "source": [
        "10.7 / 7"
      ],
      "execution_count": 10,
      "outputs": [
        {
          "output_type": "execute_result",
          "data": {
            "text/plain": [
              "1.5285714285714285"
            ]
          },
          "metadata": {},
          "execution_count": 10
        }
      ]
    },
    {
      "cell_type": "code",
      "metadata": {
        "id": "11xPTy8B4Ouk",
        "colab": {
          "base_uri": "https://localhost:8080/"
        },
        "outputId": "f86f8456-e1f0-466d-9df7-a7453cfd58ba"
      },
      "source": [
        "s = 10\n",
        "s /= 2\n",
        "print(s)"
      ],
      "execution_count": 11,
      "outputs": [
        {
          "output_type": "stream",
          "name": "stdout",
          "text": [
            "5.0\n"
          ]
        }
      ]
    },
    {
      "cell_type": "markdown",
      "metadata": {
        "id": "EZP9onY-k2vf"
      },
      "source": [
        "### * : 곱셈"
      ]
    },
    {
      "cell_type": "code",
      "metadata": {
        "id": "n_2JEGaF4NV5",
        "colab": {
          "base_uri": "https://localhost:8080/"
        },
        "outputId": "e525a800-6981-4b8e-ae03-a2fced3c2d50"
      },
      "source": [
        "a, b"
      ],
      "execution_count": 12,
      "outputs": [
        {
          "output_type": "execute_result",
          "data": {
            "text/plain": [
              "(10, 3)"
            ]
          },
          "metadata": {},
          "execution_count": 12
        }
      ]
    },
    {
      "cell_type": "code",
      "metadata": {
        "id": "MhOHnVNVk4iu",
        "colab": {
          "base_uri": "https://localhost:8080/"
        },
        "outputId": "48d74356-a63b-4875-87ed-2631f7206069"
      },
      "source": [
        "a * b"
      ],
      "execution_count": 13,
      "outputs": [
        {
          "output_type": "execute_result",
          "data": {
            "text/plain": [
              "30"
            ]
          },
          "metadata": {},
          "execution_count": 13
        }
      ]
    },
    {
      "cell_type": "code",
      "metadata": {
        "id": "Z1-z1y533YEe",
        "colab": {
          "base_uri": "https://localhost:8080/"
        },
        "outputId": "921ddf6a-f24a-4d58-cd44-97cb929d65dc"
      },
      "source": [
        "a * 10"
      ],
      "execution_count": 14,
      "outputs": [
        {
          "output_type": "execute_result",
          "data": {
            "text/plain": [
              "100"
            ]
          },
          "metadata": {},
          "execution_count": 14
        }
      ]
    },
    {
      "cell_type": "code",
      "metadata": {
        "id": "bsv0u-m24Wk9",
        "colab": {
          "base_uri": "https://localhost:8080/"
        },
        "outputId": "f9fa1179-2848-4501-fc48-6a857e5ae96f"
      },
      "source": [
        "s = 20\n",
        "s *= 3\n",
        "print(s)"
      ],
      "execution_count": 15,
      "outputs": [
        {
          "output_type": "stream",
          "name": "stdout",
          "text": [
            "60\n"
          ]
        }
      ]
    },
    {
      "cell_type": "markdown",
      "metadata": {
        "id": "6lkBwXXRk8Rn"
      },
      "source": [
        "# 조금 생소할 수 있는 연산자 (%, //, **)"
      ]
    },
    {
      "cell_type": "markdown",
      "metadata": {
        "id": "cAmmwPb0lPD8"
      },
      "source": [
        "- `//`: **floor division** 연산자입니다. 나눗셈에 대한 **몫**을 정수형으로 구함\n",
        "- `%`: **modulus** 연산자입니다. 몫을 나눈 **나머지**를 구함\n",
        "- `**`: 제곱 연산"
      ]
    },
    {
      "cell_type": "markdown",
      "metadata": {
        "id": "ltM2fZ5SyHhd"
      },
      "source": [
        "### // : Floor Division\n",
        "\n",
        "- 나눗셈에 대한 **몫**을 정수형으로 구함"
      ]
    },
    {
      "cell_type": "code",
      "metadata": {
        "id": "yjR5tEc7yHhd"
      },
      "source": [
        "a = 10\n",
        "b = 3"
      ],
      "execution_count": 16,
      "outputs": []
    },
    {
      "cell_type": "markdown",
      "metadata": {
        "id": "l-J1IMLOyHhd"
      },
      "source": [
        "일반 나눗셈 연산 결과"
      ]
    },
    {
      "cell_type": "code",
      "metadata": {
        "id": "dk9Y2AL_yHhd",
        "colab": {
          "base_uri": "https://localhost:8080/"
        },
        "outputId": "62956994-2a01-4c64-c1b8-556bb873f50e"
      },
      "source": [
        "a / b"
      ],
      "execution_count": 17,
      "outputs": [
        {
          "output_type": "execute_result",
          "data": {
            "text/plain": [
              "3.3333333333333335"
            ]
          },
          "metadata": {},
          "execution_count": 17
        }
      ]
    },
    {
      "cell_type": "markdown",
      "metadata": {
        "id": "beB1E967yHhe"
      },
      "source": [
        "// 연산 결과"
      ]
    },
    {
      "cell_type": "code",
      "metadata": {
        "id": "mIZJQXAVyHhe",
        "colab": {
          "base_uri": "https://localhost:8080/"
        },
        "outputId": "28c6bebf-3250-42bb-e606-e3965dcc9076"
      },
      "source": [
        "a // b"
      ],
      "execution_count": 18,
      "outputs": [
        {
          "output_type": "execute_result",
          "data": {
            "text/plain": [
              "3"
            ]
          },
          "metadata": {},
          "execution_count": 18
        }
      ]
    },
    {
      "cell_type": "markdown",
      "metadata": {
        "id": "0XTyKP1Vl50Q"
      },
      "source": [
        "### % : modulus\n",
        "\n",
        "- 몫을 나눈 **나머지**를 구합니다."
      ]
    },
    {
      "cell_type": "code",
      "metadata": {
        "id": "iC8PVhovyHhe"
      },
      "source": [
        "a = 10\n",
        "b = 3"
      ],
      "execution_count": 19,
      "outputs": []
    },
    {
      "cell_type": "code",
      "metadata": {
        "id": "woV-i1v5lrcP",
        "colab": {
          "base_uri": "https://localhost:8080/"
        },
        "outputId": "84b237b1-de34-455e-e985-c2f8800bbfd8"
      },
      "source": [
        "a % b"
      ],
      "execution_count": 20,
      "outputs": [
        {
          "output_type": "execute_result",
          "data": {
            "text/plain": [
              "1"
            ]
          },
          "metadata": {},
          "execution_count": 20
        }
      ]
    },
    {
      "cell_type": "markdown",
      "metadata": {
        "id": "kgsdhcm6mCe2"
      },
      "source": [
        "### ** : 제곱 연산\n",
        "\n",
        "- 제곱 연산을 수행합니다."
      ]
    },
    {
      "cell_type": "code",
      "metadata": {
        "id": "OqLdUpt1yHhe"
      },
      "source": [
        "a = 10\n",
        "b = 3"
      ],
      "execution_count": 21,
      "outputs": []
    },
    {
      "cell_type": "code",
      "metadata": {
        "id": "PI2Cb9V_mFvG",
        "colab": {
          "base_uri": "https://localhost:8080/"
        },
        "outputId": "60790d57-a7a8-4f2d-d01d-a064ec8965a8"
      },
      "source": [
        "a ** b"
      ],
      "execution_count": 22,
      "outputs": [
        {
          "output_type": "execute_result",
          "data": {
            "text/plain": [
              "1000"
            ]
          },
          "metadata": {},
          "execution_count": 22
        }
      ]
    },
    {
      "cell_type": "code",
      "metadata": {
        "id": "AkltfELfmGwJ",
        "colab": {
          "base_uri": "https://localhost:8080/"
        },
        "outputId": "ca350212-f591-460f-d4a4-216ada3b5152"
      },
      "source": [
        "2 ** 10"
      ],
      "execution_count": 23,
      "outputs": [
        {
          "output_type": "execute_result",
          "data": {
            "text/plain": [
              "1024"
            ]
          },
          "metadata": {},
          "execution_count": 23
        }
      ]
    },
    {
      "cell_type": "markdown",
      "metadata": {
        "id": "vxr0cihmmIgB"
      },
      "source": [
        "### 괄호 ()의 활용\n",
        "\n",
        "- 수학 연산할 때와 마찬가지로, *, /을 먼저 계산하며, **괄호 ()를 활용**하여 먼저 연산할 부분을 지정할 수 있습니다."
      ]
    },
    {
      "cell_type": "code",
      "metadata": {
        "id": "uHDJHp7Vmflc",
        "colab": {
          "base_uri": "https://localhost:8080/"
        },
        "outputId": "db479e94-88ea-4f4b-b80c-7a388c01dd60"
      },
      "source": [
        "10 + 2 * 5"
      ],
      "execution_count": 24,
      "outputs": [
        {
          "output_type": "execute_result",
          "data": {
            "text/plain": [
              "20"
            ]
          },
          "metadata": {},
          "execution_count": 24
        }
      ]
    },
    {
      "cell_type": "code",
      "metadata": {
        "id": "XkFs622Ymqwq",
        "colab": {
          "base_uri": "https://localhost:8080/"
        },
        "outputId": "7d425982-51af-45dc-efd2-160a4582d03c"
      },
      "source": [
        "(10 + 2) * 5"
      ],
      "execution_count": 25,
      "outputs": [
        {
          "output_type": "execute_result",
          "data": {
            "text/plain": [
              "60"
            ]
          },
          "metadata": {},
          "execution_count": 25
        }
      ]
    },
    {
      "cell_type": "markdown",
      "metadata": {
        "id": "FEUujjHMOHaF"
      },
      "source": [
        "다음과 같은 경우는 어떻게 될까요?"
      ]
    },
    {
      "cell_type": "code",
      "metadata": {
        "id": "4RjDCe4KONdI"
      },
      "source": [
        "a = '10'\n",
        "b = '20'"
      ],
      "execution_count": 26,
      "outputs": []
    },
    {
      "cell_type": "code",
      "metadata": {
        "id": "uTBZ7-FlORDW",
        "colab": {
          "base_uri": "https://localhost:8080/",
          "height": 35
        },
        "outputId": "e5e61971-6f4f-40f1-d542-972c6ae20037"
      },
      "source": [
        "a + b"
      ],
      "execution_count": 27,
      "outputs": [
        {
          "output_type": "execute_result",
          "data": {
            "text/plain": [
              "'1020'"
            ],
            "application/vnd.google.colaboratory.intrinsic+json": {
              "type": "string"
            }
          },
          "metadata": {},
          "execution_count": 27
        }
      ]
    },
    {
      "cell_type": "markdown",
      "metadata": {
        "id": "kfj-G6QmyHhg"
      },
      "source": [
        "연산시 타입(type)이 다르면 Error가 발생합니다."
      ]
    },
    {
      "cell_type": "code",
      "metadata": {
        "id": "PFw8GB3wyHhg"
      },
      "source": [
        "a = '10'\n",
        "b = 20"
      ],
      "execution_count": null,
      "outputs": []
    },
    {
      "cell_type": "code",
      "metadata": {
        "id": "OFwrjqh6yHhg"
      },
      "source": [
        "a + str(b)"
      ],
      "execution_count": null,
      "outputs": []
    },
    {
      "cell_type": "markdown",
      "metadata": {
        "id": "xr2I2FE3yHhg"
      },
      "source": [
        "### 연습문제\n",
        "\n",
        "`a`와 `b`를 덧셈하여 다음의 결과가 나오도록 코드를 입력해 주세요\n",
        "\n",
        "- 단, `a`와 `b`의 값을 수정하지 않습니다."
      ]
    },
    {
      "cell_type": "code",
      "metadata": {
        "id": "kBrc7kRzyHhh"
      },
      "source": [
        "a = '10'\n",
        "b = 20"
      ],
      "execution_count": 28,
      "outputs": []
    },
    {
      "cell_type": "code",
      "metadata": {
        "id": "AzdjQXHkyHhh",
        "colab": {
          "base_uri": "https://localhost:8080/"
        },
        "outputId": "b91aec55-1bec-4bca-df89-b829bd9ecd1a"
      },
      "source": [
        "# 코드를 입력해 주세요\n",
        "a = int(a)\n",
        "print(a+b)"
      ],
      "execution_count": 30,
      "outputs": [
        {
          "output_type": "stream",
          "name": "stdout",
          "text": [
            "30\n"
          ]
        }
      ]
    },
    {
      "cell_type": "markdown",
      "metadata": {
        "id": "bdpxBvFOyHhh"
      },
      "source": [
        "<p><strong>[출력 결과]</strong></p><pre>30</pre>"
      ]
    },
    {
      "cell_type": "markdown",
      "metadata": {
        "id": "j1I9d5GE6rSo"
      },
      "source": [
        "## 연습문제"
      ]
    },
    {
      "cell_type": "markdown",
      "metadata": {
        "id": "YguVPqeb7aRZ"
      },
      "source": [
        "### 문제1\n",
        "\n",
        "다음의 결과를 나타내는 `a`, `b`를 찾아주세요"
      ]
    },
    {
      "cell_type": "code",
      "metadata": {
        "id": "35gC2NGv7a1q"
      },
      "source": [
        "# a, b 값을 찾아주세요\n",
        "# 코드를 입력해 주세요\n"
      ],
      "execution_count": null,
      "outputs": []
    },
    {
      "cell_type": "code",
      "metadata": {
        "id": "hwZpIYlH7dGG"
      },
      "source": [
        "# 출력: 1041\n",
        "b += 20\n",
        "print(a ** 3 + b)"
      ],
      "execution_count": null,
      "outputs": []
    },
    {
      "cell_type": "markdown",
      "metadata": {
        "id": "LBMq_F6d6tIP"
      },
      "source": [
        "### 문제2\n",
        "\n",
        "다음의 결과를 나타내는 `a`, `b`를 찾아주세요"
      ]
    },
    {
      "cell_type": "code",
      "metadata": {
        "id": "JqMPI-QV6xzo"
      },
      "source": [
        "# a, b 값을 찾아주세요\n",
        "# 코드를 입력해 주세요\n"
      ],
      "execution_count": null,
      "outputs": []
    },
    {
      "cell_type": "code",
      "metadata": {
        "id": "WSELNt0b621d"
      },
      "source": [
        "# 출력: 12\n",
        "print((a + 3) // 4 + b * 3)\n",
        "# 출력: 21\n",
        "print(a + 3 // 4 + b * 3)\n",
        "# 출력: 4\n",
        "print(a // b)"
      ],
      "execution_count": null,
      "outputs": []
    },
    {
      "cell_type": "markdown",
      "metadata": {
        "id": "8EL-diJu7kGr"
      },
      "source": [
        "### 문제3\n",
        "\n",
        "다음의 결과를 나타내는 `a`, `b`를 찾아주세요"
      ]
    },
    {
      "cell_type": "code",
      "metadata": {
        "id": "jUBNcy357zC5"
      },
      "source": [
        "# a, b 값을 찾아주세요\n",
        "# 코드를 입력해 주세요\n"
      ],
      "execution_count": null,
      "outputs": []
    },
    {
      "cell_type": "code",
      "metadata": {
        "id": "WgSYcMEA71S_"
      },
      "source": [
        "# 출력: 34\n",
        "a ** 10 + b ** 3 + a * (5 + b % 2)"
      ],
      "execution_count": null,
      "outputs": []
    }
  ]
}