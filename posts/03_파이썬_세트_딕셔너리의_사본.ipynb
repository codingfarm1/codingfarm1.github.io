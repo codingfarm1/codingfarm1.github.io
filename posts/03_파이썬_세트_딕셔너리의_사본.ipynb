{
  "nbformat": 4,
  "nbformat_minor": 0,
  "metadata": {
    "colab": {
      "provenance": [],
      "include_colab_link": true
    },
    "kernelspec": {
      "display_name": "Python 3",
      "language": "python",
      "name": "python3"
    },
    "language_info": {
      "codemirror_mode": {
        "name": "ipython",
        "version": 3
      },
      "file_extension": ".py",
      "mimetype": "text/x-python",
      "name": "python",
      "nbconvert_exporter": "python",
      "pygments_lexer": "ipython3",
      "version": "3.6.9"
    }
  },
  "cells": [
    {
      "cell_type": "markdown",
      "metadata": {
        "id": "view-in-github",
        "colab_type": "text"
      },
      "source": [
        "<a href=\"https://colab.research.google.com/github/codingfarm1/codingfarm1.github.io/blob/master/03_%ED%8C%8C%EC%9D%B4%EC%8D%AC_%EC%84%B8%ED%8A%B8_%EB%94%95%EC%85%94%EB%84%88%EB%A6%AC%EC%9D%98_%EC%82%AC%EB%B3%B8.ipynb\" target=\"_parent\"><img src=\"https://colab.research.google.com/assets/colab-badge.svg\" alt=\"Open In Colab\"/></a>"
      ]
    },
    {
      "cell_type": "markdown",
      "metadata": {
        "id": "KgAFjs7iUREl"
      },
      "source": [
        "# 시퀀스, 집합형 자료구조"
      ]
    },
    {
      "cell_type": "markdown",
      "metadata": {
        "id": "tD5MUfkXfHjz"
      },
      "source": [
        "| 분류             | 타입                 | 특징                                   | 예시                     |\n",
        "| ---------------- | -------------------- | -------------------------------------- | ------------------------ |\n",
        "| 시퀀스(sequence) | 리스트(list)         | 순서가 있고, 가변(mutable)             | [1, 2, 3]                |\n",
        "| 시퀀스(sequence) | 튜플(tuple)          | 순서가 있고, 불변(immutable)           | (1, 2, 3)                |\n",
        "| 세트(set)        | 세트(set)            | 순서가 없고, 중복을 허용하지 않음      | {1, 2, 3}                |\n",
        "| 맵(map)          | 딕셔너리(dictionary) | 순서가 없고, key/value 쌍으로 이루어짐 | {'a': 1, 'b': 2, 'c': 3} |"
      ]
    },
    {
      "cell_type": "markdown",
      "metadata": {
        "id": "vCdKOsCpZNBi"
      },
      "source": [
        "## 세트(set)\n",
        "\n",
        "- 세트는 순서가 보장 되지 않습니다.\n",
        "- 세트는 요소의 **중복을 허용하지 않습니다.**\n",
        "- 세트는 **{}**를 활용하여 생성할 수 있습니다."
      ]
    },
    {
      "cell_type": "markdown",
      "metadata": {
        "id": "AahZw6tVGaBa"
      },
      "source": [
        "### 생성"
      ]
    },
    {
      "cell_type": "code",
      "metadata": {
        "id": "jIWM7VJjZMuH",
        "colab": {
          "base_uri": "https://localhost:8080/"
        },
        "outputId": "3280cd90-e94f-4e63-8e4d-7ce82dde97b7"
      },
      "source": [
        "myset = set()\n",
        "myset"
      ],
      "execution_count": 1,
      "outputs": [
        {
          "output_type": "execute_result",
          "data": {
            "text/plain": [
              "set()"
            ]
          },
          "metadata": {},
          "execution_count": 1
        }
      ]
    },
    {
      "cell_type": "code",
      "metadata": {
        "id": "ANJhYZ-bHTjx",
        "colab": {
          "base_uri": "https://localhost:8080/"
        },
        "outputId": "7445bea2-876c-4340-d16c-6e2c1964549c"
      },
      "source": [
        "myset = set([1, 1, 1, 2, 2, 2, 3, 3, 3])\n",
        "myset"
      ],
      "execution_count": 2,
      "outputs": [
        {
          "output_type": "execute_result",
          "data": {
            "text/plain": [
              "{1, 2, 3}"
            ]
          },
          "metadata": {},
          "execution_count": 2
        }
      ]
    },
    {
      "cell_type": "code",
      "metadata": {
        "id": "ryu7ce2zHYZj",
        "colab": {
          "base_uri": "https://localhost:8080/"
        },
        "outputId": "6cb2d4c4-08b2-4c92-c3de-4d4f4f7de1a1"
      },
      "source": [
        "myset = set((1, 1, 1, 2, 3, 3, 4, 5, 5, 5))\n",
        "myset"
      ],
      "execution_count": 3,
      "outputs": [
        {
          "output_type": "execute_result",
          "data": {
            "text/plain": [
              "{1, 2, 3, 4, 5}"
            ]
          },
          "metadata": {},
          "execution_count": 3
        }
      ]
    },
    {
      "cell_type": "code",
      "metadata": {
        "id": "FZq6RNxBfHj2",
        "colab": {
          "base_uri": "https://localhost:8080/"
        },
        "outputId": "169c6b37-d794-4ad7-b426-90870786610d"
      },
      "source": [
        "myset = {1, 1, 1, 2, 2, 2, 3, 3, 3}\n",
        "myset"
      ],
      "execution_count": 4,
      "outputs": [
        {
          "output_type": "execute_result",
          "data": {
            "text/plain": [
              "{1, 2, 3}"
            ]
          },
          "metadata": {},
          "execution_count": 4
        }
      ]
    },
    {
      "cell_type": "markdown",
      "metadata": {
        "id": "N5_9VPePHgq-"
      },
      "source": [
        "### add() : 값 추가\n",
        "\n",
        "- set에 요소를 추가합니다."
      ]
    },
    {
      "cell_type": "markdown",
      "metadata": {
        "id": "KxtbPpKqfHj3"
      },
      "source": [
        "빈 set를 생성합니다."
      ]
    },
    {
      "cell_type": "code",
      "metadata": {
        "id": "ueu2JUWsHovW"
      },
      "source": [
        "myset = set()"
      ],
      "execution_count": 5,
      "outputs": []
    },
    {
      "cell_type": "markdown",
      "metadata": {
        "id": "rRFwrN3zfHj3"
      },
      "source": [
        "add() 로 요소를 추가합니다."
      ]
    },
    {
      "cell_type": "code",
      "metadata": {
        "id": "9hiHrECzZUQH"
      },
      "source": [
        "myset.add(1)\n",
        "myset.add(2)\n",
        "myset.add(3)\n",
        "\n",
        "myset.add(1)\n",
        "myset.add(2)\n",
        "myset.add(3)\n",
        "\n",
        "myset.add(1)\n",
        "myset.add(2)\n",
        "myset.add(3)"
      ],
      "execution_count": 6,
      "outputs": []
    },
    {
      "cell_type": "markdown",
      "metadata": {
        "id": "K6ObtlExfHj4"
      },
      "source": [
        "요소를 중복하여 추가하였지만, 중복을 허용하지 않는 set의 특성상 {1, 2, 3} 으로 **중복이 제거된 요소만 출력**됩니다."
      ]
    },
    {
      "cell_type": "code",
      "metadata": {
        "id": "QNQ7synrZUIf",
        "colab": {
          "base_uri": "https://localhost:8080/"
        },
        "outputId": "04d00e61-140a-440e-d41d-2675719cf0b8"
      },
      "source": [
        "myset"
      ],
      "execution_count": 7,
      "outputs": [
        {
          "output_type": "execute_result",
          "data": {
            "text/plain": [
              "{1, 2, 3}"
            ]
          },
          "metadata": {},
          "execution_count": 7
        }
      ]
    },
    {
      "cell_type": "markdown",
      "metadata": {
        "id": "LTrMWdxJHrF8"
      },
      "source": [
        "### update() : 여러개 값 추가\n",
        "\n",
        "- 여러개의 값을 한꺼번에 추가하고자 할 때는 update() 메서드를 사용합니다."
      ]
    },
    {
      "cell_type": "code",
      "metadata": {
        "id": "8h1acAmYfHj5"
      },
      "source": [
        "myset = {1, 2, 3}"
      ],
      "execution_count": 8,
      "outputs": []
    },
    {
      "cell_type": "markdown",
      "metadata": {
        "id": "ly4q5wIMfHj5"
      },
      "source": [
        "list의 요소들을 **한꺼번에 update**"
      ]
    },
    {
      "cell_type": "code",
      "metadata": {
        "id": "dRioIyqSHwwA",
        "colab": {
          "base_uri": "https://localhost:8080/"
        },
        "outputId": "063485ca-77d7-4bb8-8fb2-99ca6fe9c5f5"
      },
      "source": [
        "myset.update([4, 5, 6])\n",
        "myset"
      ],
      "execution_count": 9,
      "outputs": [
        {
          "output_type": "execute_result",
          "data": {
            "text/plain": [
              "{1, 2, 3, 4, 5, 6}"
            ]
          },
          "metadata": {},
          "execution_count": 9
        }
      ]
    },
    {
      "cell_type": "markdown",
      "metadata": {
        "id": "gCULkhkIfHj6"
      },
      "source": [
        "tuple의 요소들을 **한꺼번에 update**"
      ]
    },
    {
      "cell_type": "code",
      "metadata": {
        "id": "s1FiTqAJfHj6",
        "colab": {
          "base_uri": "https://localhost:8080/"
        },
        "outputId": "5aaeb4c2-dde7-4091-f9b7-aaa113d2ff72"
      },
      "source": [
        "myset.update((7, 8, 9))\n",
        "myset"
      ],
      "execution_count": 10,
      "outputs": [
        {
          "output_type": "execute_result",
          "data": {
            "text/plain": [
              "{1, 2, 3, 4, 5, 6, 7, 8, 9}"
            ]
          },
          "metadata": {},
          "execution_count": 10
        }
      ]
    },
    {
      "cell_type": "markdown",
      "metadata": {
        "id": "SUmO-FdxfHj6"
      },
      "source": [
        "set의 요소들을 **한꺼번에 update**"
      ]
    },
    {
      "cell_type": "code",
      "metadata": {
        "id": "ZbCKpXAlfHj6",
        "colab": {
          "base_uri": "https://localhost:8080/"
        },
        "outputId": "8a1668e5-0976-475c-c73f-a1414d2528f6"
      },
      "source": [
        "myset.update({10, 11, 12})\n",
        "myset"
      ],
      "execution_count": 11,
      "outputs": [
        {
          "output_type": "execute_result",
          "data": {
            "text/plain": [
              "{1, 2, 3, 4, 5, 6, 7, 8, 9, 10, 11, 12}"
            ]
          },
          "metadata": {},
          "execution_count": 11
        }
      ]
    },
    {
      "cell_type": "markdown",
      "metadata": {
        "id": "XMa9hfRvH4zs"
      },
      "source": [
        "### remove() : 값 제거\n",
        "\n",
        "- 단일 요소를 제거합니다."
      ]
    },
    {
      "cell_type": "code",
      "metadata": {
        "id": "ya6F_1KrH7fp"
      },
      "source": [
        "myset = {1, 2, 3, 4, 5}"
      ],
      "execution_count": 12,
      "outputs": []
    },
    {
      "cell_type": "code",
      "metadata": {
        "id": "QDfJLU5JH576",
        "colab": {
          "base_uri": "https://localhost:8080/"
        },
        "outputId": "7e28a039-d106-4d20-a691-70deb96f5bb5"
      },
      "source": [
        "myset.remove(2)\n",
        "myset"
      ],
      "execution_count": 13,
      "outputs": [
        {
          "output_type": "execute_result",
          "data": {
            "text/plain": [
              "{1, 3, 4, 5}"
            ]
          },
          "metadata": {},
          "execution_count": 13
        }
      ]
    },
    {
      "cell_type": "markdown",
      "metadata": {
        "id": "47KBBNyWICQ-"
      },
      "source": [
        "### 교집합 (intersection)\n",
        "\n",
        "- 교집합은 집합 A와 B가 주어졌을 때 **공통된 요소**를 말합니다.\n",
        "- `&` 기호나 `intersection()` 메서드를 활용하여 교집합을 구할 수 있습니다."
      ]
    },
    {
      "cell_type": "code",
      "metadata": {
        "id": "jBA3M2H6IFZF"
      },
      "source": [
        "a = {1, 2, 3, 4, 5}\n",
        "b = {3, 4, 5, 6, 7}"
      ],
      "execution_count": 14,
      "outputs": []
    },
    {
      "cell_type": "code",
      "metadata": {
        "id": "X5a3JY70IJoU",
        "colab": {
          "base_uri": "https://localhost:8080/"
        },
        "outputId": "3cc4a3c4-463e-49be-a5a9-2abdd4556f61"
      },
      "source": [
        "a & b"
      ],
      "execution_count": 15,
      "outputs": [
        {
          "output_type": "execute_result",
          "data": {
            "text/plain": [
              "{3, 4, 5}"
            ]
          },
          "metadata": {},
          "execution_count": 15
        }
      ]
    },
    {
      "cell_type": "code",
      "metadata": {
        "id": "41PhL6uJILIc",
        "colab": {
          "base_uri": "https://localhost:8080/"
        },
        "outputId": "3beb7b70-6b5f-4665-d208-0d3acff6143f"
      },
      "source": [
        "a.intersection(b)"
      ],
      "execution_count": 16,
      "outputs": [
        {
          "output_type": "execute_result",
          "data": {
            "text/plain": [
              "{3, 4, 5}"
            ]
          },
          "metadata": {},
          "execution_count": 16
        }
      ]
    },
    {
      "cell_type": "markdown",
      "metadata": {
        "id": "NyG_7NRtINeL"
      },
      "source": [
        "### 합집합 (union)\n",
        "\n",
        "- 합집합은 집합 A와 B가 주어졌을 때 집합 A, B 요소 모두를 포함하는 것을 말합니다.\n",
        "- `|`기호나 `union()` 메서드를 활용하여 합집합을 구할 수 있습니다."
      ]
    },
    {
      "cell_type": "code",
      "metadata": {
        "id": "H_aTMCt5IP80"
      },
      "source": [
        "a = {1, 2, 3, 4, 5}\n",
        "b = {3, 4, 5, 6, 7}"
      ],
      "execution_count": 17,
      "outputs": []
    },
    {
      "cell_type": "code",
      "metadata": {
        "id": "FBDVTV0dIRPa",
        "colab": {
          "base_uri": "https://localhost:8080/"
        },
        "outputId": "f5100994-5447-44c0-fdcd-78b1d0dfe4d4"
      },
      "source": [
        "a | b"
      ],
      "execution_count": 18,
      "outputs": [
        {
          "output_type": "execute_result",
          "data": {
            "text/plain": [
              "{1, 2, 3, 4, 5, 6, 7}"
            ]
          },
          "metadata": {},
          "execution_count": 18
        }
      ]
    },
    {
      "cell_type": "code",
      "metadata": {
        "id": "0QY-vz1aISCo",
        "colab": {
          "base_uri": "https://localhost:8080/"
        },
        "outputId": "6d761f17-eb6e-4431-db85-d0bcbe9b4970"
      },
      "source": [
        "a.union(b)"
      ],
      "execution_count": 19,
      "outputs": [
        {
          "output_type": "execute_result",
          "data": {
            "text/plain": [
              "{1, 2, 3, 4, 5, 6, 7}"
            ]
          },
          "metadata": {},
          "execution_count": 19
        }
      ]
    },
    {
      "cell_type": "markdown",
      "metadata": {
        "id": "yRCAvdyUITN8"
      },
      "source": [
        "### 차집합 (difference)\n",
        "\n",
        "- 두 집합에서, 하나의 집합에 포함되고 다른 집합에는 포함되지 않는 모든 원소의 집합.\n",
        "- `-`연산자를 활용하거나 `difference()` 메서드를 활용하여 구할 수 있습니다."
      ]
    },
    {
      "cell_type": "code",
      "metadata": {
        "id": "VPFeTf2uIZ4M"
      },
      "source": [
        "a = {1, 2, 3, 4, 5}\n",
        "b = {3, 4, 5, 6, 7}"
      ],
      "execution_count": 20,
      "outputs": []
    },
    {
      "cell_type": "markdown",
      "metadata": {
        "id": "YO2wQMsDfHj9"
      },
      "source": [
        "a 집합에서 b 집합을 뺀 차집합"
      ]
    },
    {
      "cell_type": "code",
      "metadata": {
        "id": "TmmXfjyQIV1v",
        "colab": {
          "base_uri": "https://localhost:8080/"
        },
        "outputId": "ecb08bbd-b767-43ea-8027-54d0662c2755"
      },
      "source": [
        "a - b"
      ],
      "execution_count": 21,
      "outputs": [
        {
          "output_type": "execute_result",
          "data": {
            "text/plain": [
              "{1, 2}"
            ]
          },
          "metadata": {},
          "execution_count": 21
        }
      ]
    },
    {
      "cell_type": "code",
      "metadata": {
        "id": "0cAclQ7ffHj-",
        "colab": {
          "base_uri": "https://localhost:8080/"
        },
        "outputId": "f9341b5e-cde9-4b02-cfbe-4767dab12fa9"
      },
      "source": [
        "a.difference(b)"
      ],
      "execution_count": 22,
      "outputs": [
        {
          "output_type": "execute_result",
          "data": {
            "text/plain": [
              "{1, 2}"
            ]
          },
          "metadata": {},
          "execution_count": 22
        }
      ]
    },
    {
      "cell_type": "markdown",
      "metadata": {
        "id": "u627p4LnfHj-"
      },
      "source": [
        "b 집합에서 a 집합을 뺀 차집합"
      ]
    },
    {
      "cell_type": "code",
      "metadata": {
        "id": "ZBt4ecBMIXTF",
        "colab": {
          "base_uri": "https://localhost:8080/"
        },
        "outputId": "19f0047b-bfca-4588-cdd8-8d27222229b9"
      },
      "source": [
        "b - a"
      ],
      "execution_count": 23,
      "outputs": [
        {
          "output_type": "execute_result",
          "data": {
            "text/plain": [
              "{6, 7}"
            ]
          },
          "metadata": {},
          "execution_count": 23
        }
      ]
    },
    {
      "cell_type": "code",
      "metadata": {
        "id": "bDto9wNEIY6l",
        "colab": {
          "base_uri": "https://localhost:8080/"
        },
        "outputId": "8a961de6-4891-498c-9088-9e36c8d8447a"
      },
      "source": [
        "b.difference(a)"
      ],
      "execution_count": 24,
      "outputs": [
        {
          "output_type": "execute_result",
          "data": {
            "text/plain": [
              "{6, 7}"
            ]
          },
          "metadata": {},
          "execution_count": 24
        }
      ]
    },
    {
      "cell_type": "markdown",
      "metadata": {
        "id": "uZbztgcbJKtH"
      },
      "source": [
        "### 집합의 타입 변환"
      ]
    },
    {
      "cell_type": "markdown",
      "metadata": {
        "id": "3O-164mSI3Di"
      },
      "source": [
        "### set를 list로 변환"
      ]
    },
    {
      "cell_type": "code",
      "metadata": {
        "id": "sbP80B8zI5Md"
      },
      "source": [
        "a = {1, 2, 3, 4, 5}"
      ],
      "execution_count": 25,
      "outputs": []
    },
    {
      "cell_type": "code",
      "metadata": {
        "id": "Tb8NZ8A2I6ve",
        "colab": {
          "base_uri": "https://localhost:8080/"
        },
        "outputId": "6a6b1616-a243-4149-fb68-af7a7064bf4c"
      },
      "source": [
        "type(a)"
      ],
      "execution_count": 26,
      "outputs": [
        {
          "output_type": "execute_result",
          "data": {
            "text/plain": [
              "set"
            ]
          },
          "metadata": {},
          "execution_count": 26
        }
      ]
    },
    {
      "cell_type": "code",
      "metadata": {
        "id": "U3Kkfo2BI7dp"
      },
      "source": [
        "b = list(a)"
      ],
      "execution_count": 27,
      "outputs": []
    },
    {
      "cell_type": "code",
      "metadata": {
        "id": "vwab1DqgI8wc",
        "colab": {
          "base_uri": "https://localhost:8080/"
        },
        "outputId": "866445ee-3df0-4d3b-c339-f44bc052d887"
      },
      "source": [
        "b"
      ],
      "execution_count": 28,
      "outputs": [
        {
          "output_type": "execute_result",
          "data": {
            "text/plain": [
              "[1, 2, 3, 4, 5]"
            ]
          },
          "metadata": {},
          "execution_count": 28
        }
      ]
    },
    {
      "cell_type": "code",
      "metadata": {
        "id": "7TBYxXk4I9k2",
        "colab": {
          "base_uri": "https://localhost:8080/"
        },
        "outputId": "e2b17f1a-16b3-4520-cc63-8b18ecf8cf24"
      },
      "source": [
        "type(b)"
      ],
      "execution_count": 29,
      "outputs": [
        {
          "output_type": "execute_result",
          "data": {
            "text/plain": [
              "list"
            ]
          },
          "metadata": {},
          "execution_count": 29
        }
      ]
    },
    {
      "cell_type": "markdown",
      "metadata": {
        "id": "7uhFVFrcI-A0"
      },
      "source": [
        "### list를 set로 변환\n",
        "\n",
        "- 중복을 제거할 때 많이 활용합니다."
      ]
    },
    {
      "cell_type": "code",
      "metadata": {
        "id": "8OD92-JeJBRn"
      },
      "source": [
        "a = [1, 1, 1, 2, 2, 2, 3, 3, 3]"
      ],
      "execution_count": 77,
      "outputs": []
    },
    {
      "cell_type": "code",
      "metadata": {
        "id": "RwKir-0uJDvY",
        "colab": {
          "base_uri": "https://localhost:8080/"
        },
        "outputId": "05f5a58b-2d32-4b39-ccd5-421371479557"
      },
      "source": [
        "a"
      ],
      "execution_count": 78,
      "outputs": [
        {
          "output_type": "execute_result",
          "data": {
            "text/plain": [
              "[1, 1, 1, 2, 2, 2, 3, 3, 3]"
            ]
          },
          "metadata": {},
          "execution_count": 78
        }
      ]
    },
    {
      "cell_type": "code",
      "metadata": {
        "id": "QLGx1LZUJEFF",
        "colab": {
          "base_uri": "https://localhost:8080/"
        },
        "outputId": "424cdc1c-8d5d-489a-d480-c0d0f7085eaa"
      },
      "source": [
        "type(a)"
      ],
      "execution_count": 79,
      "outputs": [
        {
          "output_type": "execute_result",
          "data": {
            "text/plain": [
              "list"
            ]
          },
          "metadata": {},
          "execution_count": 79
        }
      ]
    },
    {
      "cell_type": "code",
      "metadata": {
        "id": "v-Z_v4AKJE07"
      },
      "source": [
        "b = set(a)"
      ],
      "execution_count": 80,
      "outputs": []
    },
    {
      "cell_type": "code",
      "metadata": {
        "id": "BHTOs9esJFs5",
        "colab": {
          "base_uri": "https://localhost:8080/"
        },
        "outputId": "d7a7cf7a-68ea-4cd6-b527-2fde725bd4bf"
      },
      "source": [
        "b"
      ],
      "execution_count": 81,
      "outputs": [
        {
          "output_type": "execute_result",
          "data": {
            "text/plain": [
              "{1, 2, 3}"
            ]
          },
          "metadata": {},
          "execution_count": 81
        }
      ]
    },
    {
      "cell_type": "code",
      "metadata": {
        "id": "BaXk-SDEJHIL",
        "colab": {
          "base_uri": "https://localhost:8080/"
        },
        "outputId": "e67d5b72-1ccc-48f6-b983-5fbf2b889096"
      },
      "source": [
        "type(b)"
      ],
      "execution_count": 82,
      "outputs": [
        {
          "output_type": "execute_result",
          "data": {
            "text/plain": [
              "set"
            ]
          },
          "metadata": {},
          "execution_count": 82
        }
      ]
    },
    {
      "cell_type": "markdown",
      "metadata": {
        "id": "5WSZn4cffHkC"
      },
      "source": [
        "b를 다시 list 자료형으로 변환"
      ]
    },
    {
      "cell_type": "code",
      "metadata": {
        "id": "WFYXMU1FfHkC",
        "colab": {
          "base_uri": "https://localhost:8080/"
        },
        "outputId": "1065f0e1-7abd-43e9-924d-3d130ced4a1f"
      },
      "source": [
        "b = list(b)\n",
        "b"
      ],
      "execution_count": 83,
      "outputs": [
        {
          "output_type": "execute_result",
          "data": {
            "text/plain": [
              "[1, 2, 3]"
            ]
          },
          "metadata": {},
          "execution_count": 83
        }
      ]
    },
    {
      "cell_type": "markdown",
      "metadata": {
        "id": "Pp9mxa8PfHkC"
      },
      "source": [
        "### 연습문제 1"
      ]
    },
    {
      "cell_type": "code",
      "metadata": {
        "id": "SZp-Wzw2fHkD",
        "colab": {
          "base_uri": "https://localhost:8080/"
        },
        "outputId": "e606c478-2b44-4205-eda1-3ecb264dc1c7"
      },
      "source": [
        "sample1 = {1, 2, 3, 4, 5}\n",
        "sample2 = {2, 4, 5, 6, 7}\n",
        "\n",
        "print(f'sample1: {sample1}')\n",
        "print(f'sample2: {sample2}')"
      ],
      "execution_count": 30,
      "outputs": [
        {
          "output_type": "stream",
          "name": "stdout",
          "text": [
            "sample1: {1, 2, 3, 4, 5}\n",
            "sample2: {2, 4, 5, 6, 7}\n"
          ]
        }
      ]
    },
    {
      "cell_type": "markdown",
      "metadata": {
        "id": "qqKOpZzefHkD"
      },
      "source": [
        "`sample1` 에 6를 추가합니다."
      ]
    },
    {
      "cell_type": "code",
      "metadata": {
        "id": "3I_SEqQcfHkD",
        "colab": {
          "base_uri": "https://localhost:8080/"
        },
        "outputId": "b0250f3d-d116-4c24-d8c1-cacfac868ec9"
      },
      "source": [
        "# 코드를 입력해 주세요\n",
        "sample1.update([6])\n",
        "print(sample1)"
      ],
      "execution_count": 32,
      "outputs": [
        {
          "output_type": "stream",
          "name": "stdout",
          "text": [
            "{1, 2, 3, 4, 5, 6}\n"
          ]
        }
      ]
    },
    {
      "cell_type": "markdown",
      "metadata": {
        "id": "bFSpaVHifHkD"
      },
      "source": [
        "<p><strong>[출력 결과]</strong></p><pre>{1, 2, 3, 4, 5, 6}</pre>"
      ]
    },
    {
      "cell_type": "markdown",
      "metadata": {
        "id": "wLThMK_kfHkE"
      },
      "source": [
        "`sample2`에 2를 제거합니다."
      ]
    },
    {
      "cell_type": "code",
      "metadata": {
        "id": "rtQrVlbKfHkE",
        "colab": {
          "base_uri": "https://localhost:8080/"
        },
        "outputId": "9102983a-641a-4637-b9dc-a45cea978756"
      },
      "source": [
        "# 코드를 입력해 주세요\n",
        "sample2.remove(2)\n",
        "print(sample2)"
      ],
      "execution_count": 33,
      "outputs": [
        {
          "output_type": "stream",
          "name": "stdout",
          "text": [
            "{4, 5, 6, 7}\n"
          ]
        }
      ]
    },
    {
      "cell_type": "markdown",
      "metadata": {
        "id": "Wv3VEdADfHkE"
      },
      "source": [
        "<p><strong>[출력 결과]</strong></p><pre>{4, 5, 6, 7}</pre>"
      ]
    },
    {
      "cell_type": "markdown",
      "metadata": {
        "id": "9l-EIh0FfHkE"
      },
      "source": [
        "`sample1`과 `sample2`의 **교집합**을 출력합니다."
      ]
    },
    {
      "cell_type": "code",
      "metadata": {
        "id": "TbBwjFkdfHkE",
        "colab": {
          "base_uri": "https://localhost:8080/"
        },
        "outputId": "e864d318-24e6-4197-beb4-73fbcf472faa"
      },
      "source": [
        "# 코드를 입력해 주세요\n",
        "sample1.intersection(sample2)"
      ],
      "execution_count": 34,
      "outputs": [
        {
          "output_type": "execute_result",
          "data": {
            "text/plain": [
              "{4, 5, 6}"
            ]
          },
          "metadata": {},
          "execution_count": 34
        }
      ]
    },
    {
      "cell_type": "markdown",
      "metadata": {
        "id": "h_t_ozKLfHkF"
      },
      "source": [
        "<p><strong>[출력 결과]</strong></p><pre>{4, 5, 6}</pre>"
      ]
    },
    {
      "cell_type": "markdown",
      "metadata": {
        "id": "7WewctyofHkF"
      },
      "source": [
        "`sample1`과 `sample2`의 **합집합**을 출력합니다."
      ]
    },
    {
      "cell_type": "code",
      "metadata": {
        "id": "50sBa_uefHkF",
        "colab": {
          "base_uri": "https://localhost:8080/"
        },
        "outputId": "c4a15d33-d629-465d-bfa9-73acb07f4061"
      },
      "source": [
        "# 코드를 입력해 주세요\n",
        "sample1.union(sample2)"
      ],
      "execution_count": 35,
      "outputs": [
        {
          "output_type": "execute_result",
          "data": {
            "text/plain": [
              "{1, 2, 3, 4, 5, 6, 7}"
            ]
          },
          "metadata": {},
          "execution_count": 35
        }
      ]
    },
    {
      "cell_type": "markdown",
      "metadata": {
        "id": "tjQdo5lwfHkF"
      },
      "source": [
        "<p><strong>[출력 결과]</strong></p><pre>{1, 2, 3, 4, 5, 6, 7}</pre>"
      ]
    },
    {
      "cell_type": "markdown",
      "metadata": {
        "id": "-yZAS5SKfHkF"
      },
      "source": [
        "`sample1`과 `sample2`의 **차집합**을 활용하여 다음과 같이 출력합니다."
      ]
    },
    {
      "cell_type": "code",
      "metadata": {
        "id": "bFJgIHXLfHkG",
        "colab": {
          "base_uri": "https://localhost:8080/"
        },
        "outputId": "bfe46ccf-c52e-4e67-ffa3-5656e1b6f15e"
      },
      "source": [
        "# 코드를 입력해 주세요\n",
        "sample1.difference(sample2)"
      ],
      "execution_count": 36,
      "outputs": [
        {
          "output_type": "execute_result",
          "data": {
            "text/plain": [
              "{1, 2, 3}"
            ]
          },
          "metadata": {},
          "execution_count": 36
        }
      ]
    },
    {
      "cell_type": "markdown",
      "metadata": {
        "id": "KX9J-qMCfHkG"
      },
      "source": [
        "<p><strong>[출력 결과]</strong></p><pre>{1, 2, 3}</pre>"
      ]
    },
    {
      "cell_type": "markdown",
      "metadata": {
        "id": "24pLdsBX3PXx"
      },
      "source": [
        "### 연습문제 2\n",
        "\n",
        "- 다음 리스트에서 중복된 항목을 제거하세요\n",
        "- 최종 출력 값은 list 형태로 출력하세요"
      ]
    },
    {
      "cell_type": "code",
      "metadata": {
        "id": "6ouc2JmXfHkG"
      },
      "source": [
        "numList = [1, 3, 2, 3, 7, 6, 8, 4, 10, 5, 3, 8, 9]"
      ],
      "execution_count": 39,
      "outputs": []
    },
    {
      "cell_type": "code",
      "metadata": {
        "id": "lLEILpf03PXx",
        "colab": {
          "base_uri": "https://localhost:8080/"
        },
        "outputId": "e052cff8-ba9a-4ebc-98fc-38e3ffd8f2b6"
      },
      "source": [
        "# 코드를 입력해 주세요\n",
        "b = set(numList)\n",
        "c = list(b)\n",
        "print(c)"
      ],
      "execution_count": 41,
      "outputs": [
        {
          "output_type": "stream",
          "name": "stdout",
          "text": [
            "[1, 2, 3, 4, 5, 6, 7, 8, 9, 10]\n"
          ]
        }
      ]
    },
    {
      "cell_type": "markdown",
      "metadata": {
        "id": "PCXKsaAUfHkH"
      },
      "source": [
        "<p><strong>[출력 결과]</strong></p><pre>[1, 2, 3, 4, 5, 6, 7, 8, 9, 10]</pre>"
      ]
    },
    {
      "cell_type": "markdown",
      "metadata": {
        "id": "57vgLEysYLus"
      },
      "source": [
        "## 딕셔너리(dictionary)\n",
        "\n",
        "- 순서를 가지지 않습니다.\n",
        "- 키(key)와 값(value)의 쌍으로 이루어져 있습니다.\n",
        "- type은 `dict`로 표시 됩니다.\n",
        "- key를 사용하여 값을 조회할 수 있습니다.\n",
        "- 딕셔너리는 **수정, 삭제, 추가가 가능**합니다."
      ]
    },
    {
      "cell_type": "markdown",
      "metadata": {
        "id": "Y1nD5M8IYUh2"
      },
      "source": [
        "### 생성"
      ]
    },
    {
      "cell_type": "code",
      "metadata": {
        "id": "R3WbGCJSa-n_",
        "colab": {
          "base_uri": "https://localhost:8080/"
        },
        "outputId": "187e7d57-c6a0-4a9b-9e4b-c2526f41b3be"
      },
      "source": [
        "mydict = dict()\n",
        "print(type(mydict))\n",
        "mydict"
      ],
      "execution_count": 42,
      "outputs": [
        {
          "output_type": "stream",
          "name": "stdout",
          "text": [
            "<class 'dict'>\n"
          ]
        },
        {
          "output_type": "execute_result",
          "data": {
            "text/plain": [
              "{}"
            ]
          },
          "metadata": {},
          "execution_count": 42
        }
      ]
    },
    {
      "cell_type": "code",
      "metadata": {
        "id": "YK0UF9oIEogm",
        "colab": {
          "base_uri": "https://localhost:8080/"
        },
        "outputId": "fa61a8c8-213b-490b-9795-fe7e55f24bf5"
      },
      "source": [
        "mydict = {'a': 1, 'b': 2, 'c': 3}\n",
        "print(type(mydict))\n",
        "mydict"
      ],
      "execution_count": 43,
      "outputs": [
        {
          "output_type": "stream",
          "name": "stdout",
          "text": [
            "<class 'dict'>\n"
          ]
        },
        {
          "output_type": "execute_result",
          "data": {
            "text/plain": [
              "{'a': 1, 'b': 2, 'c': 3}"
            ]
          },
          "metadata": {},
          "execution_count": 43
        }
      ]
    },
    {
      "cell_type": "markdown",
      "metadata": {
        "id": "SXg13XEzfHkI"
      },
      "source": [
        "딕셔너리는 여러 타입의 key를 가질 수 있습니다."
      ]
    },
    {
      "cell_type": "code",
      "metadata": {
        "id": "pLnzvZ5gfHkI",
        "colab": {
          "base_uri": "https://localhost:8080/"
        },
        "outputId": "4d529e14-01aa-4b38-9772-60c8ab20a21e"
      },
      "source": [
        "mydict = {'a': 1, '가':2, 100: 3, 3.14: 4, True: 5}\n",
        "mydict"
      ],
      "execution_count": 44,
      "outputs": [
        {
          "output_type": "execute_result",
          "data": {
            "text/plain": [
              "{'a': 1, '가': 2, 100: 3, 3.14: 4, True: 5}"
            ]
          },
          "metadata": {},
          "execution_count": 44
        }
      ]
    },
    {
      "cell_type": "markdown",
      "metadata": {
        "id": "Pb3Z94Y_FV9E"
      },
      "source": [
        "### 값 조회\n",
        "\n",
        "- key 값으로 값을 조회할 수 있습니다."
      ]
    },
    {
      "cell_type": "code",
      "metadata": {
        "id": "MWsYX8Q-fHkI",
        "colab": {
          "base_uri": "https://localhost:8080/"
        },
        "outputId": "aeb030f0-8258-4395-f9b3-809207a9cb35"
      },
      "source": [
        "mydict = {'a': 1, '가':2, 100: 3, 3.14: 4, True: 5}\n",
        "mydict"
      ],
      "execution_count": 45,
      "outputs": [
        {
          "output_type": "execute_result",
          "data": {
            "text/plain": [
              "{'a': 1, '가': 2, 100: 3, 3.14: 4, True: 5}"
            ]
          },
          "metadata": {},
          "execution_count": 45
        }
      ]
    },
    {
      "cell_type": "markdown",
      "metadata": {
        "id": "3IrkNb2RfHkJ"
      },
      "source": [
        "key를 지정하여 값을 조회할 수 있습니다."
      ]
    },
    {
      "cell_type": "code",
      "metadata": {
        "id": "LMZjtCWNFZ_n",
        "colab": {
          "base_uri": "https://localhost:8080/"
        },
        "outputId": "a96a752d-81c5-48b7-a1df-99e2788ae4cb"
      },
      "source": [
        "mydict['a']"
      ],
      "execution_count": 46,
      "outputs": [
        {
          "output_type": "execute_result",
          "data": {
            "text/plain": [
              "1"
            ]
          },
          "metadata": {},
          "execution_count": 46
        }
      ]
    },
    {
      "cell_type": "markdown",
      "metadata": {
        "id": "twsRAOrCfHkJ"
      },
      "source": [
        "key가 없는 경우 Error가 발생합니다."
      ]
    },
    {
      "cell_type": "code",
      "metadata": {
        "id": "R1tImC2VfHkJ",
        "colab": {
          "base_uri": "https://localhost:8080/",
          "height": 146
        },
        "outputId": "b8d52d62-035a-41b4-dfc0-f60a69eb5eb8"
      },
      "source": [
        "mydict['b']"
      ],
      "execution_count": 47,
      "outputs": [
        {
          "output_type": "error",
          "ename": "KeyError",
          "evalue": "'b'",
          "traceback": [
            "\u001b[0;31m---------------------------------------------------------------------------\u001b[0m",
            "\u001b[0;31mKeyError\u001b[0m                                  Traceback (most recent call last)",
            "\u001b[0;32m<ipython-input-47-a8dfdc4bddd9>\u001b[0m in \u001b[0;36m<cell line: 1>\u001b[0;34m()\u001b[0m\n\u001b[0;32m----> 1\u001b[0;31m \u001b[0mmydict\u001b[0m\u001b[0;34m[\u001b[0m\u001b[0;34m'b'\u001b[0m\u001b[0;34m]\u001b[0m\u001b[0;34m\u001b[0m\u001b[0;34m\u001b[0m\u001b[0m\n\u001b[0m",
            "\u001b[0;31mKeyError\u001b[0m: 'b'"
          ]
        }
      ]
    },
    {
      "cell_type": "markdown",
      "metadata": {
        "id": "a7DJoQvcfHkK"
      },
      "source": [
        "`get()` 메서드를 활용하여 값을 조회할 수 있습니다."
      ]
    },
    {
      "cell_type": "code",
      "metadata": {
        "id": "xR3ROxIvfHkK",
        "colab": {
          "base_uri": "https://localhost:8080/"
        },
        "outputId": "370d6738-851d-43e1-81ca-1a085da3883d"
      },
      "source": [
        "mydict.get('a')"
      ],
      "execution_count": 48,
      "outputs": [
        {
          "output_type": "execute_result",
          "data": {
            "text/plain": [
              "1"
            ]
          },
          "metadata": {},
          "execution_count": 48
        }
      ]
    },
    {
      "cell_type": "markdown",
      "metadata": {
        "id": "6aZF7DOffHkK"
      },
      "source": [
        "`get()`을 사용하면 key가 없는 경우라도 Error가 발생하지 않습니다. 단지 None이 반환됩니다."
      ]
    },
    {
      "cell_type": "code",
      "metadata": {
        "id": "j7rtcL3iF701"
      },
      "source": [
        "mydict.get('b')"
      ],
      "execution_count": 49,
      "outputs": []
    },
    {
      "cell_type": "markdown",
      "metadata": {
        "id": "nfD8x2dLfHkK"
      },
      "source": [
        "### keys() : 모든 key 조회"
      ]
    },
    {
      "cell_type": "code",
      "metadata": {
        "id": "3kXqsG5JfHkL",
        "colab": {
          "base_uri": "https://localhost:8080/"
        },
        "outputId": "73b2b499-0cf5-4200-d698-77af5e0d3201"
      },
      "source": [
        "mydict = {'a': 100, 'b': 200, 'c': 300, 'd': 400, 'e': 500}\n",
        "mydict"
      ],
      "execution_count": 50,
      "outputs": [
        {
          "output_type": "execute_result",
          "data": {
            "text/plain": [
              "{'a': 100, 'b': 200, 'c': 300, 'd': 400, 'e': 500}"
            ]
          },
          "metadata": {},
          "execution_count": 50
        }
      ]
    },
    {
      "cell_type": "code",
      "metadata": {
        "id": "Bs-AvLJmfHkL",
        "colab": {
          "base_uri": "https://localhost:8080/"
        },
        "outputId": "e3265f33-529f-498a-ca4f-a7f578a3abb7"
      },
      "source": [
        "mydict.keys()"
      ],
      "execution_count": 51,
      "outputs": [
        {
          "output_type": "execute_result",
          "data": {
            "text/plain": [
              "dict_keys(['a', 'b', 'c', 'd', 'e'])"
            ]
          },
          "metadata": {},
          "execution_count": 51
        }
      ]
    },
    {
      "cell_type": "markdown",
      "metadata": {
        "id": "kS1F0UkhfHkL"
      },
      "source": [
        "**[참고]** `dict_keys`\n",
        "\n",
        "- `dict_keys`는 리스트(list)가 아닙니다.\n",
        "- 객체(object)로 생성되는데, 이를 list로 변경하기 위해서는 list()로 타입 변환을 하면 됩니다."
      ]
    },
    {
      "cell_type": "code",
      "metadata": {
        "id": "lrxLbJqffHkL",
        "colab": {
          "base_uri": "https://localhost:8080/"
        },
        "outputId": "72ed47ef-d124-47bf-c667-074f33296898"
      },
      "source": [
        "list(mydict.keys())"
      ],
      "execution_count": 52,
      "outputs": [
        {
          "output_type": "execute_result",
          "data": {
            "text/plain": [
              "['a', 'b', 'c', 'd', 'e']"
            ]
          },
          "metadata": {},
          "execution_count": 52
        }
      ]
    },
    {
      "cell_type": "markdown",
      "metadata": {
        "id": "1dlsp0qefHkL"
      },
      "source": [
        "### values() : 모든 value 조회"
      ]
    },
    {
      "cell_type": "code",
      "metadata": {
        "id": "zfReUVDOfHkM",
        "colab": {
          "base_uri": "https://localhost:8080/"
        },
        "outputId": "4b608710-fb13-48f2-b33a-2ee63b739139"
      },
      "source": [
        "mydict.values()"
      ],
      "execution_count": 53,
      "outputs": [
        {
          "output_type": "execute_result",
          "data": {
            "text/plain": [
              "dict_values([100, 200, 300, 400, 500])"
            ]
          },
          "metadata": {},
          "execution_count": 53
        }
      ]
    },
    {
      "cell_type": "markdown",
      "metadata": {
        "id": "k6IV5379fHkM"
      },
      "source": [
        "### items() : 모든 key, value 조회\n",
        "\n",
        "- key, value가 튜플로 묶여서 조회됩니다."
      ]
    },
    {
      "cell_type": "code",
      "metadata": {
        "id": "y8LPMWkNfHkM",
        "colab": {
          "base_uri": "https://localhost:8080/"
        },
        "outputId": "d681e216-cb08-4577-d572-52b49f0025f9"
      },
      "source": [
        "mydict.items()"
      ],
      "execution_count": 54,
      "outputs": [
        {
          "output_type": "execute_result",
          "data": {
            "text/plain": [
              "dict_items([('a', 100), ('b', 200), ('c', 300), ('d', 400), ('e', 500)])"
            ]
          },
          "metadata": {},
          "execution_count": 54
        }
      ]
    },
    {
      "cell_type": "code",
      "metadata": {
        "id": "l_C-RK_zfHkM",
        "colab": {
          "base_uri": "https://localhost:8080/"
        },
        "outputId": "cd1b803c-50c0-4ed8-da23-90804c174f47"
      },
      "source": [
        "list(mydict.items())"
      ],
      "execution_count": 55,
      "outputs": [
        {
          "output_type": "execute_result",
          "data": {
            "text/plain": [
              "[('a', 100), ('b', 200), ('c', 300), ('d', 400), ('e', 500)]"
            ]
          },
          "metadata": {},
          "execution_count": 55
        }
      ]
    },
    {
      "cell_type": "markdown",
      "metadata": {
        "id": "gDRNAH0ZGBYo"
      },
      "source": [
        "### key 값의 존재 유무 확인"
      ]
    },
    {
      "cell_type": "code",
      "metadata": {
        "id": "e0q7c_O0GEDF",
        "colab": {
          "base_uri": "https://localhost:8080/"
        },
        "outputId": "d757ee5b-d61e-4d49-f107-08be50c39a19"
      },
      "source": [
        "'a' in mydict"
      ],
      "execution_count": 56,
      "outputs": [
        {
          "output_type": "execute_result",
          "data": {
            "text/plain": [
              "True"
            ]
          },
          "metadata": {},
          "execution_count": 56
        }
      ]
    },
    {
      "cell_type": "code",
      "metadata": {
        "id": "cJucPBdhGGKG",
        "colab": {
          "base_uri": "https://localhost:8080/"
        },
        "outputId": "5c235a84-830b-4af1-f849-66197061e2b0"
      },
      "source": [
        "'f' in mydict"
      ],
      "execution_count": 57,
      "outputs": [
        {
          "output_type": "execute_result",
          "data": {
            "text/plain": [
              "False"
            ]
          },
          "metadata": {},
          "execution_count": 57
        }
      ]
    },
    {
      "cell_type": "markdown",
      "metadata": {
        "id": "aciJNcbDZ9mc"
      },
      "source": [
        "### 값을 추가하기\n",
        "\n",
        "- 새로운 key에 값을 대입하여 추가"
      ]
    },
    {
      "cell_type": "code",
      "metadata": {
        "id": "D-SAZCUHYWuc",
        "colab": {
          "base_uri": "https://localhost:8080/"
        },
        "outputId": "e3aca9f2-a68b-4fbc-a737-7ae9387517d0"
      },
      "source": [
        "mydict = dict()\n",
        "mydict"
      ],
      "execution_count": 58,
      "outputs": [
        {
          "output_type": "execute_result",
          "data": {
            "text/plain": [
              "{}"
            ]
          },
          "metadata": {},
          "execution_count": 58
        }
      ]
    },
    {
      "cell_type": "code",
      "metadata": {
        "id": "PfON-IIcYZ_e",
        "colab": {
          "base_uri": "https://localhost:8080/"
        },
        "outputId": "ca5fb4fa-4305-4fc1-8f78-6e22da8a035f"
      },
      "source": [
        "mydict['apple'] = 123\n",
        "mydict['apple']"
      ],
      "execution_count": 59,
      "outputs": [
        {
          "output_type": "execute_result",
          "data": {
            "text/plain": [
              "123"
            ]
          },
          "metadata": {},
          "execution_count": 59
        }
      ]
    },
    {
      "cell_type": "code",
      "metadata": {
        "id": "W47eMGTdYfhM",
        "colab": {
          "base_uri": "https://localhost:8080/"
        },
        "outputId": "67822198-1c81-4e4e-8dad-b09191de7efb"
      },
      "source": [
        "mydict[0] = 2\n",
        "mydict[0]"
      ],
      "execution_count": 60,
      "outputs": [
        {
          "output_type": "execute_result",
          "data": {
            "text/plain": [
              "2"
            ]
          },
          "metadata": {},
          "execution_count": 60
        }
      ]
    },
    {
      "cell_type": "code",
      "source": [
        "mydict"
      ],
      "metadata": {
        "colab": {
          "base_uri": "https://localhost:8080/"
        },
        "id": "NJM06mcU3qux",
        "outputId": "e04f6578-1d9b-4791-faf3-dbe0eea6ea87"
      },
      "execution_count": 61,
      "outputs": [
        {
          "output_type": "execute_result",
          "data": {
            "text/plain": [
              "{'apple': 123, 0: 2}"
            ]
          },
          "metadata": {},
          "execution_count": 61
        }
      ]
    },
    {
      "cell_type": "markdown",
      "metadata": {
        "id": "Pt5Np1QOpU4k"
      },
      "source": [
        "### update() : 다중 업데이트\n",
        "\n",
        "- 값을 한꺼번에 업데이트 합니다."
      ]
    },
    {
      "cell_type": "code",
      "metadata": {
        "id": "_Z4aYpc_fHkP",
        "colab": {
          "base_uri": "https://localhost:8080/"
        },
        "outputId": "bee78042-c614-4824-8ff6-876b55398233"
      },
      "source": [
        "mydict = {'파인애플': 1500, '망고': 3500, '배': 1000}\n",
        "mydict"
      ],
      "execution_count": 62,
      "outputs": [
        {
          "output_type": "execute_result",
          "data": {
            "text/plain": [
              "{'파인애플': 1500, '망고': 3500, '배': 1000}"
            ]
          },
          "metadata": {},
          "execution_count": 62
        }
      ]
    },
    {
      "cell_type": "code",
      "metadata": {
        "id": "OSOgghKxpXHX"
      },
      "source": [
        "fruit = {\n",
        "    '사과': 2000,\n",
        "    '딸기': 3000,\n",
        "    '수박': 5000,\n",
        "}"
      ],
      "execution_count": 63,
      "outputs": []
    },
    {
      "cell_type": "code",
      "metadata": {
        "id": "zASxN20npmGN",
        "colab": {
          "base_uri": "https://localhost:8080/"
        },
        "outputId": "8468389d-483c-49e1-bf3b-53002a34681e"
      },
      "source": [
        "mydict.update(fruit)\n",
        "mydict"
      ],
      "execution_count": 64,
      "outputs": [
        {
          "output_type": "execute_result",
          "data": {
            "text/plain": [
              "{'파인애플': 1500, '망고': 3500, '배': 1000, '사과': 2000, '딸기': 3000, '수박': 5000}"
            ]
          },
          "metadata": {},
          "execution_count": 64
        }
      ]
    },
    {
      "cell_type": "markdown",
      "metadata": {
        "id": "fJvfGTfDYy8V"
      },
      "source": [
        "### 값 변경\n",
        "\n",
        "- key 값에 새로운 값(value)를 대입하여 값을 변경할 수 있습니다."
      ]
    },
    {
      "cell_type": "code",
      "metadata": {
        "id": "AjXA4ps3fHkP",
        "colab": {
          "base_uri": "https://localhost:8080/"
        },
        "outputId": "c953df02-5107-46d7-c966-b2cd362f9b89"
      },
      "source": [
        "mydict = {'a': 100, 'b': 200, 'c': 300, 'd': 400, 'e': 500}\n",
        "mydict"
      ],
      "execution_count": 65,
      "outputs": [
        {
          "output_type": "execute_result",
          "data": {
            "text/plain": [
              "{'a': 100, 'b': 200, 'c': 300, 'd': 400, 'e': 500}"
            ]
          },
          "metadata": {},
          "execution_count": 65
        }
      ]
    },
    {
      "cell_type": "code",
      "metadata": {
        "id": "6Ho7ZevOYpXW"
      },
      "source": [
        "mydict['a'] = 900"
      ],
      "execution_count": 66,
      "outputs": []
    },
    {
      "cell_type": "code",
      "metadata": {
        "id": "oG9LcfG4Ywlw",
        "colab": {
          "base_uri": "https://localhost:8080/"
        },
        "outputId": "0c9f55bb-5653-4b7d-80cf-d8ab66c1355b"
      },
      "source": [
        "mydict"
      ],
      "execution_count": 67,
      "outputs": [
        {
          "output_type": "execute_result",
          "data": {
            "text/plain": [
              "{'a': 900, 'b': 200, 'c': 300, 'd': 400, 'e': 500}"
            ]
          },
          "metadata": {},
          "execution_count": 67
        }
      ]
    },
    {
      "cell_type": "markdown",
      "metadata": {
        "id": "-kLyGYjxE7hz"
      },
      "source": [
        "### 제거하기 / key 제거"
      ]
    },
    {
      "cell_type": "code",
      "metadata": {
        "id": "cLjtPUaAFFbb",
        "colab": {
          "base_uri": "https://localhost:8080/"
        },
        "outputId": "6f087b98-8cd1-420c-c5fc-0e3e5b0937e2"
      },
      "source": [
        "mydict = {'a': 100, 'b': 200, 'c': 300, 'd': 400, 'e': 500}\n",
        "mydict"
      ],
      "execution_count": 68,
      "outputs": [
        {
          "output_type": "execute_result",
          "data": {
            "text/plain": [
              "{'a': 100, 'b': 200, 'c': 300, 'd': 400, 'e': 500}"
            ]
          },
          "metadata": {},
          "execution_count": 68
        }
      ]
    },
    {
      "cell_type": "markdown",
      "metadata": {
        "id": "bt3Vt5KwfHkR"
      },
      "source": [
        "`del` 값을 제거할 수 있습니다.\n",
        "\n",
        "`del`에 딕셔너리 key를 지정합니다."
      ]
    },
    {
      "cell_type": "code",
      "metadata": {
        "id": "ERB2PC_rFHMI"
      },
      "source": [
        "del mydict['a']"
      ],
      "execution_count": 69,
      "outputs": []
    },
    {
      "cell_type": "code",
      "metadata": {
        "id": "FbytLQk7FQZi",
        "colab": {
          "base_uri": "https://localhost:8080/"
        },
        "outputId": "780f6f8d-9101-44a5-ebfb-11bed2ae3e84"
      },
      "source": [
        "mydict"
      ],
      "execution_count": 70,
      "outputs": [
        {
          "output_type": "execute_result",
          "data": {
            "text/plain": [
              "{'b': 200, 'c': 300, 'd': 400, 'e': 500}"
            ]
          },
          "metadata": {},
          "execution_count": 70
        }
      ]
    },
    {
      "cell_type": "markdown",
      "metadata": {
        "id": "VHI6XFJQfHkW"
      },
      "source": [
        "`pop()` 에 key를 지정하여 값을 제거할 수 있습니다.\n",
        "\n",
        "제거되는 값의 value를 반환합니다."
      ]
    },
    {
      "cell_type": "code",
      "metadata": {
        "id": "EidmEyoEFKYv",
        "colab": {
          "base_uri": "https://localhost:8080/"
        },
        "outputId": "6bcd081a-071e-4a37-b678-fdf42943447c"
      },
      "source": [
        "mydict.pop('b')"
      ],
      "execution_count": 71,
      "outputs": [
        {
          "output_type": "execute_result",
          "data": {
            "text/plain": [
              "200"
            ]
          },
          "metadata": {},
          "execution_count": 71
        }
      ]
    },
    {
      "cell_type": "code",
      "metadata": {
        "id": "Yzyg9i2LFPGI",
        "colab": {
          "base_uri": "https://localhost:8080/"
        },
        "outputId": "60f07269-7837-4d21-a9fd-9e3efe47d5be"
      },
      "source": [
        "mydict"
      ],
      "execution_count": 72,
      "outputs": [
        {
          "output_type": "execute_result",
          "data": {
            "text/plain": [
              "{'c': 300, 'd': 400, 'e': 500}"
            ]
          },
          "metadata": {},
          "execution_count": 72
        }
      ]
    },
    {
      "cell_type": "markdown",
      "metadata": {
        "id": "0SEF7gLRY_Ik"
      },
      "source": [
        "### len() : 요소의 개수 파악"
      ]
    },
    {
      "cell_type": "code",
      "metadata": {
        "id": "YCAsgXFTZCmh",
        "colab": {
          "base_uri": "https://localhost:8080/"
        },
        "outputId": "1c3531c2-d4a3-4b93-f76a-1756f1c9f4ab"
      },
      "source": [
        "len(mydict)"
      ],
      "execution_count": 73,
      "outputs": [
        {
          "output_type": "execute_result",
          "data": {
            "text/plain": [
              "3"
            ]
          },
          "metadata": {},
          "execution_count": 73
        }
      ]
    },
    {
      "cell_type": "markdown",
      "metadata": {
        "id": "K3NzGkvPfHkX"
      },
      "source": [
        "### clear() - 전부 삭제"
      ]
    },
    {
      "cell_type": "code",
      "metadata": {
        "id": "p5W-ARh6fHkX",
        "colab": {
          "base_uri": "https://localhost:8080/"
        },
        "outputId": "553aaf16-7fd2-4c44-c9af-fc270a345a72"
      },
      "source": [
        "mydict = {'a': 100, 'b': 200, 'c': 300, 'd': 400, 'e': 500}\n",
        "mydict"
      ],
      "execution_count": 74,
      "outputs": [
        {
          "output_type": "execute_result",
          "data": {
            "text/plain": [
              "{'a': 100, 'b': 200, 'c': 300, 'd': 400, 'e': 500}"
            ]
          },
          "metadata": {},
          "execution_count": 74
        }
      ]
    },
    {
      "cell_type": "code",
      "metadata": {
        "id": "n3Pd3H8hfHkX"
      },
      "source": [
        "mydict.clear()"
      ],
      "execution_count": 75,
      "outputs": []
    },
    {
      "cell_type": "code",
      "metadata": {
        "id": "4f9RTbjefHkX",
        "colab": {
          "base_uri": "https://localhost:8080/"
        },
        "outputId": "d8fc4ca7-eedd-42ea-c936-6f63d088439e"
      },
      "source": [
        "mydict"
      ],
      "execution_count": 76,
      "outputs": [
        {
          "output_type": "execute_result",
          "data": {
            "text/plain": [
              "{}"
            ]
          },
          "metadata": {},
          "execution_count": 76
        }
      ]
    },
    {
      "cell_type": "markdown",
      "metadata": {
        "id": "pPl7y7cWsMYB"
      },
      "source": [
        "### 연습문제"
      ]
    },
    {
      "cell_type": "markdown",
      "metadata": {
        "id": "1ZsgKVeV3PXp"
      },
      "source": [
        "- 학생들의 이름과 점수를 key와 value로 가지는 `score` 변수를 생성하세요.\n",
        "    - 하준 90점, 서윤 86점, 지아 80점"
      ]
    },
    {
      "cell_type": "code",
      "metadata": {
        "id": "UWLF-tRb3PXq",
        "colab": {
          "base_uri": "https://localhost:8080/"
        },
        "outputId": "d3209462-c70c-4f06-d887-e209aec237f6"
      },
      "source": [
        "# 코드를 입력해 주세요\n",
        "score = {'하준':90, '서윤':86, '지아':80}\n",
        "score"
      ],
      "execution_count": 2,
      "outputs": [
        {
          "output_type": "execute_result",
          "data": {
            "text/plain": [
              "{'하준': 90, '서윤': 86, '지아': 80}"
            ]
          },
          "metadata": {},
          "execution_count": 2
        }
      ]
    },
    {
      "cell_type": "markdown",
      "metadata": {
        "id": "SM02SNxJfHkY"
      },
      "source": [
        "<p><strong>[출력 결과]</strong></p><pre>{'하준': 90, '서윤': 86, '지아': 80}</pre>"
      ]
    },
    {
      "cell_type": "markdown",
      "metadata": {
        "id": "jM32b3t2qbax"
      },
      "source": [
        "score 변수에 수지 95점을 추가하세요."
      ]
    },
    {
      "cell_type": "code",
      "metadata": {
        "id": "KsOqR1HtCtex",
        "colab": {
          "base_uri": "https://localhost:8080/"
        },
        "outputId": "d0cb1fd9-75ee-409b-b786-6cff2d8ebcbe"
      },
      "source": [
        "# 코드를 입력해 주세요\n",
        "score.update({'수지':95})\n",
        "score"
      ],
      "execution_count": 3,
      "outputs": [
        {
          "output_type": "execute_result",
          "data": {
            "text/plain": [
              "{'하준': 90, '서윤': 86, '지아': 80, '수지': 95}"
            ]
          },
          "metadata": {},
          "execution_count": 3
        }
      ]
    },
    {
      "cell_type": "markdown",
      "metadata": {
        "id": "p4v_-ZO8fHkZ"
      },
      "source": [
        "<p><strong>[출력 결과]</strong></p><pre>{'하준': 90, '서윤': 86, '지아': 80, '수지': 95}</pre>"
      ]
    },
    {
      "cell_type": "markdown",
      "metadata": {
        "id": "UcmPMPS8qeBX"
      },
      "source": [
        "score 변수에서 지아를 삭제하세요."
      ]
    },
    {
      "cell_type": "code",
      "metadata": {
        "id": "r1Xec5mX3PXs",
        "colab": {
          "base_uri": "https://localhost:8080/"
        },
        "outputId": "896e7b78-d8c0-4c98-f2e9-fe5c4ced82ec"
      },
      "source": [
        "# 코드를 입력해 주세요\n",
        "del score['지아']\n",
        "score"
      ],
      "execution_count": 6,
      "outputs": [
        {
          "output_type": "execute_result",
          "data": {
            "text/plain": [
              "{'하준': 90, '서윤': 86, '수지': 95}"
            ]
          },
          "metadata": {},
          "execution_count": 6
        }
      ]
    },
    {
      "cell_type": "markdown",
      "metadata": {
        "id": "n5JN2PaKfHkZ"
      },
      "source": [
        "<p><strong>[출력 결과]</strong></p><pre>{'하준': 90, '서윤': 86, '수지': 95}</pre>"
      ]
    },
    {
      "cell_type": "markdown",
      "metadata": {
        "id": "apYvbt9kqhFo"
      },
      "source": [
        "score 변수에 기창 98점, 남철 60점, 기성 75점을 **한번에** 추가하세요.\n",
        "- update() 를 사용하세요"
      ]
    },
    {
      "cell_type": "code",
      "metadata": {
        "id": "y2_7I4ZWrF5-",
        "colab": {
          "base_uri": "https://localhost:8080/"
        },
        "outputId": "af653afb-a1df-46f7-de8c-6e395cccd75d"
      },
      "source": [
        "# 코드를 입력해 주세요\n",
        "score.update({'기창':98, '남철':60, '기성':75})\n",
        "score"
      ],
      "execution_count": 9,
      "outputs": [
        {
          "output_type": "execute_result",
          "data": {
            "text/plain": [
              "{'하준': 90, '서윤': 86, '수지': 95, '기창': 98, '남철': 60, '기성': 75}"
            ]
          },
          "metadata": {},
          "execution_count": 9
        }
      ]
    },
    {
      "cell_type": "markdown",
      "metadata": {
        "id": "w-MrKynYfHka"
      },
      "source": [
        "<p><strong>[출력 결과]</strong></p><pre>{'하준': 90, '서윤': 86, '수지': 95, '기창': 98, '남철': 60, '기성': 75}</pre>"
      ]
    }
  ]
}
