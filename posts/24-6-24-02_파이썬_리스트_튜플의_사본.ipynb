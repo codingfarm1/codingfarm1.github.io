{
  "nbformat": 4,
  "nbformat_minor": 0,
  "metadata": {
    "colab": {
      "provenance": [],
      "include_colab_link": true
    },
    "kernelspec": {
      "display_name": "Python 3",
      "language": "python",
      "name": "python3"
    },
    "language_info": {
      "codemirror_mode": {
        "name": "ipython",
        "version": 3
      },
      "file_extension": ".py",
      "mimetype": "text/x-python",
      "name": "python",
      "nbconvert_exporter": "python",
      "pygments_lexer": "ipython3",
      "version": "3.6.9"
    }
  },
  "cells": [
    {
      "cell_type": "markdown",
      "metadata": {
        "id": "view-in-github",
        "colab_type": "text"
      },
      "source": [
        "<a href=\"https://colab.research.google.com/github/codingfarm1/codingfarm1.github.io/blob/master/02_%ED%8C%8C%EC%9D%B4%EC%8D%AC_%EB%A6%AC%EC%8A%A4%ED%8A%B8_%ED%8A%9C%ED%94%8C%EC%9D%98_%EC%82%AC%EB%B3%B8.ipynb\" target=\"_parent\"><img src=\"https://colab.research.google.com/assets/colab-badge.svg\" alt=\"Open In Colab\"/></a>"
      ]
    },
    {
      "cell_type": "markdown",
      "metadata": {
        "id": "KgAFjs7iUREl"
      },
      "source": [
        "# 시퀀스, 집합형 자료구조"
      ]
    },
    {
      "cell_type": "markdown",
      "metadata": {
        "id": "JiAbeX-zcgW6"
      },
      "source": [
        "| 분류             | 타입                 | 특징                                   | 예시                     |\n",
        "| ---------------- | -------------------- | -------------------------------------- | ------------------------ |\n",
        "| 시퀀스(sequence) | 리스트(list)         | 순서가 있고, 가변(mutable)             | [1, 2, 3]                |\n",
        "| 시퀀스(sequence) | 튜플(tuple)          | 순서가 있고, 불변(immutable)           | (1, 2, 3)                |\n",
        "| 세트(set)        | 세트(set)            | 순서가 없고, 중복을 허용하지 않음      | {1, 2, 3}                |\n",
        "| 맵(map)          | 딕셔너리(dictionary) | 순서가 없고, key/value 쌍으로 이루어짐 | {'a': 1, 'b': 2, 'c': 3} |"
      ]
    },
    {
      "cell_type": "markdown",
      "source": [
        "시퀀스 : 순서가 있음\n",
        "\n",
        "가변 : 수정이 가능 (추가, 삭제)\n",
        "\n",
        "불변 : read only 수정이 안됨"
      ],
      "metadata": {
        "id": "zM_fiOqjX98-"
      }
    },
    {
      "cell_type": "markdown",
      "metadata": {
        "id": "d610lQinUwSN"
      },
      "source": [
        "## 리스트(list)\n",
        "\n",
        "- 리스트는 데이터의 요소를 순차적으로 파악하는데 용이한 자료형 입니다.\n",
        "- 리스트는 다양한 메서드(method) 혹은 함수를 지원하며 메서드를 활용하여 요소를 추가, 삭제 및 변경할 수 있습니다.\n",
        "\n",
        "**메서드(method)**: 객체(object)가 포함하는 함수 혹은 기능입니다. 함수에 대한 내용은 추후에 다룹니다."
      ]
    },
    {
      "cell_type": "markdown",
      "metadata": {
        "id": "Twq31zuC0xJJ"
      },
      "source": [
        "### 생성"
      ]
    },
    {
      "cell_type": "markdown",
      "metadata": {
        "id": "g-HX7XnQU5zN"
      },
      "source": [
        "[] 형태로 표현합니다."
      ]
    },
    {
      "cell_type": "markdown",
      "metadata": {
        "id": "x1yU3DI-cgW7"
      },
      "source": [
        "빈 리스트를 생성합니다."
      ]
    },
    {
      "cell_type": "code",
      "metadata": {
        "id": "xSAez-0xU_sg",
        "colab": {
          "base_uri": "https://localhost:8080/"
        },
        "outputId": "b896c506-4d23-4ef7-c563-b19563fdaeb7"
      },
      "source": [
        "mylist = []\n",
        "mylist"
      ],
      "execution_count": null,
      "outputs": [
        {
          "output_type": "execute_result",
          "data": {
            "text/plain": [
              "[]"
            ]
          },
          "metadata": {},
          "execution_count": 1
        }
      ]
    },
    {
      "cell_type": "code",
      "metadata": {
        "id": "CDyUdGJVcgW8",
        "colab": {
          "base_uri": "https://localhost:8080/"
        },
        "outputId": "019dcb3f-f158-409f-a3d0-60d4fbc905f9"
      },
      "source": [
        "mylist = list()\n",
        "mylist"
      ],
      "execution_count": null,
      "outputs": [
        {
          "output_type": "execute_result",
          "data": {
            "text/plain": [
              "[]"
            ]
          },
          "metadata": {},
          "execution_count": 2
        }
      ]
    },
    {
      "cell_type": "markdown",
      "metadata": {
        "id": "rboSudWScgW9"
      },
      "source": [
        "리스트를 생성하면서 값을 포함합니다."
      ]
    },
    {
      "cell_type": "code",
      "metadata": {
        "id": "IVS7djx4U0KS",
        "colab": {
          "base_uri": "https://localhost:8080/"
        },
        "outputId": "cf2c7ae7-2ee8-4def-d7df-137278c0796e"
      },
      "source": [
        "mylist = [1, 3, 2, 4, 5]\n",
        "mylist"
      ],
      "execution_count": null,
      "outputs": [
        {
          "output_type": "execute_result",
          "data": {
            "text/plain": [
              "[1, 3, 2, 4, 5]"
            ]
          },
          "metadata": {},
          "execution_count": 3
        }
      ]
    },
    {
      "cell_type": "markdown",
      "metadata": {
        "id": "SxrF2tkJz26f"
      },
      "source": [
        "### list 규칙"
      ]
    },
    {
      "cell_type": "markdown",
      "metadata": {
        "id": "C1SLDi69z5ag"
      },
      "source": [
        "* list는 다양한 type의 데이터를 집합으로 가집니다.\n",
        "* list안에 list도 허용합니다.\n",
        "* list는 순서(order)의 개념이 존재합니다."
      ]
    },
    {
      "cell_type": "code",
      "metadata": {
        "id": "TZimFWErz6KT"
      },
      "source": [
        "a = []"
      ],
      "execution_count": null,
      "outputs": []
    },
    {
      "cell_type": "code",
      "metadata": {
        "id": "gF2NT1YW_5bz",
        "colab": {
          "base_uri": "https://localhost:8080/"
        },
        "outputId": "d9b893bb-fe73-4a1e-b2a0-3eee59b48fd4"
      },
      "source": [
        "a"
      ],
      "execution_count": null,
      "outputs": [
        {
          "output_type": "execute_result",
          "data": {
            "text/plain": [
              "[]"
            ]
          },
          "metadata": {},
          "execution_count": 5
        }
      ]
    },
    {
      "cell_type": "code",
      "metadata": {
        "id": "rhAQ23ymz8W6",
        "colab": {
          "base_uri": "https://localhost:8080/"
        },
        "outputId": "9b64b80c-68b9-436f-b1a6-18a55ddb3b48"
      },
      "source": [
        "a = [1, 2, 3]\n",
        "a"
      ],
      "execution_count": null,
      "outputs": [
        {
          "output_type": "execute_result",
          "data": {
            "text/plain": [
              "[1, 2, 3]"
            ]
          },
          "metadata": {},
          "execution_count": 6
        }
      ]
    },
    {
      "cell_type": "code",
      "metadata": {
        "id": "RRoIj9ISz92M",
        "colab": {
          "base_uri": "https://localhost:8080/"
        },
        "outputId": "9bb03809-a401-4344-f262-0f8710ed3d98"
      },
      "source": [
        "a = [1, 'hello', 3, 3.14, True]\n",
        "a"
      ],
      "execution_count": null,
      "outputs": [
        {
          "output_type": "execute_result",
          "data": {
            "text/plain": [
              "[1, 'hello', 3, 3.14, True]"
            ]
          },
          "metadata": {},
          "execution_count": 7
        }
      ]
    },
    {
      "cell_type": "markdown",
      "metadata": {
        "id": "nM_LJznJcgW-"
      },
      "source": [
        "리스트 안에 리스트로 포함할 수 있습니다."
      ]
    },
    {
      "cell_type": "code",
      "metadata": {
        "id": "2fdiq1bc0B3G",
        "colab": {
          "base_uri": "https://localhost:8080/"
        },
        "outputId": "555cc508-cd57-4f68-a113-e58ed5854713"
      },
      "source": [
        "a = [1, 'hello', 3, 3.14, [6, 7, '8']]\n",
        "a"
      ],
      "execution_count": null,
      "outputs": [
        {
          "output_type": "execute_result",
          "data": {
            "text/plain": [
              "[1, 'hello', 3, 3.14, [6, 7, '8']]"
            ]
          },
          "metadata": {},
          "execution_count": 8
        }
      ]
    },
    {
      "cell_type": "markdown",
      "metadata": {
        "id": "JSh4BXzRWUY_"
      },
      "source": [
        "### 관련 함수\n",
        "\n",
        "- . 점 연산자로 함수를 실행할 수 있습니다.\n",
        "- 함수는 어떤 작업을 수행하는 코드를 모아 이름을 붙인 것입니다.\n",
        "- 자세한 내용은 추후 함수 단원에서 배웁니다."
      ]
    },
    {
      "cell_type": "markdown",
      "source": [
        "점 연산자로 리스트가 가진 기능을 사용할 수 있음."
      ],
      "metadata": {
        "id": "r2RvkpPlbi7V"
      }
    },
    {
      "cell_type": "markdown",
      "metadata": {
        "id": "ilJWB7H8qjNa"
      },
      "source": [
        "### append() : 값 추가"
      ]
    },
    {
      "cell_type": "markdown",
      "metadata": {
        "id": "gLBi5RsP2Cjb"
      },
      "source": [
        "빈 리스트를 생성합니다."
      ]
    },
    {
      "cell_type": "code",
      "metadata": {
        "id": "JWnjMkgr1oQb",
        "colab": {
          "base_uri": "https://localhost:8080/"
        },
        "outputId": "c6ad0bf2-60d7-4049-dcfe-d7f5d0b66609"
      },
      "source": [
        "mylist = []\n",
        "mylist"
      ],
      "execution_count": null,
      "outputs": [
        {
          "output_type": "execute_result",
          "data": {
            "text/plain": [
              "[]"
            ]
          },
          "metadata": {},
          "execution_count": 9
        }
      ]
    },
    {
      "cell_type": "markdown",
      "metadata": {
        "id": "jZCHtjoGcgW_"
      },
      "source": [
        "append() 는 값을 맨 뒤에 추가 합니다."
      ]
    },
    {
      "cell_type": "code",
      "metadata": {
        "id": "AYHFOiG2VJEQ",
        "colab": {
          "base_uri": "https://localhost:8080/"
        },
        "outputId": "4df64c39-fa21-44a3-b4be-c4c9c5314d7e"
      },
      "source": [
        "mylist.append(1)\n",
        "mylist"
      ],
      "execution_count": null,
      "outputs": [
        {
          "output_type": "execute_result",
          "data": {
            "text/plain": [
              "[1, 7, 7, 7, 3, 5, 2, 1, 1, 1, 1, 1]"
            ]
          },
          "metadata": {},
          "execution_count": 16
        }
      ]
    },
    {
      "cell_type": "markdown",
      "source": [
        "위의 코드를 여러번 수행하면 계속 맨 뒤에 값이 추가됨!"
      ],
      "metadata": {
        "id": "kG1jscD0byTu"
      }
    },
    {
      "cell_type": "markdown",
      "metadata": {
        "id": "_QLShecBcgW_"
      },
      "source": [
        "중복된 값을 추가할 수 있으며, 순서가 **유지**됩니다."
      ]
    },
    {
      "cell_type": "code",
      "metadata": {
        "id": "LBBwfWxRVK6E",
        "colab": {
          "base_uri": "https://localhost:8080/"
        },
        "outputId": "36270b28-7e04-4c25-fed3-29542dd1d97b"
      },
      "source": [
        "mylist.append(7)\n",
        "mylist.append(7)\n",
        "mylist.append(7)\n",
        "mylist.append(3)\n",
        "mylist.append(5)\n",
        "mylist.append(2)\n",
        "mylist"
      ],
      "execution_count": null,
      "outputs": [
        {
          "output_type": "execute_result",
          "data": {
            "text/plain": [
              "[1, 7, 7, 7, 3, 5, 2, 1, 1, 1, 1, 1, 7, 7, 7, 3, 5, 2]"
            ]
          },
          "metadata": {},
          "execution_count": 17
        }
      ]
    },
    {
      "cell_type": "markdown",
      "metadata": {
        "id": "mwaKcYsRWatD"
      },
      "source": [
        "### sort() : 정렬"
      ]
    },
    {
      "cell_type": "markdown",
      "metadata": {
        "id": "TkuM5mqM1-r-"
      },
      "source": [
        "- 요소를 순서대로 정렬합니다 (오름차순)\n",
        "- sort()는 내부적으로 정렬 합니다."
      ]
    },
    {
      "cell_type": "code",
      "metadata": {
        "id": "ZjRQXZAHWccX"
      },
      "source": [
        "mylist = [1, 6, 3, 2, 7, 5, 4]\n",
        "mylist.sort()"
      ],
      "execution_count": null,
      "outputs": []
    },
    {
      "cell_type": "code",
      "metadata": {
        "id": "amuUCcPl17Hq",
        "colab": {
          "base_uri": "https://localhost:8080/"
        },
        "outputId": "bbcc6efb-a7ec-407d-c697-f73917a83a06"
      },
      "source": [
        "mylist"
      ],
      "execution_count": null,
      "outputs": [
        {
          "output_type": "execute_result",
          "data": {
            "text/plain": [
              "[1, 2, 3, 4, 5, 6, 7]"
            ]
          },
          "metadata": {},
          "execution_count": 19
        }
      ]
    },
    {
      "cell_type": "markdown",
      "metadata": {
        "id": "EaHHAmqlcgXA"
      },
      "source": [
        "역정렬(reverse order)도 가능합니다. (`reverse=True`를 지정합니다.)"
      ]
    },
    {
      "cell_type": "code",
      "metadata": {
        "id": "BdCWTN-wcgXB"
      },
      "source": [
        "mylist = [1, 6, 3, 2, 7, 5, 4]\n",
        "mylist.sort(reverse=True)"
      ],
      "execution_count": null,
      "outputs": []
    },
    {
      "cell_type": "code",
      "metadata": {
        "id": "v592Eh_ycgXB",
        "colab": {
          "base_uri": "https://localhost:8080/"
        },
        "outputId": "05f95cdf-a1bd-4d1e-a2fe-813ed3af139a"
      },
      "source": [
        "mylist"
      ],
      "execution_count": null,
      "outputs": [
        {
          "output_type": "execute_result",
          "data": {
            "text/plain": [
              "[7, 6, 5, 4, 3, 2, 1]"
            ]
          },
          "metadata": {},
          "execution_count": 21
        }
      ]
    },
    {
      "cell_type": "markdown",
      "metadata": {
        "id": "mXtpy3CIcgXB"
      },
      "source": [
        "### sorted() : 정렬\n",
        "\n",
        "- 요소를 순서대로 정렬합니다.\n",
        "- 내부적으로 정렬하지 않고 **정렬된 복사본을 반환**합니다.\n",
        "위의 .sort함수와 다른점\n",
        "\n",
        "- 즉 원본 데이터는 정렬되지 않습니다."
      ]
    },
    {
      "cell_type": "markdown",
      "source": [
        "정렬 방법 중 내장 함수 활용하는 법"
      ],
      "metadata": {
        "id": "djKVAmDmcQlo"
      }
    },
    {
      "cell_type": "code",
      "metadata": {
        "id": "ed62pm5YcgXB",
        "colab": {
          "base_uri": "https://localhost:8080/"
        },
        "outputId": "b056101f-5a44-4dc0-cd65-fe61f9f72430"
      },
      "source": [
        "mylist = [1, 6, 3, 2, 7, 5, 4]\n",
        "mylist2 = sorted(mylist)\n",
        "mylist2"
      ],
      "execution_count": null,
      "outputs": [
        {
          "output_type": "execute_result",
          "data": {
            "text/plain": [
              "[1, 2, 3, 4, 5, 6, 7]"
            ]
          },
          "metadata": {},
          "execution_count": 22
        }
      ]
    },
    {
      "cell_type": "code",
      "metadata": {
        "id": "xOh7qMeEcgXB",
        "colab": {
          "base_uri": "https://localhost:8080/"
        },
        "outputId": "4e1d790b-fe3c-48e4-abbf-4c393f978baa"
      },
      "source": [
        "mylist"
      ],
      "execution_count": null,
      "outputs": [
        {
          "output_type": "execute_result",
          "data": {
            "text/plain": [
              "[1, 6, 3, 2, 7, 5, 4]"
            ]
          },
          "metadata": {},
          "execution_count": 23
        }
      ]
    },
    {
      "cell_type": "markdown",
      "metadata": {
        "id": "q3TDyJrbcgXB"
      },
      "source": [
        "마찬가지로, `reverse=True`를 지정하여 역정렬할 수 있습니다."
      ]
    },
    {
      "cell_type": "code",
      "metadata": {
        "id": "NA3OFWdMcgXC",
        "colab": {
          "base_uri": "https://localhost:8080/"
        },
        "outputId": "f10c0e72-2e8c-45dc-d9cd-c4331163b1ab"
      },
      "source": [
        "mylist = [1, 6, 3, 2, 7, 5, 4]\n",
        "sorted(mylist, reverse=True)"
      ],
      "execution_count": null,
      "outputs": [
        {
          "output_type": "execute_result",
          "data": {
            "text/plain": [
              "[7, 6, 5, 4, 3, 2, 1]"
            ]
          },
          "metadata": {},
          "execution_count": 24
        }
      ]
    },
    {
      "cell_type": "markdown",
      "metadata": {
        "id": "Dx97KWki2JOq"
      },
      "source": [
        "### reverse() : 역정렬"
      ]
    },
    {
      "cell_type": "code",
      "metadata": {
        "id": "PiTJMwY1DR9e",
        "colab": {
          "base_uri": "https://localhost:8080/"
        },
        "outputId": "91052105-4938-4e7a-94da-eb6fbd3dca71"
      },
      "source": [
        "mylist"
      ],
      "execution_count": null,
      "outputs": [
        {
          "output_type": "execute_result",
          "data": {
            "text/plain": [
              "[1, 6, 3, 2, 7, 5, 4]"
            ]
          },
          "metadata": {},
          "execution_count": 25
        }
      ]
    },
    {
      "cell_type": "code",
      "metadata": {
        "id": "VGDfSJFADsRO"
      },
      "source": [
        "mylist.reverse()"
      ],
      "execution_count": null,
      "outputs": []
    },
    {
      "cell_type": "code",
      "metadata": {
        "id": "hU9A_WURDuMG",
        "colab": {
          "base_uri": "https://localhost:8080/"
        },
        "outputId": "528f7c9e-75ce-4a4c-9734-37102d1f0746"
      },
      "source": [
        "mylist"
      ],
      "execution_count": null,
      "outputs": [
        {
          "output_type": "execute_result",
          "data": {
            "text/plain": [
              "[4, 5, 7, 2, 3, 6, 1]"
            ]
          },
          "metadata": {},
          "execution_count": 27
        }
      ]
    },
    {
      "cell_type": "markdown",
      "source": [
        "역순으로 정렬\n",
        "\n",
        "순서를 뒤집어서 정렬 (내림차순 정렬 아님)"
      ],
      "metadata": {
        "id": "O0iYlLHOc95z"
      }
    },
    {
      "cell_type": "code",
      "metadata": {
        "id": "S8C3nmHBEKZO",
        "colab": {
          "base_uri": "https://localhost:8080/"
        },
        "outputId": "191f23a7-4a90-4dcc-90fc-34c42075c755"
      },
      "source": [
        "mylist[::-1]"
      ],
      "execution_count": null,
      "outputs": [
        {
          "output_type": "execute_result",
          "data": {
            "text/plain": [
              "[1, 6, 3, 2, 7, 5, 4]"
            ]
          },
          "metadata": {},
          "execution_count": 28
        }
      ]
    },
    {
      "cell_type": "code",
      "metadata": {
        "id": "HEKGCsRnEURt",
        "colab": {
          "base_uri": "https://localhost:8080/"
        },
        "outputId": "05aedbe9-6b20-406b-dec5-d1238a9f451a"
      },
      "source": [
        "mylist"
      ],
      "execution_count": null,
      "outputs": [
        {
          "output_type": "execute_result",
          "data": {
            "text/plain": [
              "[4, 5, 7, 2, 3, 6, 1]"
            ]
          },
          "metadata": {},
          "execution_count": 29
        }
      ]
    },
    {
      "cell_type": "markdown",
      "source": [
        "[::-1]은 인덱싱 방식 - 원본에는 영향을 주지 않음"
      ],
      "metadata": {
        "id": "iFJTr1NadTLB"
      }
    },
    {
      "cell_type": "markdown",
      "metadata": {
        "id": "QJ8NCnNbcgXC"
      },
      "source": [
        "### len() : 전체 항목의 개수 세기"
      ]
    },
    {
      "cell_type": "code",
      "metadata": {
        "id": "FaDoNkLLcgXC",
        "colab": {
          "base_uri": "https://localhost:8080/"
        },
        "outputId": "779474b3-a7ac-4592-a40c-7fc51e0deef2"
      },
      "source": [
        "mylist = [1, 6, 3, 2, 7, 5, 4]\n",
        "len(mylist)"
      ],
      "execution_count": null,
      "outputs": [
        {
          "output_type": "execute_result",
          "data": {
            "text/plain": [
              "7"
            ]
          },
          "metadata": {},
          "execution_count": 30
        }
      ]
    },
    {
      "cell_type": "markdown",
      "metadata": {
        "id": "0U0bsd5W2TPk"
      },
      "source": [
        "### insert() : 값 추가"
      ]
    },
    {
      "cell_type": "markdown",
      "metadata": {
        "id": "k_rbdp2q2VoN"
      },
      "source": [
        "지정한 index에 값 추가"
      ]
    },
    {
      "cell_type": "code",
      "metadata": {
        "id": "Sz687uQGE0_t"
      },
      "source": [
        "mylist = [1, 6, 3, 2, 7, 5, 4]"
      ],
      "execution_count": null,
      "outputs": []
    },
    {
      "cell_type": "code",
      "metadata": {
        "id": "2iZQBTNXE2SH",
        "colab": {
          "base_uri": "https://localhost:8080/"
        },
        "outputId": "41adb4dd-9e89-4c16-8fda-9d4479f4f7f5"
      },
      "source": [
        "mylist"
      ],
      "execution_count": null,
      "outputs": [
        {
          "output_type": "execute_result",
          "data": {
            "text/plain": [
              "[1, 6, 3, 2, 7, 5, 4]"
            ]
          },
          "metadata": {},
          "execution_count": 32
        }
      ]
    },
    {
      "cell_type": "code",
      "metadata": {
        "id": "ftFR8PsbVOx0"
      },
      "source": [
        "mylist.insert(1, 100)"
      ],
      "execution_count": null,
      "outputs": []
    },
    {
      "cell_type": "markdown",
      "source": [
        "인덱스 1번에 100 정수 값 추가"
      ],
      "metadata": {
        "id": "nUC5Mv3Cf580"
      }
    },
    {
      "cell_type": "code",
      "metadata": {
        "id": "mT1vjQoQEytu",
        "colab": {
          "base_uri": "https://localhost:8080/"
        },
        "outputId": "ce7b4144-fc27-4f64-877c-3ea29a001eaf"
      },
      "source": [
        "mylist"
      ],
      "execution_count": null,
      "outputs": [
        {
          "output_type": "execute_result",
          "data": {
            "text/plain": [
              "[1, 100, 6, 3, 2, 7, 5, 4]"
            ]
          },
          "metadata": {},
          "execution_count": 34
        }
      ]
    },
    {
      "cell_type": "markdown",
      "metadata": {
        "id": "twBqWxkQ2j27"
      },
      "source": [
        "### remove() : 값 제거"
      ]
    },
    {
      "cell_type": "markdown",
      "metadata": {
        "id": "GFSPMzGn2ngJ"
      },
      "source": [
        "리스트 중 첫 번째 나오는 해당 값 삭제"
      ]
    },
    {
      "cell_type": "code",
      "metadata": {
        "id": "Dx28A1GMFC4D"
      },
      "source": [
        "mylist = [1, 2, 3, 4, 7, 7, 7, 6, 5]"
      ],
      "execution_count": null,
      "outputs": []
    },
    {
      "cell_type": "code",
      "metadata": {
        "id": "TsBOX9IHVRgU"
      },
      "source": [
        "mylist.remove(7)"
      ],
      "execution_count": null,
      "outputs": []
    },
    {
      "cell_type": "code",
      "metadata": {
        "id": "2IqkZq9r2xr2"
      },
      "source": [
        "mylist"
      ],
      "execution_count": null,
      "outputs": []
    },
    {
      "cell_type": "markdown",
      "metadata": {
        "id": "fDheQenM2yX3"
      },
      "source": [
        "### pop() : 요소 꺼내기"
      ]
    },
    {
      "cell_type": "markdown",
      "metadata": {
        "id": "Alg4teMF2_ym"
      },
      "source": [
        "x번째 요소를 돌려주고 해당 요소는 삭제"
      ]
    },
    {
      "cell_type": "code",
      "metadata": {
        "id": "kMKHxQhkFU91"
      },
      "source": [
        "mylist = [1, 2, 3, 4, 7, 7, 7, 6, 5]"
      ],
      "execution_count": null,
      "outputs": []
    },
    {
      "cell_type": "code",
      "metadata": {
        "id": "HFTjI5LLFW0N",
        "colab": {
          "base_uri": "https://localhost:8080/"
        },
        "outputId": "39cb133c-aa2c-4a38-9300-cee2393e2e56"
      },
      "source": [
        "mylist"
      ],
      "execution_count": null,
      "outputs": [
        {
          "output_type": "execute_result",
          "data": {
            "text/plain": [
              "[1, 2, 3, 4, 7, 7, 7, 6, 5]"
            ]
          },
          "metadata": {},
          "execution_count": 36
        }
      ]
    },
    {
      "cell_type": "code",
      "metadata": {
        "id": "SAnoxn-l2431",
        "colab": {
          "base_uri": "https://localhost:8080/"
        },
        "outputId": "11aca8d2-ca01-4fbe-b2c6-e728b99113d8"
      },
      "source": [
        "mylist.pop(1)"
      ],
      "execution_count": null,
      "outputs": [
        {
          "output_type": "execute_result",
          "data": {
            "text/plain": [
              "2"
            ]
          },
          "metadata": {},
          "execution_count": 37
        }
      ]
    },
    {
      "cell_type": "markdown",
      "source": [
        ".pop(삭제할 해당 값의 인덱스)\n",
        "\n",
        "삭제할 해당 값의 인덱스를 꺼내고 삭제할 값 print"
      ],
      "metadata": {
        "id": "feTh1jGjhjHq"
      }
    },
    {
      "cell_type": "code",
      "metadata": {
        "id": "kETiPBoBFiYk",
        "colab": {
          "base_uri": "https://localhost:8080/"
        },
        "outputId": "10626cf9-cdaf-427e-f0cd-5d0da4dd50f4"
      },
      "source": [
        "mylist"
      ],
      "execution_count": null,
      "outputs": [
        {
          "output_type": "execute_result",
          "data": {
            "text/plain": [
              "[1, 3, 4, 7, 7, 7, 6, 5]"
            ]
          },
          "metadata": {},
          "execution_count": 38
        }
      ]
    },
    {
      "cell_type": "markdown",
      "metadata": {
        "id": "V0N1pvlhcgXE"
      },
      "source": [
        "### del : 요소 삭제"
      ]
    },
    {
      "cell_type": "code",
      "metadata": {
        "id": "QrLwP1wLcgXE",
        "colab": {
          "base_uri": "https://localhost:8080/"
        },
        "outputId": "a095f395-d630-45f5-a3b9-251e08bcc5dd"
      },
      "source": [
        "mylist = [100, 200, 300, 400, 500]\n",
        "\n",
        "del mylist[1]\n",
        "print(mylist)\n",
        "\n",
        "del mylist[3]\n",
        "print(mylist)"
      ],
      "execution_count": null,
      "outputs": [
        {
          "output_type": "stream",
          "name": "stdout",
          "text": [
            "[100, 300, 400, 500]\n",
            "[100, 300, 400]\n"
          ]
        }
      ]
    },
    {
      "cell_type": "markdown",
      "metadata": {
        "id": "uz1LiSBZ3F0C"
      },
      "source": [
        "### count() : 갯수 세기"
      ]
    },
    {
      "cell_type": "code",
      "metadata": {
        "id": "XAI1jJ6d3Lp7"
      },
      "source": [
        "a = [1, 1, 1, 1, 1, 2, 2, 3]"
      ],
      "execution_count": null,
      "outputs": []
    },
    {
      "cell_type": "code",
      "metadata": {
        "id": "3nfuqjHB3Ojs",
        "colab": {
          "base_uri": "https://localhost:8080/"
        },
        "outputId": "adbe081a-a71d-4ab6-93e8-97d8de199048"
      },
      "source": [
        "a.count(1)"
      ],
      "execution_count": null,
      "outputs": [
        {
          "output_type": "execute_result",
          "data": {
            "text/plain": [
              "5"
            ]
          },
          "metadata": {},
          "execution_count": 41
        }
      ]
    },
    {
      "cell_type": "code",
      "metadata": {
        "id": "oJHVq8ev3P0_",
        "colab": {
          "base_uri": "https://localhost:8080/"
        },
        "outputId": "cb190e9b-fa8d-405a-b7b4-552daa4358ef"
      },
      "source": [
        "a.count(2)"
      ],
      "execution_count": null,
      "outputs": [
        {
          "output_type": "execute_result",
          "data": {
            "text/plain": [
              "2"
            ]
          },
          "metadata": {},
          "execution_count": 42
        }
      ]
    },
    {
      "cell_type": "code",
      "metadata": {
        "id": "jEoHgBm_3S5R",
        "colab": {
          "base_uri": "https://localhost:8080/"
        },
        "outputId": "f85e725d-0793-43ce-929f-88ce03a3dc0d"
      },
      "source": [
        "a.count(5)"
      ],
      "execution_count": null,
      "outputs": [
        {
          "output_type": "execute_result",
          "data": {
            "text/plain": [
              "0"
            ]
          },
          "metadata": {},
          "execution_count": 43
        }
      ]
    },
    {
      "cell_type": "markdown",
      "metadata": {
        "id": "t2s6BnF_3W04"
      },
      "source": [
        "### extend() : 리스트 확장"
      ]
    },
    {
      "cell_type": "code",
      "metadata": {
        "id": "h9U2co-U3Ww1"
      },
      "source": [
        "a = [1, 2, 3]"
      ],
      "execution_count": null,
      "outputs": []
    },
    {
      "cell_type": "code",
      "metadata": {
        "id": "89lby2th3cn0"
      },
      "source": [
        "a.extend([4, 5])"
      ],
      "execution_count": null,
      "outputs": []
    },
    {
      "cell_type": "code",
      "metadata": {
        "id": "l72yuhjZ3Wri",
        "colab": {
          "base_uri": "https://localhost:8080/"
        },
        "outputId": "bca45c24-ec57-458f-ca3e-b1580bb72c9c"
      },
      "source": [
        "a"
      ],
      "execution_count": null,
      "outputs": [
        {
          "output_type": "execute_result",
          "data": {
            "text/plain": [
              "[1, 2, 3, 4, 5]"
            ]
          },
          "metadata": {},
          "execution_count": 46
        }
      ]
    },
    {
      "cell_type": "markdown",
      "metadata": {
        "id": "zYV3BI4zcgXG"
      },
      "source": [
        "`+` 연산자는 extend()와 동일한 기능을 수행합니다."
      ]
    },
    {
      "cell_type": "code",
      "metadata": {
        "id": "INJ26oUKcgXG",
        "colab": {
          "base_uri": "https://localhost:8080/"
        },
        "outputId": "075e84a1-6940-4b8e-8d20-f33a277d29d6"
      },
      "source": [
        "a = [1, 2, 3]\n",
        "a + [4, 5]"
      ],
      "execution_count": null,
      "outputs": [
        {
          "output_type": "execute_result",
          "data": {
            "text/plain": [
              "[1, 2, 3, 4, 5]"
            ]
          },
          "metadata": {},
          "execution_count": 47
        }
      ]
    },
    {
      "cell_type": "markdown",
      "metadata": {
        "id": "fMAdPD_zkFZm"
      },
      "source": [
        "### 연습문제"
      ]
    },
    {
      "cell_type": "code",
      "metadata": {
        "id": "Kh3ZEKT0kIqA"
      },
      "source": [
        "movie = ['어벤져스', '아이언맨', '토르', '스파이더맨']"
      ],
      "execution_count": null,
      "outputs": []
    },
    {
      "cell_type": "markdown",
      "metadata": {
        "id": "tyOTHPsMkzCo"
      },
      "source": [
        "`movie`에 맨 끝에 `엑스맨` 을 추가하세요."
      ]
    },
    {
      "cell_type": "code",
      "source": [
        "movie.extend(['엑스맨'])\n",
        "print(movie)"
      ],
      "metadata": {
        "colab": {
          "base_uri": "https://localhost:8080/"
        },
        "id": "s7_Cuh4GuXWl",
        "outputId": "8c1c21cd-12e2-4767-ed46-aee7fa7d2689"
      },
      "execution_count": null,
      "outputs": [
        {
          "output_type": "stream",
          "name": "stdout",
          "text": [
            "['어벤져스', '아이언맨', '토르', '스파이더맨', '엑스맨', '엑스맨']\n"
          ]
        }
      ]
    },
    {
      "cell_type": "code",
      "source": [
        "movie + ['엑스맨']"
      ],
      "metadata": {
        "colab": {
          "base_uri": "https://localhost:8080/"
        },
        "id": "uR91aWBVuP9d",
        "outputId": "54713d67-a823-4710-9b31-f5010a18f574"
      },
      "execution_count": null,
      "outputs": [
        {
          "output_type": "execute_result",
          "data": {
            "text/plain": [
              "['어벤져스', '아이언맨', '토르', '스파이더맨', '엑스맨']"
            ]
          },
          "metadata": {},
          "execution_count": 2
        }
      ]
    },
    {
      "cell_type": "code",
      "metadata": {
        "id": "PKEtjNIvlBek",
        "colab": {
          "base_uri": "https://localhost:8080/"
        },
        "outputId": "e66963f8-815f-44f2-c5b0-6b1d82da4a8b"
      },
      "source": [
        "# 코드를 입력해 주세요\n",
        "movie.append('엑스맨')\n",
        "movie"
      ],
      "execution_count": null,
      "outputs": [
        {
          "output_type": "execute_result",
          "data": {
            "text/plain": [
              "['어벤져스', '아이언맨', '토르', '스파이더맨', '엑스맨', '엑스맨', '엑스맨']"
            ]
          },
          "metadata": {},
          "execution_count": 5
        }
      ]
    },
    {
      "cell_type": "markdown",
      "metadata": {
        "id": "IYdeyJyPcgXH"
      },
      "source": [
        "<p><strong>[출력 결과]</strong></p><pre>['어벤져스', '아이언맨', '토르', '스파이더맨', '엑스맨']</pre>"
      ]
    },
    {
      "cell_type": "markdown",
      "metadata": {
        "id": "iel_W4C6ofKa"
      },
      "source": [
        "`movie`의 1번 index에 `데드풀`을 추가하세요"
      ]
    },
    {
      "cell_type": "code",
      "metadata": {
        "id": "yGyNESOdorFN",
        "colab": {
          "base_uri": "https://localhost:8080/"
        },
        "outputId": "2295ae7e-0fec-4f02-812f-d289aab29e96"
      },
      "source": [
        "# 코드를 입력해 주세요\n",
        "movie.insert(1,'데드풀')\n",
        "movie"
      ],
      "execution_count": null,
      "outputs": [
        {
          "output_type": "execute_result",
          "data": {
            "text/plain": [
              "['어벤져스', '데드풀', '아이언맨', '토르', '스파이더맨', '엑스맨', '엑스맨', '엑스맨']"
            ]
          },
          "metadata": {},
          "execution_count": 6
        }
      ]
    },
    {
      "cell_type": "markdown",
      "metadata": {
        "id": "-M36NN9VcgXH"
      },
      "source": [
        "<p><strong>[출력 결과]</strong></p><pre>['어벤져스', '데드풀', '아이언맨', '토르', '스파이더맨', '엑스맨']</pre>"
      ]
    },
    {
      "cell_type": "markdown",
      "metadata": {
        "id": "SyMuSUDFlICP"
      },
      "source": [
        "`movie`에서 `아이언맨`을 삭제 하세요.\n",
        "\n",
        "- remove() 사용"
      ]
    },
    {
      "cell_type": "code",
      "metadata": {
        "id": "y95NJRYSlQJb",
        "colab": {
          "base_uri": "https://localhost:8080/"
        },
        "outputId": "74aaea74-7ab7-483d-83d4-e177511bf95b"
      },
      "source": [
        "# 코드를 입력해 주세요\n",
        "movie.remove('아이언맨')\n",
        "movie"
      ],
      "execution_count": null,
      "outputs": [
        {
          "output_type": "execute_result",
          "data": {
            "text/plain": [
              "['어벤져스', '데드풀', '데드풀', '토르', '스파이더맨', '엑스맨']"
            ]
          },
          "metadata": {},
          "execution_count": 57
        }
      ]
    },
    {
      "cell_type": "markdown",
      "metadata": {
        "id": "6gPuUw05cgXH"
      },
      "source": [
        "<p><strong>[출력 결과]</strong></p><pre>['어벤져스', '데드풀', '토르', '스파이더맨', '엑스맨']</pre>"
      ]
    },
    {
      "cell_type": "markdown",
      "metadata": {
        "id": "iL1uUEihcgXI"
      },
      "source": [
        "`movie`에서 1번째 index를 삭제하세요"
      ]
    },
    {
      "cell_type": "code",
      "metadata": {
        "id": "qwkIw2cgcgXI",
        "colab": {
          "base_uri": "https://localhost:8080/"
        },
        "outputId": "5a513608-950d-473d-8f14-892fa46628b5"
      },
      "source": [
        "# 코드를 입력해 주세요\n",
        "movie.pop(1)\n",
        "movie"
      ],
      "execution_count": null,
      "outputs": [
        {
          "output_type": "execute_result",
          "data": {
            "text/plain": [
              "['어벤져스', '데드풀', '토르', '스파이더맨', '엑스맨']"
            ]
          },
          "metadata": {},
          "execution_count": 58
        }
      ]
    },
    {
      "cell_type": "markdown",
      "metadata": {
        "id": "tTQQ1qwccgXI"
      },
      "source": [
        "<p><strong>[출력 결과]</strong></p><pre>['어벤져스', '토르', '스파이더맨', '엑스맨']</pre>"
      ]
    },
    {
      "cell_type": "code",
      "metadata": {
        "id": "6aQemYcxcgXI"
      },
      "source": [
        "kr_movie = ['승리호', '신세계', '타짜']"
      ],
      "execution_count": null,
      "outputs": []
    },
    {
      "cell_type": "markdown",
      "metadata": {
        "id": "T4D9uE4EcgXI"
      },
      "source": [
        "`kr_movie`를 `movie`에 추가해 주세요"
      ]
    },
    {
      "cell_type": "code",
      "source": [
        "movie.append(kr_movie)\n",
        "movie"
      ],
      "metadata": {
        "colab": {
          "base_uri": "https://localhost:8080/"
        },
        "id": "do7-nRgtuz1j",
        "outputId": "bc02bb03-dbbb-4207-c4c9-ba095937df23"
      },
      "execution_count": null,
      "outputs": [
        {
          "output_type": "execute_result",
          "data": {
            "text/plain": [
              "['어벤져스',\n",
              " '데드풀',\n",
              " '아이언맨',\n",
              " '토르',\n",
              " '스파이더맨',\n",
              " '엑스맨',\n",
              " '엑스맨',\n",
              " '엑스맨',\n",
              " ['승리호', '신세계', '타짜'],\n",
              " ['승리호', '신세계', '타짜']]"
            ]
          },
          "metadata": {},
          "execution_count": 9
        }
      ]
    },
    {
      "cell_type": "code",
      "metadata": {
        "id": "-rMGPjTIcgXI",
        "colab": {
          "base_uri": "https://localhost:8080/"
        },
        "outputId": "566a95d8-8926-4ad0-f523-9682d4962608"
      },
      "source": [
        "# 코드를 입력해 주세요\n",
        "movie + kr_movie"
      ],
      "execution_count": null,
      "outputs": [
        {
          "output_type": "execute_result",
          "data": {
            "text/plain": [
              "['어벤져스', '데드풀', '토르', '스파이더맨', '엑스맨', '승리호', '신세계', '타짜']"
            ]
          },
          "metadata": {},
          "execution_count": 61
        }
      ]
    },
    {
      "cell_type": "markdown",
      "metadata": {
        "id": "_X_rL5kXcgXJ"
      },
      "source": [
        "<p><strong>[출력 결과]</strong></p><pre>['어벤져스', '토르', '스파이더맨', '엑스맨', '승리호', '신세계', '타짜']</pre>"
      ]
    },
    {
      "cell_type": "markdown",
      "metadata": {
        "id": "oykgqKmgcgXJ"
      },
      "source": [
        "`movie`를 가나다 순으로 정렬하세요"
      ]
    },
    {
      "cell_type": "code",
      "metadata": {
        "id": "VzlmuxO2cgXJ",
        "colab": {
          "base_uri": "https://localhost:8080/"
        },
        "outputId": "fad72ffe-514e-4d66-fab5-b6ce7a6a82b9"
      },
      "source": [
        "# 코드를 입력해 주세요\n",
        "kr_movie.sort()\n",
        "kr_movie"
      ],
      "execution_count": null,
      "outputs": [
        {
          "output_type": "execute_result",
          "data": {
            "text/plain": [
              "['승리호', '신세계', '타짜']"
            ]
          },
          "metadata": {},
          "execution_count": 64
        }
      ]
    },
    {
      "cell_type": "markdown",
      "metadata": {
        "id": "nxA8-WMDcgXJ"
      },
      "source": [
        "<p><strong>[출력 결과]</strong></p><pre>['스파이더맨', '승리호', '신세계', '어벤져스', '엑스맨', '타짜', '토르']</pre>"
      ]
    },
    {
      "cell_type": "markdown",
      "metadata": {
        "id": "k0w9nYxPWSNO"
      },
      "source": [
        "### 인덱싱(indexing): 색인"
      ]
    },
    {
      "cell_type": "code",
      "metadata": {
        "id": "qY6rAQpWW5Pr"
      },
      "source": [
        "mylist = [1, 2, 3, 4]"
      ],
      "execution_count": null,
      "outputs": []
    },
    {
      "cell_type": "markdown",
      "metadata": {
        "id": "l9ad4C1XW9KE"
      },
      "source": [
        "인덱스는 **0번 부터 시작** 합니다."
      ]
    },
    {
      "cell_type": "code",
      "metadata": {
        "id": "nxGtMBuUWSXd",
        "colab": {
          "base_uri": "https://localhost:8080/"
        },
        "outputId": "90a5703b-7a5f-46d2-c8f7-88da8b9ce53a"
      },
      "source": [
        "mylist[0]"
      ],
      "execution_count": null,
      "outputs": [
        {
          "output_type": "execute_result",
          "data": {
            "text/plain": [
              "1"
            ]
          },
          "metadata": {},
          "execution_count": 11
        }
      ]
    },
    {
      "cell_type": "code",
      "metadata": {
        "id": "bQQaTXemXDk-",
        "colab": {
          "base_uri": "https://localhost:8080/"
        },
        "outputId": "2b3e0599-e64b-4fe0-af9d-74ff7b0da997"
      },
      "source": [
        "mylist[3]"
      ],
      "execution_count": null,
      "outputs": [
        {
          "output_type": "execute_result",
          "data": {
            "text/plain": [
              "4"
            ]
          },
          "metadata": {},
          "execution_count": 12
        }
      ]
    },
    {
      "cell_type": "code",
      "metadata": {
        "id": "GtO0YS9HXDe7",
        "colab": {
          "base_uri": "https://localhost:8080/",
          "height": 146
        },
        "outputId": "170753aa-f0a8-4f84-83a0-dfa7334060d7"
      },
      "source": [
        "mylist[4]"
      ],
      "execution_count": null,
      "outputs": [
        {
          "output_type": "error",
          "ename": "IndexError",
          "evalue": "list index out of range",
          "traceback": [
            "\u001b[0;31m---------------------------------------------------------------------------\u001b[0m",
            "\u001b[0;31mIndexError\u001b[0m                                Traceback (most recent call last)",
            "\u001b[0;32m<ipython-input-13-88b11041aa4f>\u001b[0m in \u001b[0;36m<cell line: 1>\u001b[0;34m()\u001b[0m\n\u001b[0;32m----> 1\u001b[0;31m \u001b[0mmylist\u001b[0m\u001b[0;34m[\u001b[0m\u001b[0;36m4\u001b[0m\u001b[0;34m]\u001b[0m\u001b[0;34m\u001b[0m\u001b[0;34m\u001b[0m\u001b[0m\n\u001b[0m",
            "\u001b[0;31mIndexError\u001b[0m: list index out of range"
          ]
        }
      ]
    },
    {
      "cell_type": "markdown",
      "metadata": {
        "id": "gx3q3lpGBfI2"
      },
      "source": [
        "### 역순 인덱싱\n",
        "\n",
        "파이썬은 음수 인덱싱을 지원합니다."
      ]
    },
    {
      "cell_type": "code",
      "metadata": {
        "id": "jJbfxm9TKRMJ",
        "colab": {
          "base_uri": "https://localhost:8080/"
        },
        "outputId": "94f60e14-ae9b-4acb-b035-8d4d6b14bdef"
      },
      "source": [
        "mylist"
      ],
      "execution_count": null,
      "outputs": [
        {
          "output_type": "execute_result",
          "data": {
            "text/plain": [
              "[1, 2, 3, 4]"
            ]
          },
          "metadata": {},
          "execution_count": 14
        }
      ]
    },
    {
      "cell_type": "code",
      "metadata": {
        "id": "OPtminJaBZCg",
        "colab": {
          "base_uri": "https://localhost:8080/"
        },
        "outputId": "d912b11c-83d4-4c53-de27-7e1a1606cd7b"
      },
      "source": [
        "mylist[-1]"
      ],
      "execution_count": null,
      "outputs": [
        {
          "output_type": "execute_result",
          "data": {
            "text/plain": [
              "4"
            ]
          },
          "metadata": {},
          "execution_count": 15
        }
      ]
    },
    {
      "cell_type": "code",
      "metadata": {
        "id": "PuCoYHPEBbve",
        "colab": {
          "base_uri": "https://localhost:8080/"
        },
        "outputId": "f057b473-66a3-4cfe-de62-b6cc44d1315f"
      },
      "source": [
        "mylist[-3]"
      ],
      "execution_count": null,
      "outputs": [
        {
          "output_type": "execute_result",
          "data": {
            "text/plain": [
              "2"
            ]
          },
          "metadata": {},
          "execution_count": 16
        }
      ]
    },
    {
      "cell_type": "code",
      "metadata": {
        "id": "dvsC2y9hXDYq",
        "colab": {
          "base_uri": "https://localhost:8080/",
          "height": 146
        },
        "outputId": "7aa35e27-068e-4504-a3e3-356385b179cc"
      },
      "source": [
        "mylist[-5]"
      ],
      "execution_count": null,
      "outputs": [
        {
          "output_type": "error",
          "ename": "IndexError",
          "evalue": "list index out of range",
          "traceback": [
            "\u001b[0;31m---------------------------------------------------------------------------\u001b[0m",
            "\u001b[0;31mIndexError\u001b[0m                                Traceback (most recent call last)",
            "\u001b[0;32m<ipython-input-17-7f152f66d2d3>\u001b[0m in \u001b[0;36m<cell line: 1>\u001b[0;34m()\u001b[0m\n\u001b[0;32m----> 1\u001b[0;31m \u001b[0mmylist\u001b[0m\u001b[0;34m[\u001b[0m\u001b[0;34m-\u001b[0m\u001b[0;36m5\u001b[0m\u001b[0;34m]\u001b[0m\u001b[0;34m\u001b[0m\u001b[0;34m\u001b[0m\u001b[0m\n\u001b[0m",
            "\u001b[0;31mIndexError\u001b[0m: list index out of range"
          ]
        }
      ]
    },
    {
      "cell_type": "markdown",
      "metadata": {
        "id": "TZEqteGEXtJZ"
      },
      "source": [
        "### 인덱스로 접근하여 값 바꾸기"
      ]
    },
    {
      "cell_type": "code",
      "metadata": {
        "id": "WndBOK7DXwqk",
        "colab": {
          "base_uri": "https://localhost:8080/"
        },
        "outputId": "50d320d1-39cb-49a2-ee0c-711febbe5340"
      },
      "source": [
        "mylist = [1, 2, 3, 4, 5]\n",
        "mylist"
      ],
      "execution_count": null,
      "outputs": [
        {
          "output_type": "execute_result",
          "data": {
            "text/plain": [
              "[1, 2, 3, 4, 5]"
            ]
          },
          "metadata": {},
          "execution_count": 18
        }
      ]
    },
    {
      "cell_type": "code",
      "metadata": {
        "id": "qVZF6qydXyQa",
        "colab": {
          "base_uri": "https://localhost:8080/"
        },
        "outputId": "6318f318-d31c-4177-b8a1-95513553a3d1"
      },
      "source": [
        "mylist[0]"
      ],
      "execution_count": null,
      "outputs": [
        {
          "output_type": "execute_result",
          "data": {
            "text/plain": [
              "1"
            ]
          },
          "metadata": {},
          "execution_count": 19
        }
      ]
    },
    {
      "cell_type": "code",
      "metadata": {
        "id": "0CUByTZgX1yF"
      },
      "source": [
        "mylist[0] = 100"
      ],
      "execution_count": null,
      "outputs": []
    },
    {
      "cell_type": "code",
      "metadata": {
        "id": "p841RzROX4C4",
        "colab": {
          "base_uri": "https://localhost:8080/"
        },
        "outputId": "24983f95-47e1-4faa-c991-5e5b4543f44b"
      },
      "source": [
        "mylist"
      ],
      "execution_count": null,
      "outputs": [
        {
          "output_type": "execute_result",
          "data": {
            "text/plain": [
              "[100, 2, 3, 4, 5]"
            ]
          },
          "metadata": {},
          "execution_count": 21
        }
      ]
    },
    {
      "cell_type": "code",
      "metadata": {
        "id": "O_VdrWZCBxiT"
      },
      "source": [
        "mylist[-1] = 300"
      ],
      "execution_count": null,
      "outputs": []
    },
    {
      "cell_type": "code",
      "metadata": {
        "id": "kLL0oa0GB0D9",
        "colab": {
          "base_uri": "https://localhost:8080/"
        },
        "outputId": "bb6385d6-bfb2-46bd-d414-80968e62963a"
      },
      "source": [
        "mylist"
      ],
      "execution_count": null,
      "outputs": [
        {
          "output_type": "execute_result",
          "data": {
            "text/plain": [
              "[100, 2, 3, 4, 300]"
            ]
          },
          "metadata": {},
          "execution_count": 23
        }
      ]
    },
    {
      "cell_type": "markdown",
      "metadata": {
        "id": "oMoED0ZjCiuJ"
      },
      "source": [
        "### 중첩된 리스트 인덱싱\n",
        "\n",
        "중첩된 리스트에 대한 리스트는 중첩 인덱싱으로 접근합니다. 값을 변경하는 것도 가능합니다."
      ]
    },
    {
      "cell_type": "code",
      "metadata": {
        "id": "7zq8_J2VCk1K"
      },
      "source": [
        "mylist = [['가', '나', '다'], [4, 5, 6], 7, 8, 9]"
      ],
      "execution_count": null,
      "outputs": []
    },
    {
      "cell_type": "code",
      "metadata": {
        "id": "atfiWonnCps3",
        "colab": {
          "base_uri": "https://localhost:8080/"
        },
        "outputId": "a1c02c73-ecab-4727-cb1e-8e7f205f88d0"
      },
      "source": [
        "mylist"
      ],
      "execution_count": null,
      "outputs": [
        {
          "output_type": "execute_result",
          "data": {
            "text/plain": [
              "[['가', '나', '다'], [4, 5, 6], 7, 8, 9]"
            ]
          },
          "metadata": {},
          "execution_count": 25
        }
      ]
    },
    {
      "cell_type": "markdown",
      "metadata": {
        "id": "A_B6DNx0cgXM"
      },
      "source": [
        "1 번째 리스트 요소를 가져옵니다."
      ]
    },
    {
      "cell_type": "code",
      "metadata": {
        "id": "yaa8MwGFCydQ",
        "colab": {
          "base_uri": "https://localhost:8080/"
        },
        "outputId": "eefd41fa-aa73-4400-eacc-fc1d584355b0"
      },
      "source": [
        "mylist[1]"
      ],
      "execution_count": null,
      "outputs": [
        {
          "output_type": "execute_result",
          "data": {
            "text/plain": [
              "[4, 5, 6]"
            ]
          },
          "metadata": {},
          "execution_count": 26
        }
      ]
    },
    {
      "cell_type": "markdown",
      "metadata": {
        "id": "ijnFOY_FcgXM"
      },
      "source": [
        "1번째 리스트의 요소 중 1번째 요소를 가져오기 위해서는 중첩 인덱싱으로 접근합니다."
      ]
    },
    {
      "cell_type": "code",
      "metadata": {
        "id": "MeunbeUJCqwG",
        "colab": {
          "base_uri": "https://localhost:8080/"
        },
        "outputId": "7ed037d6-a06d-4d82-a803-a7995395538f"
      },
      "source": [
        "mylist[1][1]"
      ],
      "execution_count": null,
      "outputs": [
        {
          "output_type": "execute_result",
          "data": {
            "text/plain": [
              "5"
            ]
          },
          "metadata": {},
          "execution_count": 27
        }
      ]
    },
    {
      "cell_type": "code",
      "metadata": {
        "id": "eJ2WkRQHcgXN"
      },
      "source": [
        "mylist[1][1] = 99"
      ],
      "execution_count": null,
      "outputs": []
    },
    {
      "cell_type": "code",
      "metadata": {
        "id": "svKqsaMAcgXN",
        "colab": {
          "base_uri": "https://localhost:8080/"
        },
        "outputId": "805dd059-06e0-449a-b164-7819e4a2bde1"
      },
      "source": [
        "mylist"
      ],
      "execution_count": null,
      "outputs": [
        {
          "output_type": "execute_result",
          "data": {
            "text/plain": [
              "[['가', '나', '다'], [4, 99, 6], 7, 8, 9]"
            ]
          },
          "metadata": {},
          "execution_count": 29
        }
      ]
    },
    {
      "cell_type": "markdown",
      "metadata": {
        "id": "Lk3yqujcB17e"
      },
      "source": [
        "### 슬라이싱(Slicing): 범위 추출\n",
        "\n",
        "- 슬라이싱의 활용: [start:stop:step] 을 명시하여 부분을 추출할 수 있습니다."
      ]
    },
    {
      "cell_type": "code",
      "metadata": {
        "id": "Lt-oJ8cyB8cg"
      },
      "source": [
        "mylist = [100, 200, 300, 400, 500]"
      ],
      "execution_count": null,
      "outputs": []
    },
    {
      "cell_type": "markdown",
      "metadata": {
        "id": "3uetfPWRcgXN"
      },
      "source": [
        "[:]을 활용하여 전체를 추출할 수 있습니다."
      ]
    },
    {
      "cell_type": "code",
      "metadata": {
        "id": "LlxZGt5ScgXN",
        "colab": {
          "base_uri": "https://localhost:8080/"
        },
        "outputId": "ea49a12d-db18-47bf-9d73-787cb521b204"
      },
      "source": [
        "mylist[:]"
      ],
      "execution_count": null,
      "outputs": [
        {
          "output_type": "execute_result",
          "data": {
            "text/plain": [
              "[100, 200, 300, 400, 500]"
            ]
          },
          "metadata": {},
          "execution_count": 31
        }
      ]
    },
    {
      "cell_type": "markdown",
      "metadata": {
        "id": "ZZUcYYADcgXO"
      },
      "source": [
        "[start:]는 시작 index 부터 끝까지 추출합니다."
      ]
    },
    {
      "cell_type": "code",
      "metadata": {
        "id": "d_gcUsl-cgXO",
        "colab": {
          "base_uri": "https://localhost:8080/"
        },
        "outputId": "f382f04b-5dc8-45fc-f4e6-77e77adc4fd2"
      },
      "source": [
        "mylist[2:]"
      ],
      "execution_count": null,
      "outputs": [
        {
          "output_type": "execute_result",
          "data": {
            "text/plain": [
              "[300, 400, 500]"
            ]
          },
          "metadata": {},
          "execution_count": 32
        }
      ]
    },
    {
      "cell_type": "code",
      "metadata": {
        "id": "gj-I9-Y8cgXO",
        "colab": {
          "base_uri": "https://localhost:8080/"
        },
        "outputId": "50a23c7f-b182-4e4b-b341-d2c7d6921ae9"
      },
      "source": [
        "mylist[-3:]"
      ],
      "execution_count": null,
      "outputs": [
        {
          "output_type": "execute_result",
          "data": {
            "text/plain": [
              "[300, 400, 500]"
            ]
          },
          "metadata": {},
          "execution_count": 33
        }
      ]
    },
    {
      "cell_type": "markdown",
      "metadata": {
        "id": "ortJeJu2cgXO"
      },
      "source": [
        "[:end]는 처음부터 end 전까지 추출합니다."
      ]
    },
    {
      "cell_type": "code",
      "metadata": {
        "id": "YetcbGj3cgXO",
        "colab": {
          "base_uri": "https://localhost:8080/"
        },
        "outputId": "404e9d03-01e5-4740-e2a2-536a0e17a163"
      },
      "source": [
        "mylist[:3]"
      ],
      "execution_count": null,
      "outputs": [
        {
          "output_type": "execute_result",
          "data": {
            "text/plain": [
              "[100, 200, 300]"
            ]
          },
          "metadata": {},
          "execution_count": 34
        }
      ]
    },
    {
      "cell_type": "markdown",
      "metadata": {
        "id": "CYTO8yWucgXP"
      },
      "source": [
        "[start:end]는 start부터 end 전까지 추출합니다."
      ]
    },
    {
      "cell_type": "code",
      "metadata": {
        "id": "rav_w8CYB5Pn",
        "colab": {
          "base_uri": "https://localhost:8080/"
        },
        "outputId": "1900eab6-4b82-4011-feb7-1e4fcf753fa3"
      },
      "source": [
        "mylist[1:3]"
      ],
      "execution_count": null,
      "outputs": [
        {
          "output_type": "execute_result",
          "data": {
            "text/plain": [
              "[200, 300]"
            ]
          },
          "metadata": {},
          "execution_count": 35
        }
      ]
    },
    {
      "cell_type": "code",
      "metadata": {
        "id": "1VfFQEdMB7Kc",
        "colab": {
          "base_uri": "https://localhost:8080/"
        },
        "outputId": "91f110a8-c171-42a0-9f58-13cdd850d845"
      },
      "source": [
        "mylist[-3: -1]"
      ],
      "execution_count": null,
      "outputs": [
        {
          "output_type": "execute_result",
          "data": {
            "text/plain": [
              "[300, 400]"
            ]
          },
          "metadata": {},
          "execution_count": 36
        }
      ]
    },
    {
      "cell_type": "markdown",
      "metadata": {
        "id": "Opa0KIuJcgXP"
      },
      "source": [
        "## 연습문제"
      ]
    },
    {
      "cell_type": "code",
      "metadata": {
        "id": "vZtzFJtOlQGA"
      },
      "source": [
        "fruit = ['사과', '바나나', '파인애플', '배', '수박', '키위', '오렌지', '망고', '딸기']"
      ],
      "execution_count": null,
      "outputs": []
    },
    {
      "cell_type": "markdown",
      "metadata": {
        "id": "ZO9-b0FXlQB_"
      },
      "source": [
        "list **인덱싱** & **슬라이싱**을 사용하여 다음과 같이 출력 하세요"
      ]
    },
    {
      "cell_type": "code",
      "metadata": {
        "id": "ag-1JlpllPyM",
        "colab": {
          "base_uri": "https://localhost:8080/"
        },
        "outputId": "69ba8e1d-6623-4c83-ad34-61630628480d"
      },
      "source": [
        "# 코드를 입력해 주세요\n",
        "fruit[2:5]"
      ],
      "execution_count": null,
      "outputs": [
        {
          "output_type": "execute_result",
          "data": {
            "text/plain": [
              "['파인애플', '배', '수박']"
            ]
          },
          "metadata": {},
          "execution_count": 42
        }
      ]
    },
    {
      "cell_type": "markdown",
      "metadata": {
        "id": "UEzyWXpUcgXQ"
      },
      "source": [
        "<p><strong>[출력 결과]</strong></p><pre>['파인애플', '배', '수박']</pre>"
      ]
    },
    {
      "cell_type": "code",
      "metadata": {
        "id": "0LRqKruin8YG",
        "colab": {
          "base_uri": "https://localhost:8080/"
        },
        "outputId": "1f083e70-ed37-458a-e06c-32e930b9b59f"
      },
      "source": [
        "# 코드를 입력해 주세요\n",
        "fruit[-2:]"
      ],
      "execution_count": null,
      "outputs": [
        {
          "output_type": "execute_result",
          "data": {
            "text/plain": [
              "['망고', '딸기']"
            ]
          },
          "metadata": {},
          "execution_count": 49
        }
      ]
    },
    {
      "cell_type": "markdown",
      "metadata": {
        "id": "AZjXRFb9cgXQ"
      },
      "source": [
        "<p><strong>[출력 결과]</strong></p><pre>['망고', '딸기']</pre>"
      ]
    },
    {
      "cell_type": "code",
      "metadata": {
        "id": "M2FntdLxoCN4",
        "colab": {
          "base_uri": "https://localhost:8080/"
        },
        "outputId": "bfa5df20-f5d8-4033-f111-5a08ecc4a060"
      },
      "source": [
        "# 코드를 입력해 주세요\n",
        "fruit[:3]"
      ],
      "execution_count": null,
      "outputs": [
        {
          "output_type": "execute_result",
          "data": {
            "text/plain": [
              "['사과', '바나나', '파인애플']"
            ]
          },
          "metadata": {},
          "execution_count": 51
        }
      ]
    },
    {
      "cell_type": "markdown",
      "metadata": {
        "id": "DBG4Ck9mcgXQ"
      },
      "source": [
        "<p><strong>[출력 결과]</strong></p><pre>['사과', '바나나', '파인애플']</pre>"
      ]
    },
    {
      "cell_type": "code",
      "metadata": {
        "id": "8tdoEreLoC7Y",
        "colab": {
          "base_uri": "https://localhost:8080/"
        },
        "outputId": "1684518c-79aa-4e23-f900-a06d00de999e"
      },
      "source": [
        "# 코드를 입력해 주세요\n",
        "fruit[-6:]"
      ],
      "execution_count": null,
      "outputs": [
        {
          "output_type": "execute_result",
          "data": {
            "text/plain": [
              "['배', '수박', '키위', '오렌지', '망고', '딸기']"
            ]
          },
          "metadata": {},
          "execution_count": 52
        }
      ]
    },
    {
      "cell_type": "markdown",
      "metadata": {
        "id": "uYLnKSHvcgXR"
      },
      "source": [
        "<p><strong>[출력 결과]</strong></p><pre>['배', '수박', '키위', '오렌지', '망고', '딸기']</pre>"
      ]
    },
    {
      "cell_type": "markdown",
      "metadata": {
        "id": "yW2psuKpcgXR"
      },
      "source": [
        "## indexing 에 step 활용하기\n",
        "\n",
        "list[start:stop:step]\n",
        "\n",
        "- step은 몇 칸씩 건너 뛰는지 지정합니다."
      ]
    },
    {
      "cell_type": "code",
      "metadata": {
        "id": "9rOT3phDcgXR"
      },
      "source": [
        "mylist = [100, 200, 300, 400, 500]"
      ],
      "execution_count": null,
      "outputs": []
    },
    {
      "cell_type": "markdown",
      "metadata": {
        "id": "g1WagDZIcgXR"
      },
      "source": [
        "**2칸**씩 건너뛰기"
      ]
    },
    {
      "cell_type": "code",
      "metadata": {
        "id": "D4g325mkcgXR",
        "colab": {
          "base_uri": "https://localhost:8080/"
        },
        "outputId": "3f3ec0ff-3b99-40fb-ca4a-caae2aa5e8ce"
      },
      "source": [
        "mylist[::2]"
      ],
      "execution_count": null,
      "outputs": [
        {
          "output_type": "execute_result",
          "data": {
            "text/plain": [
              "[100, 300, 500]"
            ]
          },
          "metadata": {},
          "execution_count": 54
        }
      ]
    },
    {
      "cell_type": "markdown",
      "metadata": {
        "id": "d8PbS7H_cgXR"
      },
      "source": [
        "**역순** 출력"
      ]
    },
    {
      "cell_type": "code",
      "metadata": {
        "id": "gLiZA4VEcgXU",
        "colab": {
          "base_uri": "https://localhost:8080/"
        },
        "outputId": "606b6b2b-9d74-49bc-e77e-f9ea19478d6b"
      },
      "source": [
        "mylist[::-1]"
      ],
      "execution_count": null,
      "outputs": [
        {
          "output_type": "execute_result",
          "data": {
            "text/plain": [
              "[500, 400, 300, 200, 100]"
            ]
          },
          "metadata": {},
          "execution_count": 55
        }
      ]
    },
    {
      "cell_type": "markdown",
      "metadata": {
        "id": "PTCF7gc6cgXV"
      },
      "source": [
        "역순 그리고 **2칸씩** 건너뛰기"
      ]
    },
    {
      "cell_type": "code",
      "metadata": {
        "id": "EHWHi-3tcgXV",
        "colab": {
          "base_uri": "https://localhost:8080/"
        },
        "outputId": "2964c08d-b0df-45a7-a612-e769c99f61e6"
      },
      "source": [
        "mylist[::-2]"
      ],
      "execution_count": null,
      "outputs": [
        {
          "output_type": "execute_result",
          "data": {
            "text/plain": [
              "[500, 300, 100]"
            ]
          },
          "metadata": {},
          "execution_count": 56
        }
      ]
    },
    {
      "cell_type": "code",
      "metadata": {
        "id": "30jcpRxINKBM",
        "colab": {
          "base_uri": "https://localhost:8080/"
        },
        "outputId": "1dfbe803-56d9-422a-c27b-e699fb41148a"
      },
      "source": [
        "mylist"
      ],
      "execution_count": null,
      "outputs": [
        {
          "output_type": "execute_result",
          "data": {
            "text/plain": [
              "[100, 200, 300, 400, 500]"
            ]
          },
          "metadata": {},
          "execution_count": 57
        }
      ]
    },
    {
      "cell_type": "code",
      "metadata": {
        "id": "U_ntjhL8NEA4",
        "colab": {
          "base_uri": "https://localhost:8080/"
        },
        "outputId": "fd4add96-f216-4234-958a-4d1053a371fa"
      },
      "source": [
        "mylist[1::2]"
      ],
      "execution_count": null,
      "outputs": [
        {
          "output_type": "execute_result",
          "data": {
            "text/plain": [
              "[200, 400]"
            ]
          },
          "metadata": {},
          "execution_count": 58
        }
      ]
    },
    {
      "cell_type": "code",
      "metadata": {
        "id": "Cvi-e1PKNLz_",
        "colab": {
          "base_uri": "https://localhost:8080/"
        },
        "outputId": "b178d205-5943-4887-9c13-9fe3a08737dc"
      },
      "source": [
        "mylist[-2::-2]"
      ],
      "execution_count": null,
      "outputs": [
        {
          "output_type": "execute_result",
          "data": {
            "text/plain": [
              "[400, 200]"
            ]
          },
          "metadata": {},
          "execution_count": 59
        }
      ]
    },
    {
      "cell_type": "markdown",
      "metadata": {
        "id": "ptw8hALtmcIY"
      },
      "source": [
        "### list 덧셈: list 확장"
      ]
    },
    {
      "cell_type": "code",
      "metadata": {
        "id": "6AY5OCBUmm6W"
      },
      "source": [
        "a = [1, 2, 3, 4]\n",
        "b = [5, 6, 7, 8]"
      ],
      "execution_count": null,
      "outputs": []
    },
    {
      "cell_type": "code",
      "metadata": {
        "id": "Vh4kSzvimpSM",
        "colab": {
          "base_uri": "https://localhost:8080/"
        },
        "outputId": "d03d24af-fca2-4463-b15d-544b497846f3"
      },
      "source": [
        "a + b"
      ],
      "execution_count": null,
      "outputs": [
        {
          "output_type": "execute_result",
          "data": {
            "text/plain": [
              "[1, 2, 3, 4, 5, 6, 7, 8]"
            ]
          },
          "metadata": {},
          "execution_count": 61
        }
      ]
    },
    {
      "cell_type": "code",
      "metadata": {
        "id": "lmDtkjFWcgXV"
      },
      "source": [
        "a = ['a', 'b', 'c']\n",
        "b = ['d', 'e', 'f']"
      ],
      "execution_count": null,
      "outputs": []
    },
    {
      "cell_type": "code",
      "metadata": {
        "id": "Nd7plO0ecgXW",
        "colab": {
          "base_uri": "https://localhost:8080/"
        },
        "outputId": "df328806-8354-4cfe-f264-314e6cce9a1d"
      },
      "source": [
        "a + b"
      ],
      "execution_count": null,
      "outputs": [
        {
          "output_type": "execute_result",
          "data": {
            "text/plain": [
              "['a', 'b', 'c', 'd', 'e', 'f']"
            ]
          },
          "metadata": {},
          "execution_count": 63
        }
      ]
    },
    {
      "cell_type": "markdown",
      "metadata": {
        "id": "kd8wNXq-cgXW"
      },
      "source": [
        "### list 곱셈: list 반복"
      ]
    },
    {
      "cell_type": "code",
      "metadata": {
        "id": "p3T5v4W-cgXW"
      },
      "source": [
        "a = ['a', 'b', 'c']\n",
        "b = [1, 2, 3, 4]"
      ],
      "execution_count": null,
      "outputs": []
    },
    {
      "cell_type": "code",
      "metadata": {
        "id": "RHkI26zzm0Jm",
        "colab": {
          "base_uri": "https://localhost:8080/"
        },
        "outputId": "3b23db53-b0d0-47e2-dc10-aa6b319fe9a4"
      },
      "source": [
        "a * 2"
      ],
      "execution_count": null,
      "outputs": [
        {
          "output_type": "execute_result",
          "data": {
            "text/plain": [
              "['a', 'b', 'c', 'a', 'b', 'c']"
            ]
          },
          "metadata": {},
          "execution_count": 65
        }
      ]
    },
    {
      "cell_type": "code",
      "metadata": {
        "id": "aKslp1d_myjj",
        "colab": {
          "base_uri": "https://localhost:8080/"
        },
        "outputId": "f59184ee-d718-4c05-bddb-ab6b78465d9d"
      },
      "source": [
        "b * 3"
      ],
      "execution_count": null,
      "outputs": [
        {
          "output_type": "execute_result",
          "data": {
            "text/plain": [
              "[1, 2, 3, 4, 1, 2, 3, 4, 1, 2, 3, 4]"
            ]
          },
          "metadata": {},
          "execution_count": 66
        }
      ]
    },
    {
      "cell_type": "code",
      "metadata": {
        "id": "NP22dxkCNyqr",
        "colab": {
          "base_uri": "https://localhost:8080/",
          "height": 146
        },
        "outputId": "8c51ca2c-f511-4030-abb6-91c857138740"
      },
      "source": [
        "a * b"
      ],
      "execution_count": null,
      "outputs": [
        {
          "output_type": "error",
          "ename": "TypeError",
          "evalue": "can't multiply sequence by non-int of type 'list'",
          "traceback": [
            "\u001b[0;31m---------------------------------------------------------------------------\u001b[0m",
            "\u001b[0;31mTypeError\u001b[0m                                 Traceback (most recent call last)",
            "\u001b[0;32m<ipython-input-67-9bc1a869709f>\u001b[0m in \u001b[0;36m<cell line: 1>\u001b[0;34m()\u001b[0m\n\u001b[0;32m----> 1\u001b[0;31m \u001b[0ma\u001b[0m \u001b[0;34m*\u001b[0m \u001b[0mb\u001b[0m\u001b[0;34m\u001b[0m\u001b[0;34m\u001b[0m\u001b[0m\n\u001b[0m",
            "\u001b[0;31mTypeError\u001b[0m: can't multiply sequence by non-int of type 'list'"
          ]
        }
      ]
    },
    {
      "cell_type": "markdown",
      "metadata": {
        "id": "KU1npbc5cgXW"
      },
      "source": [
        "### 연습문제 1\n",
        "\n",
        "sample = [1, 3, 5, 4, 2] 리스트를 슬라이싱을 이용하여 [2, 4, 5, 3, 1]로 출력하세요"
      ]
    },
    {
      "cell_type": "code",
      "metadata": {
        "id": "mHYYlteecgXW"
      },
      "source": [
        "sample = [1, 3, 5, 4, 2]"
      ],
      "execution_count": null,
      "outputs": []
    },
    {
      "cell_type": "markdown",
      "metadata": {
        "id": "N0L-K4eycgXX"
      },
      "source": [
        "슬라이싱을 사용해 다음과 같이 출력해 주세요"
      ]
    },
    {
      "cell_type": "code",
      "metadata": {
        "id": "zQdd3ZJfcgXX",
        "colab": {
          "base_uri": "https://localhost:8080/"
        },
        "outputId": "231cde45-1e9a-4e22-8caf-b8dd72ddd935"
      },
      "source": [
        "# 코드를 입력해 주세요\n",
        "sample[::-1]"
      ],
      "execution_count": null,
      "outputs": [
        {
          "output_type": "execute_result",
          "data": {
            "text/plain": [
              "[2, 4, 5, 3, 1]"
            ]
          },
          "metadata": {},
          "execution_count": 69
        }
      ]
    },
    {
      "cell_type": "markdown",
      "metadata": {
        "id": "1sKjKkzAcgXX"
      },
      "source": [
        "<p><strong>[출력 결과]</strong></p><pre>[2, 4, 5, 3, 1]</pre>"
      ]
    },
    {
      "cell_type": "markdown",
      "metadata": {
        "id": "1OvEx4SkcgXX"
      },
      "source": [
        "슬라이싱을 사용해 다음과 같이 출력해 주세요"
      ]
    },
    {
      "cell_type": "code",
      "metadata": {
        "id": "lJA3FlducgXX",
        "colab": {
          "base_uri": "https://localhost:8080/"
        },
        "outputId": "d06150a7-eb2a-432c-8035-c640e394cdf8"
      },
      "source": [
        "# 코드를 입력해 주세요\n",
        "sample[::2]"
      ],
      "execution_count": null,
      "outputs": [
        {
          "output_type": "execute_result",
          "data": {
            "text/plain": [
              "[1, 5, 2]"
            ]
          },
          "metadata": {},
          "execution_count": 70
        }
      ]
    },
    {
      "cell_type": "markdown",
      "metadata": {
        "id": "Mgj141MQcgXX"
      },
      "source": [
        "<p><strong>[출력 결과]</strong></p><pre>[1, 5, 2]</pre>"
      ]
    },
    {
      "cell_type": "markdown",
      "metadata": {
        "id": "c3BUSj2ncgXY"
      },
      "source": [
        "슬라이싱을 사용해 다음과 같이 출력해 주세요"
      ]
    },
    {
      "cell_type": "code",
      "metadata": {
        "id": "_ykHb6H0cgXY",
        "colab": {
          "base_uri": "https://localhost:8080/"
        },
        "outputId": "c3df2f81-2ada-4328-9621-35990f0af99c"
      },
      "source": [
        "# 코드를 입력해 주세요\n",
        "sample[-3::-2]"
      ],
      "execution_count": null,
      "outputs": [
        {
          "output_type": "execute_result",
          "data": {
            "text/plain": [
              "[5, 1]"
            ]
          },
          "metadata": {},
          "execution_count": 71
        }
      ]
    },
    {
      "cell_type": "markdown",
      "metadata": {
        "id": "1pkSppmUcgXY"
      },
      "source": [
        "<p><strong>[출력 결과]</strong></p><pre>[5, 1]</pre>"
      ]
    },
    {
      "cell_type": "markdown",
      "metadata": {
        "id": "0_mJjKgJ3PXj"
      },
      "source": [
        "### 연습문제 2\n",
        "\n",
        "- 아래의 값을 저장하고 있는 `myList` 변수를 생성하세요.\n",
        "- [[1,2,3],[4,5,6],[7,8]]"
      ]
    },
    {
      "cell_type": "code",
      "metadata": {
        "id": "cYw8v3Wc3PXj",
        "colab": {
          "base_uri": "https://localhost:8080/"
        },
        "outputId": "ee762a1e-99a3-41e8-b909-cdc7aff22b89"
      },
      "source": [
        "myList = [[1,2,3],[4,5,6],[7,8]]\n",
        "myList"
      ],
      "execution_count": null,
      "outputs": [
        {
          "output_type": "execute_result",
          "data": {
            "text/plain": [
              "[[1, 2, 3], [4, 5, 6], [7, 8]]"
            ]
          },
          "metadata": {},
          "execution_count": 77
        }
      ]
    },
    {
      "cell_type": "markdown",
      "metadata": {
        "id": "huln3pHGqluk"
      },
      "source": [
        "- 9를 `myList`에 추가하여 아래의 값을 저장할 수 있도록 하세요.\n",
        "    - [[1,2,3],[4,5,6],[7,8,9]]"
      ]
    },
    {
      "cell_type": "code",
      "metadata": {
        "id": "fQwG-KLiq_Aq",
        "colab": {
          "base_uri": "https://localhost:8080/"
        },
        "outputId": "27b7d218-0462-46c7-8aa6-3d0374cac692"
      },
      "source": [
        "# 코드를 입력해 주세요\n",
        "myList[2].append[9]\n",
        "myList"
      ],
      "execution_count": null,
      "outputs": [
        {
          "output_type": "execute_result",
          "data": {
            "text/plain": [
              "[[1, 2, 3], [4, 5, 6], [7, 8]]"
            ]
          },
          "metadata": {},
          "execution_count": 78
        }
      ]
    },
    {
      "cell_type": "markdown",
      "metadata": {
        "id": "RTzDXq3ZcgXZ"
      },
      "source": [
        "<p><strong>[출력 결과]</strong></p><pre>[[1, 2, 3], [4, 5, 6], [7, 8, 9]]</pre>"
      ]
    },
    {
      "cell_type": "markdown",
      "metadata": {
        "id": "6f1LiPaaWA6a"
      },
      "source": [
        "## 튜플(tuple)\n",
        "\n",
        "- 리스트(list)는 가변(mutable)하는 객체(object)이지만, **튜플(tuple)은 불변(immutable)한 객체**입니다.\n",
        "- 가변 객체는 요소에 대한 수정, 삭제, 변경 등이 가능하지만, 불편 객체는 **요소에 대한 수정, 삭제, 변경이 불가**합니다."
      ]
    },
    {
      "cell_type": "markdown",
      "metadata": {
        "id": "NKvYG65EDCQg"
      },
      "source": [
        "### 생성\n",
        "\n",
        "- tuple(), () 로 생성합니다.\n",
        "- 혹은 , 로 생성할 수 있습니다."
      ]
    },
    {
      "cell_type": "markdown",
      "metadata": {
        "id": "n1EYdsblcgXZ"
      },
      "source": [
        "**()로 튜플을 생성**할 수 있습니다."
      ]
    },
    {
      "cell_type": "code",
      "metadata": {
        "id": "Lj0AaIGkWMng",
        "colab": {
          "base_uri": "https://localhost:8080/"
        },
        "outputId": "531c9e1e-40b1-414b-a31f-60d926ff205e"
      },
      "source": [
        "mytuple = (1, 2, 3)\n",
        "mytuple"
      ],
      "execution_count": null,
      "outputs": [
        {
          "output_type": "execute_result",
          "data": {
            "text/plain": [
              "(1, 2, 3)"
            ]
          },
          "metadata": {},
          "execution_count": 79
        }
      ]
    },
    {
      "cell_type": "markdown",
      "metadata": {
        "id": "MLL_VBvEcgXZ"
      },
      "source": [
        "**tuple()** 로 생성하는 경우"
      ]
    },
    {
      "cell_type": "code",
      "metadata": {
        "id": "kIfJ2eCcDnSH",
        "colab": {
          "base_uri": "https://localhost:8080/"
        },
        "outputId": "f38890c7-c5f0-42f8-b90a-52dc587168d4"
      },
      "source": [
        "mytuple = tuple([1, 2, 3])\n",
        "mytuple"
      ],
      "execution_count": null,
      "outputs": [
        {
          "output_type": "execute_result",
          "data": {
            "text/plain": [
              "(1, 2, 3)"
            ]
          },
          "metadata": {},
          "execution_count": 80
        }
      ]
    },
    {
      "cell_type": "markdown",
      "metadata": {
        "id": "tMa93r1JcgXa"
      },
      "source": [
        "**, 로 생성**할 수 있습니다."
      ]
    },
    {
      "cell_type": "code",
      "metadata": {
        "id": "iicUD1x0DHu6",
        "colab": {
          "base_uri": "https://localhost:8080/"
        },
        "outputId": "8f589801-09f1-4faa-ad3c-621335692058"
      },
      "source": [
        "mytuple = 1, 2, 3\n",
        "mytuple"
      ],
      "execution_count": null,
      "outputs": [
        {
          "output_type": "execute_result",
          "data": {
            "text/plain": [
              "(1, 2, 3)"
            ]
          },
          "metadata": {},
          "execution_count": 81
        }
      ]
    },
    {
      "cell_type": "markdown",
      "metadata": {
        "id": "3S5MtEDScgXa"
      },
      "source": [
        "**단일 요소를 생성**할 때는 반드시 ,를 붙여 줍니다.\n",
        "- (1,)과 (1)은 다른 자료구조임을 꼭 알고 있어야 합니다."
      ]
    },
    {
      "cell_type": "code",
      "metadata": {
        "id": "VvZXlmRncgXa",
        "colab": {
          "base_uri": "https://localhost:8080/"
        },
        "outputId": "6090f274-adc4-4e5e-a91c-f8d0ce81204c"
      },
      "source": [
        "mytuple = 1,\n",
        "print(type(mytuple))\n",
        "mytuple"
      ],
      "execution_count": null,
      "outputs": [
        {
          "output_type": "stream",
          "name": "stdout",
          "text": [
            "<class 'tuple'>\n"
          ]
        },
        {
          "output_type": "execute_result",
          "data": {
            "text/plain": [
              "(1,)"
            ]
          },
          "metadata": {},
          "execution_count": 82
        }
      ]
    },
    {
      "cell_type": "code",
      "metadata": {
        "id": "HrRr2fKMDL2E",
        "colab": {
          "base_uri": "https://localhost:8080/"
        },
        "outputId": "307d260e-bc71-47ab-def4-4fac9e755aeb"
      },
      "source": [
        "mytuple = (1,)\n",
        "print(type(mytuple))\n",
        "mytuple"
      ],
      "execution_count": null,
      "outputs": [
        {
          "output_type": "stream",
          "name": "stdout",
          "text": [
            "<class 'tuple'>\n"
          ]
        },
        {
          "output_type": "execute_result",
          "data": {
            "text/plain": [
              "(1,)"
            ]
          },
          "metadata": {},
          "execution_count": 83
        }
      ]
    },
    {
      "cell_type": "code",
      "metadata": {
        "id": "7ZlannGQcgXa",
        "colab": {
          "base_uri": "https://localhost:8080/"
        },
        "outputId": "0abe0b3f-87da-4e46-8632-8ed512e293ae"
      },
      "source": [
        "mytuple = (1)\n",
        "print(type(mytuple))\n",
        "mytuple"
      ],
      "execution_count": null,
      "outputs": [
        {
          "output_type": "stream",
          "name": "stdout",
          "text": [
            "<class 'int'>\n"
          ]
        },
        {
          "output_type": "execute_result",
          "data": {
            "text/plain": [
              "1"
            ]
          },
          "metadata": {},
          "execution_count": 84
        }
      ]
    },
    {
      "cell_type": "markdown",
      "metadata": {
        "id": "M11I_rnUcgXb"
      },
      "source": [
        "**튜플 언패킹(unpacking)**\n",
        "- 튜플로 한 번에 **여러 변수에 값을 한 번에 할당**할 수 있습니다."
      ]
    },
    {
      "cell_type": "code",
      "metadata": {
        "id": "cRUNDQHYcgXb",
        "colab": {
          "base_uri": "https://localhost:8080/"
        },
        "outputId": "61265fe6-a809-4e65-d505-997bd0c016ae"
      },
      "source": [
        "a,b,c = 1, 2, 3\n",
        "\n",
        "print(a)\n",
        "print(b)\n",
        "print(c)"
      ],
      "execution_count": null,
      "outputs": [
        {
          "output_type": "stream",
          "name": "stdout",
          "text": [
            "1\n",
            "2\n",
            "3\n"
          ]
        }
      ]
    },
    {
      "cell_type": "code",
      "source": [
        "a = 1, 2, 3\n",
        "\n",
        "print(a)\n",
        "#print(b)\n",
        "#print(c)"
      ],
      "metadata": {
        "colab": {
          "base_uri": "https://localhost:8080/"
        },
        "id": "oPOc5Iff0HH2",
        "outputId": "be1b4591-926b-42ee-9861-1524a631c0ae"
      },
      "execution_count": null,
      "outputs": [
        {
          "output_type": "stream",
          "name": "stdout",
          "text": [
            "(1, 2, 3)\n"
          ]
        }
      ]
    },
    {
      "cell_type": "markdown",
      "metadata": {
        "id": "fbWL3rXvDZou"
      },
      "source": [
        "### 튜플 자료형은 요소의 추가, 삭제, 변경등을 허용하지 않습니다."
      ]
    },
    {
      "cell_type": "code",
      "metadata": {
        "id": "3TBwbkblcgXb",
        "colab": {
          "base_uri": "https://localhost:8080/"
        },
        "outputId": "462a7cc5-5da2-45cc-88f7-674ec188f091"
      },
      "source": [
        "mytuple = (1, 2, 3)\n",
        "mytuple"
      ],
      "execution_count": null,
      "outputs": [
        {
          "output_type": "execute_result",
          "data": {
            "text/plain": [
              "(1, 2, 3)"
            ]
          },
          "metadata": {},
          "execution_count": 88
        }
      ]
    },
    {
      "cell_type": "markdown",
      "metadata": {
        "id": "57vPUsS9cgXb"
      },
      "source": [
        "요소를 **조회하는 것은 가능**합니다."
      ]
    },
    {
      "cell_type": "code",
      "metadata": {
        "id": "ZbVjb4x7cgXb",
        "colab": {
          "base_uri": "https://localhost:8080/"
        },
        "outputId": "0a95e4f2-118b-483c-afdb-52d85762c0a0"
      },
      "source": [
        "mytuple[1]"
      ],
      "execution_count": null,
      "outputs": [
        {
          "output_type": "execute_result",
          "data": {
            "text/plain": [
              "2"
            ]
          },
          "metadata": {},
          "execution_count": 89
        }
      ]
    },
    {
      "cell_type": "markdown",
      "metadata": {
        "id": "axOh9930cgXc"
      },
      "source": [
        "요소를 **변경**하려는 경우"
      ]
    },
    {
      "cell_type": "code",
      "metadata": {
        "id": "OjCMaaYPcgXc",
        "colab": {
          "base_uri": "https://localhost:8080/",
          "height": 146
        },
        "outputId": "9f92b95c-33be-4c54-e12c-9c81af5d9085"
      },
      "source": [
        "mytuple[1] = 100"
      ],
      "execution_count": null,
      "outputs": [
        {
          "output_type": "error",
          "ename": "TypeError",
          "evalue": "'tuple' object does not support item assignment",
          "traceback": [
            "\u001b[0;31m---------------------------------------------------------------------------\u001b[0m",
            "\u001b[0;31mTypeError\u001b[0m                                 Traceback (most recent call last)",
            "\u001b[0;32m<ipython-input-90-302beb1444a7>\u001b[0m in \u001b[0;36m<cell line: 1>\u001b[0;34m()\u001b[0m\n\u001b[0;32m----> 1\u001b[0;31m \u001b[0mmytuple\u001b[0m\u001b[0;34m[\u001b[0m\u001b[0;36m1\u001b[0m\u001b[0;34m]\u001b[0m \u001b[0;34m=\u001b[0m \u001b[0;36m100\u001b[0m\u001b[0;34m\u001b[0m\u001b[0;34m\u001b[0m\u001b[0m\n\u001b[0m",
            "\u001b[0;31mTypeError\u001b[0m: 'tuple' object does not support item assignment"
          ]
        }
      ]
    },
    {
      "cell_type": "markdown",
      "metadata": {
        "id": "c24tbnf9cgXc"
      },
      "source": [
        "요소를 **삭제**하려는 경우"
      ]
    },
    {
      "cell_type": "code",
      "metadata": {
        "id": "I2JlBRg8DyLx",
        "colab": {
          "base_uri": "https://localhost:8080/",
          "height": 146
        },
        "outputId": "85d556e8-c5dd-4f86-975a-c94fdc222b89"
      },
      "source": [
        "del mytuple[1]"
      ],
      "execution_count": null,
      "outputs": [
        {
          "output_type": "error",
          "ename": "TypeError",
          "evalue": "'tuple' object doesn't support item deletion",
          "traceback": [
            "\u001b[0;31m---------------------------------------------------------------------------\u001b[0m",
            "\u001b[0;31mTypeError\u001b[0m                                 Traceback (most recent call last)",
            "\u001b[0;32m<ipython-input-91-011fbf932d04>\u001b[0m in \u001b[0;36m<cell line: 1>\u001b[0;34m()\u001b[0m\n\u001b[0;32m----> 1\u001b[0;31m \u001b[0;32mdel\u001b[0m \u001b[0mmytuple\u001b[0m\u001b[0;34m[\u001b[0m\u001b[0;36m1\u001b[0m\u001b[0;34m]\u001b[0m\u001b[0;34m\u001b[0m\u001b[0;34m\u001b[0m\u001b[0m\n\u001b[0m",
            "\u001b[0;31mTypeError\u001b[0m: 'tuple' object doesn't support item deletion"
          ]
        }
      ]
    },
    {
      "cell_type": "markdown",
      "metadata": {
        "id": "wJxLyKDGD1Re"
      },
      "source": [
        "### 튜플 덧셈: 튜플의 확장"
      ]
    },
    {
      "cell_type": "code",
      "metadata": {
        "id": "ScZhykwwD7AM"
      },
      "source": [
        "a = (1, 2)\n",
        "b = (3, 4)"
      ],
      "execution_count": null,
      "outputs": []
    },
    {
      "cell_type": "code",
      "metadata": {
        "id": "kL1Qav45D-gm",
        "colab": {
          "base_uri": "https://localhost:8080/"
        },
        "outputId": "fe165126-e13e-4327-fc87-ebf93d41c175"
      },
      "source": [
        "a + b"
      ],
      "execution_count": null,
      "outputs": [
        {
          "output_type": "execute_result",
          "data": {
            "text/plain": [
              "(1, 2, 3, 4)"
            ]
          },
          "metadata": {},
          "execution_count": 93
        }
      ]
    },
    {
      "cell_type": "markdown",
      "metadata": {
        "id": "xLhCaMwVcgXd"
      },
      "source": [
        "### 튜플 곱셈: 튜플의 반복"
      ]
    },
    {
      "cell_type": "code",
      "metadata": {
        "id": "UN5cWiqWEAqX",
        "colab": {
          "base_uri": "https://localhost:8080/"
        },
        "outputId": "9d9d720e-9b9f-4c14-a9dd-6fbcb9c4a52b"
      },
      "source": [
        "a * 3"
      ],
      "execution_count": null,
      "outputs": [
        {
          "output_type": "execute_result",
          "data": {
            "text/plain": [
              "(1, 2, 1, 2, 1, 2)"
            ]
          },
          "metadata": {},
          "execution_count": 94
        }
      ]
    },
    {
      "cell_type": "code",
      "metadata": {
        "id": "wluSgekA9ZT7",
        "colab": {
          "base_uri": "https://localhost:8080/"
        },
        "outputId": "330ad9a8-989d-4ce1-ec83-a552effac644"
      },
      "source": [
        "a * 10"
      ],
      "execution_count": null,
      "outputs": [
        {
          "output_type": "execute_result",
          "data": {
            "text/plain": [
              "(1, 2, 1, 2, 1, 2, 1, 2, 1, 2, 1, 2, 1, 2, 1, 2, 1, 2, 1, 2)"
            ]
          },
          "metadata": {},
          "execution_count": 95
        }
      ]
    },
    {
      "cell_type": "markdown",
      "metadata": {
        "id": "PhwymGjaXqwU"
      },
      "source": [
        "### 길이 파악하기"
      ]
    },
    {
      "cell_type": "code",
      "metadata": {
        "id": "NKr8ATCHcgXd",
        "colab": {
          "base_uri": "https://localhost:8080/"
        },
        "outputId": "bf726769-8b04-48f1-f545-76abc1e54c01"
      },
      "source": [
        "mytuple"
      ],
      "execution_count": null,
      "outputs": [
        {
          "output_type": "execute_result",
          "data": {
            "text/plain": [
              "(1, 2, 3)"
            ]
          },
          "metadata": {},
          "execution_count": 96
        }
      ]
    },
    {
      "cell_type": "code",
      "metadata": {
        "id": "q52SzZNOYIo1",
        "colab": {
          "base_uri": "https://localhost:8080/"
        },
        "outputId": "e76e387f-4bc5-43af-f5db-3a7acf5c0771"
      },
      "source": [
        "len(mytuple)"
      ],
      "execution_count": null,
      "outputs": [
        {
          "output_type": "execute_result",
          "data": {
            "text/plain": [
              "3"
            ]
          },
          "metadata": {},
          "execution_count": 97
        }
      ]
    },
    {
      "cell_type": "markdown",
      "metadata": {
        "id": "BJ_ejBsNJH6N"
      },
      "source": [
        "### list를 tuple로 변환"
      ]
    },
    {
      "cell_type": "code",
      "metadata": {
        "id": "d4syeAlRJU2F"
      },
      "source": [
        "a = [1, 2, 3, 4]"
      ],
      "execution_count": null,
      "outputs": []
    },
    {
      "cell_type": "code",
      "metadata": {
        "id": "aAiFPz4EJWUg",
        "colab": {
          "base_uri": "https://localhost:8080/"
        },
        "outputId": "01bf8f85-3072-47b9-c453-2dca297d9d5a"
      },
      "source": [
        "a"
      ],
      "execution_count": null,
      "outputs": [
        {
          "output_type": "execute_result",
          "data": {
            "text/plain": [
              "[1, 2, 3, 4]"
            ]
          },
          "metadata": {},
          "execution_count": 99
        }
      ]
    },
    {
      "cell_type": "code",
      "metadata": {
        "id": "k2yM_D3nJWsJ",
        "colab": {
          "base_uri": "https://localhost:8080/"
        },
        "outputId": "619a6498-bbf3-467e-9e74-549064fc48d6"
      },
      "source": [
        "type(a)"
      ],
      "execution_count": null,
      "outputs": [
        {
          "output_type": "execute_result",
          "data": {
            "text/plain": [
              "list"
            ]
          },
          "metadata": {},
          "execution_count": 100
        }
      ]
    },
    {
      "cell_type": "code",
      "metadata": {
        "id": "C1XzVIOkJXH_"
      },
      "source": [
        "b = tuple(a)"
      ],
      "execution_count": null,
      "outputs": []
    },
    {
      "cell_type": "code",
      "metadata": {
        "id": "nNNg1n1xJYvq",
        "colab": {
          "base_uri": "https://localhost:8080/"
        },
        "outputId": "fc70154a-03e4-4467-e140-bbd7dead469d"
      },
      "source": [
        "b"
      ],
      "execution_count": null,
      "outputs": [
        {
          "output_type": "execute_result",
          "data": {
            "text/plain": [
              "(1, 2, 3, 4)"
            ]
          },
          "metadata": {},
          "execution_count": 102
        }
      ]
    },
    {
      "cell_type": "code",
      "metadata": {
        "id": "-FGh_AhJJZAk",
        "colab": {
          "base_uri": "https://localhost:8080/"
        },
        "outputId": "72af5caa-cc11-44ee-d30c-9def965d9fdd"
      },
      "source": [
        "type(b)"
      ],
      "execution_count": null,
      "outputs": [
        {
          "output_type": "execute_result",
          "data": {
            "text/plain": [
              "tuple"
            ]
          },
          "metadata": {},
          "execution_count": 103
        }
      ]
    },
    {
      "cell_type": "markdown",
      "metadata": {
        "id": "5T0yhUiiJZuK"
      },
      "source": [
        "### tuple을 list로 변환"
      ]
    },
    {
      "cell_type": "code",
      "metadata": {
        "id": "0OZ27hGpJdGi"
      },
      "source": [
        "a = (1, 2, 3, 4)"
      ],
      "execution_count": null,
      "outputs": []
    },
    {
      "cell_type": "code",
      "metadata": {
        "id": "47vB7lQLJeSI",
        "colab": {
          "base_uri": "https://localhost:8080/"
        },
        "outputId": "6b3d5ad7-7f70-449b-9aea-776be2f0ff66"
      },
      "source": [
        "a"
      ],
      "execution_count": null,
      "outputs": [
        {
          "output_type": "execute_result",
          "data": {
            "text/plain": [
              "(1, 2, 3, 4)"
            ]
          },
          "metadata": {},
          "execution_count": 105
        }
      ]
    },
    {
      "cell_type": "code",
      "metadata": {
        "id": "fJpB20awJesL",
        "colab": {
          "base_uri": "https://localhost:8080/"
        },
        "outputId": "42169c92-8aa6-4a34-9434-a14537f654bd"
      },
      "source": [
        "type(a)"
      ],
      "execution_count": null,
      "outputs": [
        {
          "output_type": "execute_result",
          "data": {
            "text/plain": [
              "tuple"
            ]
          },
          "metadata": {},
          "execution_count": 106
        }
      ]
    },
    {
      "cell_type": "code",
      "metadata": {
        "id": "oYserJFQJf51"
      },
      "source": [
        "b = list(a)"
      ],
      "execution_count": null,
      "outputs": []
    },
    {
      "cell_type": "code",
      "metadata": {
        "id": "P_zDoI-GJidd",
        "colab": {
          "base_uri": "https://localhost:8080/"
        },
        "outputId": "d2b695b9-90e8-4a4d-f5c0-38759d3a5613"
      },
      "source": [
        "b"
      ],
      "execution_count": null,
      "outputs": [
        {
          "output_type": "execute_result",
          "data": {
            "text/plain": [
              "[1, 2, 3, 4]"
            ]
          },
          "metadata": {},
          "execution_count": 108
        }
      ]
    },
    {
      "cell_type": "code",
      "metadata": {
        "id": "jtPRpCOHJjDI",
        "colab": {
          "base_uri": "https://localhost:8080/"
        },
        "outputId": "7ee651e1-2b5c-4263-ee08-52854cbc4b12"
      },
      "source": [
        "type(b)"
      ],
      "execution_count": null,
      "outputs": [
        {
          "output_type": "execute_result",
          "data": {
            "text/plain": [
              "list"
            ]
          },
          "metadata": {},
          "execution_count": 109
        }
      ]
    },
    {
      "cell_type": "markdown",
      "metadata": {
        "id": "zJjaYs4lcgXg"
      },
      "source": [
        "리스트로 type을 변경하였기 때문에 **요소의 추가 및 삭제가 가능**합니다."
      ]
    },
    {
      "cell_type": "code",
      "metadata": {
        "id": "e6STgfp_Jjl9",
        "colab": {
          "base_uri": "https://localhost:8080/"
        },
        "outputId": "2c3175ac-931a-4f4f-df45-a2eca42471dc"
      },
      "source": [
        "b.append(5)\n",
        "b"
      ],
      "execution_count": null,
      "outputs": [
        {
          "output_type": "execute_result",
          "data": {
            "text/plain": [
              "[1, 2, 3, 4, 5]"
            ]
          },
          "metadata": {},
          "execution_count": 110
        }
      ]
    },
    {
      "cell_type": "code",
      "metadata": {
        "id": "37W8x7KHcgXg",
        "colab": {
          "base_uri": "https://localhost:8080/"
        },
        "outputId": "1780dc36-b008-45e0-a363-3a6107101f8d"
      },
      "source": [
        "b.remove(2)\n",
        "b"
      ],
      "execution_count": null,
      "outputs": [
        {
          "output_type": "execute_result",
          "data": {
            "text/plain": [
              "[1, 3, 4, 5]"
            ]
          },
          "metadata": {},
          "execution_count": 111
        }
      ]
    },
    {
      "cell_type": "markdown",
      "metadata": {
        "id": "nM2jqV66cgXg"
      },
      "source": [
        "요소를 추가 및 삭제한 후 **다시 tuple로 변경**할 수 있습니다."
      ]
    },
    {
      "cell_type": "code",
      "metadata": {
        "id": "T7k1LgovJl5y"
      },
      "source": [
        "c = tuple(b)"
      ],
      "execution_count": null,
      "outputs": []
    },
    {
      "cell_type": "code",
      "metadata": {
        "id": "brUnfV5fJm_u",
        "colab": {
          "base_uri": "https://localhost:8080/"
        },
        "outputId": "3eede5db-c4c7-4f84-91c1-b238b9295ae6"
      },
      "source": [
        "c"
      ],
      "execution_count": null,
      "outputs": [
        {
          "output_type": "execute_result",
          "data": {
            "text/plain": [
              "(1, 3, 4, 5)"
            ]
          },
          "metadata": {},
          "execution_count": 113
        }
      ]
    },
    {
      "cell_type": "code",
      "metadata": {
        "id": "GfEFncbkJoRw",
        "colab": {
          "base_uri": "https://localhost:8080/"
        },
        "outputId": "b63011b1-1311-420f-bc93-d502af7a8252"
      },
      "source": [
        "type(c)"
      ],
      "execution_count": null,
      "outputs": [
        {
          "output_type": "execute_result",
          "data": {
            "text/plain": [
              "tuple"
            ]
          },
          "metadata": {},
          "execution_count": 114
        }
      ]
    },
    {
      "cell_type": "markdown",
      "metadata": {
        "id": "-mx0TG2lcgXh"
      },
      "source": [
        "### 연습문제"
      ]
    },
    {
      "cell_type": "markdown",
      "metadata": {
        "id": "NmCDNaS2cgXh"
      },
      "source": [
        "주어진 tuple `a`를 (1, 100, 2, 3, 4)의 요소를 가지도록 변경해 주세요"
      ]
    },
    {
      "cell_type": "code",
      "metadata": {
        "id": "8_NJGIbNcgXi"
      },
      "source": [
        "a = (1, 2, 3, 4)"
      ],
      "execution_count": null,
      "outputs": []
    },
    {
      "cell_type": "code",
      "metadata": {
        "id": "K4mx6nEqcgXi",
        "colab": {
          "base_uri": "https://localhost:8080/"
        },
        "outputId": "9e220455-1bbb-4a62-e591-6f5c216203d3"
      },
      "source": [
        "# 코드를 입력해 주세요\n",
        "b = list(a)\n",
        "b.insert(1,100)\n",
        "c = tuple(b)\n",
        "c"
      ],
      "execution_count": null,
      "outputs": [
        {
          "output_type": "execute_result",
          "data": {
            "text/plain": [
              "(1, 100, 2, 3, 4)"
            ]
          },
          "metadata": {},
          "execution_count": 115
        }
      ]
    },
    {
      "cell_type": "markdown",
      "metadata": {
        "id": "LhVzPi6icgXi"
      },
      "source": [
        "<p><strong>[출력 결과]</strong></p><pre>(1, 100, 2, 3, 4)</pre>"
      ]
    }
  ]
}
