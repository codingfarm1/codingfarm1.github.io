{
  "nbformat": 4,
  "nbformat_minor": 0,
  "metadata": {
    "colab": {
      "provenance": [],
      "include_colab_link": true
    },
    "kernelspec": {
      "display_name": "Python 3",
      "language": "python",
      "name": "python3"
    },
    "language_info": {
      "codemirror_mode": {
        "name": "ipython",
        "version": 3
      },
      "file_extension": ".py",
      "mimetype": "text/x-python",
      "name": "python",
      "nbconvert_exporter": "python",
      "pygments_lexer": "ipython3",
      "version": "3.6.9"
    }
  },
  "cells": [
    {
      "cell_type": "markdown",
      "metadata": {
        "id": "view-in-github",
        "colab_type": "text"
      },
      "source": [
        "<a href=\"https://colab.research.google.com/github/codingfarm1/codingfarm1.github.io/blob/master/08_%ED%8C%8C%EC%9D%B4%EC%8D%AC_Comprehension%EC%9D%98_%EC%82%AC%EB%B3%B8.ipynb\" target=\"_parent\"><img src=\"https://colab.research.google.com/assets/colab-badge.svg\" alt=\"Open In Colab\"/></a>"
      ]
    },
    {
      "cell_type": "markdown",
      "metadata": {
        "id": "n-n5ndyR0qAQ"
      },
      "source": [
        "# Comprehension 문법\n",
        "\n",
        "- 파이썬 고유의 아름다운 문법\n",
        "- 반복문(for ~ in)과 조건문 그리고 변수에 대한 연산까지 모두 갖춘 편리한 문법입니다.\n",
        "- comprehension의 종류로는 `list`, `set`, `dict`등이 존재합니다."
      ]
    },
    {
      "cell_type": "markdown",
      "metadata": {
        "id": "7jkcO6ea1aUH"
      },
      "source": [
        "**[실제 사례 연구]**"
      ]
    },
    {
      "cell_type": "markdown",
      "metadata": {
        "id": "p_lhkuKE12BP"
      },
      "source": [
        "mylist = [1, 2, 3, 4, 5, 6, 7, 8, 9, 10]\n",
        "\n",
        "이라는 list를 만들어 주고 우리는 이 중 짝수만 출력하고 싶을때는 어떻게 했었을까요?"
      ]
    },
    {
      "cell_type": "code",
      "metadata": {
        "id": "hCQjnhjP3My-"
      },
      "source": [
        "mylist = [1, 2, 3, 4, 5, 6, 7, 8, 9, 10]\n",
        "\n",
        "for i in mylist:\n",
        "    # 짝수 출력을 위한 조건문 생성\n",
        "    if i % 2 == 0:\n",
        "        print(i)"
      ],
      "execution_count": null,
      "outputs": []
    },
    {
      "cell_type": "markdown",
      "metadata": {
        "id": "TdQRUzn83UHe"
      },
      "source": [
        "그럼 mylist 이라는 list에서 **짝수**만 따로 list로 만들어 주고 싶을 때는 어떻게 할까요?"
      ]
    },
    {
      "cell_type": "code",
      "metadata": {
        "id": "EL1bUHsy3hjm",
        "colab": {
          "base_uri": "https://localhost:8080/"
        },
        "outputId": "c125d3b5-1466-4bc0-f9cc-1cde7c248798"
      },
      "source": [
        "mylist = [1, 2, 3, 4, 5, 6, 7, 8, 9, 10]\n",
        "# 짝수를 만들이 위한 빈 리스트 생성\n",
        "even = []\n",
        "\n",
        "for i in mylist:\n",
        "    if i % 2 == 0:\n",
        "        # even 리스트에 값 추가\n",
        "        even.append(i)\n",
        "\n",
        "print(even)"
      ],
      "execution_count": null,
      "outputs": [
        {
          "output_type": "stream",
          "name": "stdout",
          "text": [
            "[2, 4, 6, 8, 10]\n"
          ]
        }
      ]
    },
    {
      "cell_type": "markdown",
      "metadata": {
        "id": "IXpVuU-w3qlQ"
      },
      "source": [
        "이렇게 for in 문으로 해줄 수 있습니다. 하지만, **comprehension 문법**을 사용하면 **쉽고 간결한 코딩이 가능**합니다."
      ]
    },
    {
      "cell_type": "markdown",
      "metadata": {
        "id": "hHsywfmA3x0u"
      },
      "source": [
        "## comprehension 예시"
      ]
    },
    {
      "cell_type": "code",
      "metadata": {
        "id": "AvtJ5HUg36sG"
      },
      "source": [
        "mylist = [1, 2, 3, 4, 5, 6, 7, 8, 9, 10]"
      ],
      "execution_count": null,
      "outputs": []
    },
    {
      "cell_type": "markdown",
      "metadata": {
        "id": "n596iPJO4F6p"
      },
      "source": [
        "아래 문법이 바로 list comprehension 입니다. 한 줄로 해결해 버리는 것이 매력이에요"
      ]
    },
    {
      "cell_type": "code",
      "metadata": {
        "id": "OsWyGNsv39-m",
        "colab": {
          "base_uri": "https://localhost:8080/"
        },
        "outputId": "bde1b539-d3f2-4f31-a324-c0d64da764f4"
      },
      "source": [
        "even = [i for i in mylist if i % 2 == 0]\n",
        "even"
      ],
      "execution_count": null,
      "outputs": [
        {
          "output_type": "execute_result",
          "data": {
            "text/plain": [
              "[2, 4, 6, 8, 10]"
            ]
          },
          "metadata": {},
          "execution_count": 3
        }
      ]
    },
    {
      "cell_type": "markdown",
      "metadata": {
        "id": "FgKIRVuZ4NyB"
      },
      "source": [
        "## STEP 1: 반복문 생성"
      ]
    },
    {
      "cell_type": "code",
      "metadata": {
        "id": "qB_ttUIH4R8W"
      },
      "source": [
        "even = [for i in mylist]"
      ],
      "execution_count": null,
      "outputs": []
    },
    {
      "cell_type": "markdown",
      "metadata": {
        "id": "FaQoTdeH4a1j"
      },
      "source": [
        "반복문 안에서 변수를 맨 앞에 한 번더 선언해 주지 않는다면 당연히 에러가 나게 됩니다.\n",
        "\n",
        "`for i in mylist` 구문에서 반복문을 돌면서 i 값이 return 된다고 생각하고 그 변수를 list에 다시 넣어주는 원리입니다.\n",
        "\n",
        "즉, i를 for 문 맨 앞에 써주세요"
      ]
    },
    {
      "cell_type": "code",
      "metadata": {
        "id": "BB8RGrsU4g3m"
      },
      "source": [
        "even = [i for i in mylist]\n",
        "even"
      ],
      "execution_count": null,
      "outputs": []
    },
    {
      "cell_type": "markdown",
      "metadata": {
        "id": "1KsM88nu4xm3"
      },
      "source": [
        "## STEP 2: 조건 필터 추가"
      ]
    },
    {
      "cell_type": "markdown",
      "metadata": {
        "id": "0kmtcaiH47MP"
      },
      "source": [
        "조건문은 for ~ in 구문 **맨 뒤에 추가**하도록 합니다."
      ]
    },
    {
      "cell_type": "markdown",
      "metadata": {
        "id": "LjMHKjAz4_bd"
      },
      "source": [
        "**[i for i in mylist (이곳에 조건문)]**"
      ]
    },
    {
      "cell_type": "code",
      "metadata": {
        "id": "SAhBXVbK5Co0"
      },
      "source": [
        "[i for i in mylist if i % 2 == 0]"
      ],
      "execution_count": null,
      "outputs": []
    },
    {
      "cell_type": "markdown",
      "metadata": {
        "id": "BDhyGq8a5HBm"
      },
      "source": [
        "자, 이제 `mylist`의 요소 중 짝수만 추출하여 리스트(list)로 만들어 주는 `list comprehension`이 완성되었습니다."
      ]
    },
    {
      "cell_type": "markdown",
      "metadata": {
        "id": "lYGfB5O05aj1"
      },
      "source": [
        "## STEP 3: 변수 값에 별도의 연산 추가"
      ]
    },
    {
      "cell_type": "markdown",
      "metadata": {
        "id": "REj6ihGX5gPV"
      },
      "source": [
        "STEP 2 까지 완성된 짝수만 담는 `list comprehension`을 그대로 가져옵니다."
      ]
    },
    {
      "cell_type": "code",
      "metadata": {
        "id": "MRlIoMbh5inm",
        "colab": {
          "base_uri": "https://localhost:8080/"
        },
        "outputId": "1d9b4fd4-d627-470f-de77-b7d95f0f06e6"
      },
      "source": [
        "even = [i for i in mylist if i % 2 == 0]\n",
        "even"
      ],
      "execution_count": null,
      "outputs": [
        {
          "output_type": "execute_result",
          "data": {
            "text/plain": [
              "[2, 4, 6, 8, 10]"
            ]
          },
          "metadata": {},
          "execution_count": 4
        }
      ]
    },
    {
      "cell_type": "markdown",
      "metadata": {
        "id": "RG87dTvZ5lGm"
      },
      "source": [
        "`even` 변수에는 현재 **[2, 4, 6, 8, 10]** 요소가 존재합니다.\n",
        "\n",
        "**모든 값에 제곱** 를 해보도록 하겠습니다.\n",
        "\n",
        "- `i` 변수에 제곱 연산을 추가합니다."
      ]
    },
    {
      "cell_type": "code",
      "metadata": {
        "id": "AMqXNzq05sQN",
        "colab": {
          "base_uri": "https://localhost:8080/"
        },
        "outputId": "a89fe458-0348-4423-abf0-dba8189a9386"
      },
      "source": [
        "even = [i**2 for i in mylist if i % 2 == 0]\n",
        "even"
      ],
      "execution_count": null,
      "outputs": [
        {
          "output_type": "execute_result",
          "data": {
            "text/plain": [
              "[4, 16, 36, 64, 100]"
            ]
          },
          "metadata": {},
          "execution_count": 5
        }
      ]
    },
    {
      "cell_type": "markdown",
      "metadata": {
        "id": "Se8e4D966Gp3"
      },
      "source": [
        "## Set Comprehension\n",
        "\n",
        "- `set comprehension`은 comprehension 문법을 세트(set)로 생성합니다.\n",
        "- 괄호를 {}로 생성하면 `set comprehension`이 완성됩니다."
      ]
    },
    {
      "cell_type": "code",
      "metadata": {
        "id": "OOrjKYY76Gp3"
      },
      "source": [
        "set_even = {i**2 for i in mylist if i % 2 == 0}\n",
        "set_even"
      ],
      "execution_count": null,
      "outputs": []
    },
    {
      "cell_type": "markdown",
      "metadata": {
        "id": "zPCoVvgE6Gp3"
      },
      "source": [
        "## Dict Comprehension\n",
        "\n",
        "- `dict comprehension`은 comprehension 문법을 활용하여 딕셔너리(dictionary)를 생성합니다.\n",
        "- 괄호는 {}로 생성하고, key:value 형식을 반드시 지정합니다."
      ]
    },
    {
      "cell_type": "code",
      "metadata": {
        "id": "E_PMdokt6Gp3"
      },
      "source": [
        "dict_even = {i:i**2 for i in mylist if i % 2 == 0}\n",
        "dict_even"
      ],
      "execution_count": null,
      "outputs": []
    }
  ]
}
