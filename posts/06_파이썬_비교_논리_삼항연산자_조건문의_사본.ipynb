{
  "nbformat": 4,
  "nbformat_minor": 0,
  "metadata": {
    "colab": {
      "provenance": [],
      "include_colab_link": true
    },
    "kernelspec": {
      "display_name": "Python 3",
      "language": "python",
      "name": "python3"
    },
    "language_info": {
      "codemirror_mode": {
        "name": "ipython",
        "version": 3
      },
      "file_extension": ".py",
      "mimetype": "text/x-python",
      "name": "python",
      "nbconvert_exporter": "python",
      "pygments_lexer": "ipython3",
      "version": "3.6.9"
    }
  },
  "cells": [
    {
      "cell_type": "markdown",
      "metadata": {
        "id": "view-in-github",
        "colab_type": "text"
      },
      "source": [
        "<a href=\"https://colab.research.google.com/github/codingfarm1/codingfarm1.github.io/blob/master/06_%ED%8C%8C%EC%9D%B4%EC%8D%AC_%EB%B9%84%EA%B5%90_%EB%85%BC%EB%A6%AC_%EC%82%BC%ED%95%AD%EC%97%B0%EC%82%B0%EC%9E%90_%EC%A1%B0%EA%B1%B4%EB%AC%B8%EC%9D%98_%EC%82%AC%EB%B3%B8.ipynb\" target=\"_parent\"><img src=\"https://colab.research.google.com/assets/colab-badge.svg\" alt=\"Open In Colab\"/></a>"
      ]
    },
    {
      "cell_type": "markdown",
      "metadata": {
        "id": "mkSnBW98EIs-"
      },
      "source": [
        "# 비교연산자\n",
        "\n",
        "비교 연산자는 주로 대소비교를 할 때 사용합니다."
      ]
    },
    {
      "cell_type": "markdown",
      "metadata": {
        "id": "HEG6iuONEswX"
      },
      "source": [
        "## 대소비교\n",
        "\n",
        "- `>`: 크다\n",
        "- `>=`: 크거나 같다\n",
        "- `<`: 작다\n",
        "- `<=`: 작거나 같다"
      ]
    },
    {
      "cell_type": "code",
      "metadata": {
        "id": "wiLgE47fEs1S",
        "colab": {
          "base_uri": "https://localhost:8080/"
        },
        "outputId": "a41823fe-d7ca-4afd-9e70-97f015c333ab"
      },
      "source": [
        "1 > 2"
      ],
      "execution_count": 1,
      "outputs": [
        {
          "output_type": "execute_result",
          "data": {
            "text/plain": [
              "False"
            ]
          },
          "metadata": {},
          "execution_count": 1
        }
      ]
    },
    {
      "cell_type": "code",
      "metadata": {
        "id": "0b6l023CEs5o",
        "colab": {
          "base_uri": "https://localhost:8080/"
        },
        "outputId": "7155aca6-31ef-40f9-dde1-1bdf6ca8c3c5"
      },
      "source": [
        "10 >= 10"
      ],
      "execution_count": 2,
      "outputs": [
        {
          "output_type": "execute_result",
          "data": {
            "text/plain": [
              "True"
            ]
          },
          "metadata": {},
          "execution_count": 2
        }
      ]
    },
    {
      "cell_type": "code",
      "metadata": {
        "id": "BLOj4nAgTN6f",
        "colab": {
          "base_uri": "https://localhost:8080/"
        },
        "outputId": "ef5258ac-5fc3-4eb0-a862-b006f0976b31"
      },
      "source": [
        "10 >= 10"
      ],
      "execution_count": 3,
      "outputs": [
        {
          "output_type": "execute_result",
          "data": {
            "text/plain": [
              "True"
            ]
          },
          "metadata": {},
          "execution_count": 3
        }
      ]
    },
    {
      "cell_type": "code",
      "metadata": {
        "id": "3TTqQvmJEs91",
        "colab": {
          "base_uri": "https://localhost:8080/"
        },
        "outputId": "d684f28e-0349-495b-a3cb-8fbb8c0ff444"
      },
      "source": [
        "9 < 10"
      ],
      "execution_count": 4,
      "outputs": [
        {
          "output_type": "execute_result",
          "data": {
            "text/plain": [
              "True"
            ]
          },
          "metadata": {},
          "execution_count": 4
        }
      ]
    },
    {
      "cell_type": "code",
      "metadata": {
        "id": "llirdNcSEtE5",
        "colab": {
          "base_uri": "https://localhost:8080/"
        },
        "outputId": "8e3fe9bb-13d1-48d8-c3bd-92dfdcc8b90d"
      },
      "source": [
        "8 <= 7"
      ],
      "execution_count": 5,
      "outputs": [
        {
          "output_type": "execute_result",
          "data": {
            "text/plain": [
              "False"
            ]
          },
          "metadata": {},
          "execution_count": 5
        }
      ]
    },
    {
      "cell_type": "markdown",
      "metadata": {
        "id": "YnFEo5W4FBQV"
      },
      "source": [
        "## 같다와 같지 않다"
      ]
    },
    {
      "cell_type": "markdown",
      "metadata": {
        "id": "K4DCWsZm514r"
      },
      "source": [
        "### == : 같음을 비교"
      ]
    },
    {
      "cell_type": "markdown",
      "metadata": {
        "id": "c9JH4zBNFBGf"
      },
      "source": [
        "- `=`는 대입 연산자 입니다.\n",
        "- 코딩에서는 `=` 이 대입 연산자로 사용되기 때문에 `==`을 사용하고 있습니다."
      ]
    },
    {
      "cell_type": "code",
      "metadata": {
        "id": "g0FqYbH0FPsZ",
        "colab": {
          "base_uri": "https://localhost:8080/",
          "height": 109
        },
        "outputId": "56e81bcb-7201-4bbd-967d-1d2f3b06dcca"
      },
      "source": [
        "2 = 2"
      ],
      "execution_count": 6,
      "outputs": [
        {
          "output_type": "error",
          "ename": "SyntaxError",
          "evalue": "cannot assign to literal here. Maybe you meant '==' instead of '='? (<ipython-input-6-a8e553549e25>, line 1)",
          "traceback": [
            "\u001b[0;36m  File \u001b[0;32m\"<ipython-input-6-a8e553549e25>\"\u001b[0;36m, line \u001b[0;32m1\u001b[0m\n\u001b[0;31m    2 = 2\u001b[0m\n\u001b[0m    ^\u001b[0m\n\u001b[0;31mSyntaxError\u001b[0m\u001b[0;31m:\u001b[0m cannot assign to literal here. Maybe you meant '==' instead of '='?\n"
          ]
        }
      ]
    },
    {
      "cell_type": "code",
      "metadata": {
        "id": "lCnEQx-KFA_R",
        "colab": {
          "base_uri": "https://localhost:8080/"
        },
        "outputId": "d196ae6c-f8ae-4412-87d0-6ff28cd51e75"
      },
      "source": [
        "2 == 2"
      ],
      "execution_count": 7,
      "outputs": [
        {
          "output_type": "execute_result",
          "data": {
            "text/plain": [
              "True"
            ]
          },
          "metadata": {},
          "execution_count": 7
        }
      ]
    },
    {
      "cell_type": "code",
      "metadata": {
        "id": "uu38fqhwOv_t",
        "colab": {
          "base_uri": "https://localhost:8080/"
        },
        "outputId": "bc5b136c-4b2b-4151-8ba9-02b18cc6b0d5"
      },
      "source": [
        "2 == 3"
      ],
      "execution_count": 8,
      "outputs": [
        {
          "output_type": "execute_result",
          "data": {
            "text/plain": [
              "False"
            ]
          },
          "metadata": {},
          "execution_count": 8
        }
      ]
    },
    {
      "cell_type": "markdown",
      "metadata": {
        "id": "J8S0jzfGFKLz"
      },
      "source": [
        "### != 같지 않음을 비교"
      ]
    },
    {
      "cell_type": "code",
      "metadata": {
        "id": "FN2gAfWMFKRy",
        "colab": {
          "base_uri": "https://localhost:8080/"
        },
        "outputId": "73b88e11-bdb4-408a-cd26-f89a4f50c5a5"
      },
      "source": [
        "2 != 2"
      ],
      "execution_count": 9,
      "outputs": [
        {
          "output_type": "execute_result",
          "data": {
            "text/plain": [
              "False"
            ]
          },
          "metadata": {},
          "execution_count": 9
        }
      ]
    },
    {
      "cell_type": "code",
      "metadata": {
        "id": "FVrNPEq7FKZk",
        "colab": {
          "base_uri": "https://localhost:8080/"
        },
        "outputId": "0ed18ec4-6bde-402e-e156-6497c3149c2e"
      },
      "source": [
        "1 != 2"
      ],
      "execution_count": 10,
      "outputs": [
        {
          "output_type": "execute_result",
          "data": {
            "text/plain": [
              "True"
            ]
          },
          "metadata": {},
          "execution_count": 10
        }
      ]
    },
    {
      "cell_type": "code",
      "metadata": {
        "id": "cjB7v1JiFc78",
        "colab": {
          "base_uri": "https://localhost:8080/"
        },
        "outputId": "9a41308c-b15c-4cdb-9934-cc3cf62212ad"
      },
      "source": [
        "'나' != '너'"
      ],
      "execution_count": 11,
      "outputs": [
        {
          "output_type": "execute_result",
          "data": {
            "text/plain": [
              "True"
            ]
          },
          "metadata": {},
          "execution_count": 11
        }
      ]
    },
    {
      "cell_type": "code",
      "metadata": {
        "id": "7b47rVKRFcuZ",
        "colab": {
          "base_uri": "https://localhost:8080/"
        },
        "outputId": "8ccecc22-66d9-41b7-ad7d-333b3765bf00"
      },
      "source": [
        "'나' != '나'"
      ],
      "execution_count": 12,
      "outputs": [
        {
          "output_type": "execute_result",
          "data": {
            "text/plain": [
              "False"
            ]
          },
          "metadata": {},
          "execution_count": 12
        }
      ]
    },
    {
      "cell_type": "markdown",
      "metadata": {
        "id": "nVJ1deTbACiP"
      },
      "source": [
        "## 조건문"
      ]
    },
    {
      "cell_type": "markdown",
      "metadata": {
        "id": "DUrQsRomElox"
      },
      "source": [
        "조건문이란 무엇일까요?\n",
        "\n",
        "주어진 조건이 **참**인 경우 그 다음 내가 정한 규칙(로직)을 실행하는 개념입니다."
      ]
    },
    {
      "cell_type": "markdown",
      "metadata": {
        "id": "eyntgHbrAJW2"
      },
      "source": [
        "### if"
      ]
    },
    {
      "cell_type": "markdown",
      "metadata": {
        "id": "Nq6CmuoYALrr"
      },
      "source": [
        "- if는 어떤 조건이 성립한다면~ 이라는 뜻입니다.\n",
        "- if 구문 끝에는 반드시 콜론(:)을 잊지 말아 주세요"
      ]
    },
    {
      "cell_type": "code",
      "metadata": {
        "id": "tNkI-ROGAPPz",
        "colab": {
          "base_uri": "https://localhost:8080/"
        },
        "outputId": "9d5b3d54-1c1a-40ff-edbe-177d04c2234f"
      },
      "source": [
        "if 5 > 3:\n",
        "    print('참')"
      ],
      "execution_count": 13,
      "outputs": [
        {
          "output_type": "stream",
          "name": "stdout",
          "text": [
            "참\n"
          ]
        }
      ]
    },
    {
      "cell_type": "code",
      "metadata": {
        "id": "udUZJO19Ngk3",
        "colab": {
          "base_uri": "https://localhost:8080/"
        },
        "outputId": "881e2530-682e-47fd-8085-64cbab533fe9"
      },
      "source": [
        "if 5 > 3:\n",
        "    print('참')\n",
        "    print('참')\n",
        "    print('참')\n",
        "    print('참')\n",
        "\n",
        "print('끝')"
      ],
      "execution_count": 14,
      "outputs": [
        {
          "output_type": "stream",
          "name": "stdout",
          "text": [
            "참\n",
            "참\n",
            "참\n",
            "참\n",
            "끝\n"
          ]
        }
      ]
    },
    {
      "cell_type": "code",
      "source": [
        "if 5 < 3:\n",
        "    print('참')\n",
        "    print('참')\n",
        "    print('참')\n",
        "    print('참')\n",
        "\n",
        "print('끝')"
      ],
      "metadata": {
        "colab": {
          "base_uri": "https://localhost:8080/"
        },
        "id": "iM_bOb_Oglgi",
        "outputId": "dee08580-8ffc-4755-8662-fdd3981144a7"
      },
      "execution_count": 16,
      "outputs": [
        {
          "output_type": "stream",
          "name": "stdout",
          "text": [
            "끝\n"
          ]
        }
      ]
    },
    {
      "cell_type": "code",
      "metadata": {
        "id": "BIBsVKLRAUus",
        "colab": {
          "base_uri": "https://localhost:8080/"
        },
        "outputId": "43c4904e-4326-4bf9-dc51-3e80bae7a1c5"
      },
      "source": [
        "if 5 > 3:\n",
        "    print('참')"
      ],
      "execution_count": 15,
      "outputs": [
        {
          "output_type": "stream",
          "name": "stdout",
          "text": [
            "참\n"
          ]
        }
      ]
    },
    {
      "cell_type": "markdown",
      "metadata": {
        "id": "vTqQGfv5Ac4a"
      },
      "source": [
        "### else"
      ]
    },
    {
      "cell_type": "markdown",
      "metadata": {
        "id": "EzJHdesGAjTQ"
      },
      "source": [
        "else는 if 조건 후에 따라오며, if 가 아닌 경우에 실행 됩니다."
      ]
    },
    {
      "cell_type": "code",
      "metadata": {
        "id": "DsGowvtQAq6B",
        "colab": {
          "base_uri": "https://localhost:8080/"
        },
        "outputId": "27a2f3ad-18ca-4bf7-9c5b-34c975c9cd00"
      },
      "source": [
        "if 5 > 3:\n",
        "    print('if 구문 실행')\n",
        "else:\n",
        "    print('else 구문 실행')"
      ],
      "execution_count": 17,
      "outputs": [
        {
          "output_type": "stream",
          "name": "stdout",
          "text": [
            "if 구문 실행\n"
          ]
        }
      ]
    },
    {
      "cell_type": "markdown",
      "metadata": {
        "id": "RIHTuYU7DJm2"
      },
      "source": [
        "하지만, else 만 단독으로 실행한다면?"
      ]
    },
    {
      "cell_type": "code",
      "metadata": {
        "id": "9I834w_8DOBx"
      },
      "source": [
        "else:\n",
        "    print('else 구문 실행')"
      ],
      "execution_count": null,
      "outputs": []
    },
    {
      "cell_type": "markdown",
      "metadata": {
        "id": "YRckrfc3DSsM"
      },
      "source": [
        "### elif"
      ]
    },
    {
      "cell_type": "markdown",
      "metadata": {
        "id": "LS8DofkNDWUS"
      },
      "source": [
        "elif 구문은 3가지 이상 분기 (조건)의 동작을 수행할 때 사용합니다.\n"
      ]
    },
    {
      "cell_type": "code",
      "metadata": {
        "id": "j6-32b6TDeNM",
        "colab": {
          "base_uri": "https://localhost:8080/"
        },
        "outputId": "74a2fcd1-7021-41cd-c7f1-3eb087da90f2"
      },
      "source": [
        "if 3 > 5:\n",
        "    print('if 구문')\n",
        "elif 3 > 4:\n",
        "    print('elif 구문')\n",
        "else:\n",
        "    print('이것도 저것도 아니다')"
      ],
      "execution_count": 18,
      "outputs": [
        {
          "output_type": "stream",
          "name": "stdout",
          "text": [
            "이것도 저것도 아니다\n"
          ]
        }
      ]
    },
    {
      "cell_type": "markdown",
      "metadata": {
        "id": "kj9j--pEDzum"
      },
      "source": [
        "그럼, **elif 구문이 참인 여러 구문**을 나열 했을 때는 어떻게 될까요?\n",
        "\n",
        "한 번 고민해보고 실행하세요"
      ]
    },
    {
      "cell_type": "code",
      "metadata": {
        "id": "CoA1nNx4DttN",
        "colab": {
          "base_uri": "https://localhost:8080/"
        },
        "outputId": "98bde8ba-6bb8-4c73-f31b-55c2c33bf156"
      },
      "source": [
        "if 3 > 5:\n",
        "    print('if 구문')\n",
        "elif 3 > 4:\n",
        "    print('elif 1 구문')\n",
        "elif 3 > 5:\n",
        "    print('elif 2 구문')\n",
        "elif 3 > 6:\n",
        "    print('elif 3 구문')\n",
        "else:\n",
        "    print('이것도 저것도 아니다')"
      ],
      "execution_count": 22,
      "outputs": [
        {
          "output_type": "stream",
          "name": "stdout",
          "text": [
            "이것도 저것도 아니다\n"
          ]
        }
      ]
    },
    {
      "cell_type": "markdown",
      "metadata": {
        "id": "IH3OU9JEGL2C"
      },
      "source": [
        "### 1 이나 0은 참 이나 거짓을 표현하기도 합니다."
      ]
    },
    {
      "cell_type": "code",
      "metadata": {
        "id": "QvLPbzLSGLqz",
        "colab": {
          "base_uri": "https://localhost:8080/"
        },
        "outputId": "8a29944b-9926-406c-c73c-5b91fefa4a4b"
      },
      "source": [
        "if 1:\n",
        "    print('참')\n",
        "else:\n",
        "    print('거짓')"
      ],
      "execution_count": 23,
      "outputs": [
        {
          "output_type": "stream",
          "name": "stdout",
          "text": [
            "참\n"
          ]
        }
      ]
    },
    {
      "cell_type": "code",
      "metadata": {
        "id": "nZaec2FMGV36",
        "colab": {
          "base_uri": "https://localhost:8080/"
        },
        "outputId": "0f7cd7f0-1b97-4326-860d-2b661d57f03b"
      },
      "source": [
        "if 0:\n",
        "    print('참')\n",
        "else:\n",
        "    print('거짓')"
      ],
      "execution_count": 24,
      "outputs": [
        {
          "output_type": "stream",
          "name": "stdout",
          "text": [
            "거짓\n"
          ]
        }
      ]
    },
    {
      "cell_type": "markdown",
      "metadata": {
        "id": "scp2Xpwo514w"
      },
      "source": [
        "## 삼항연산자\n",
        "\n",
        "(문법) **(참인 값) if 조건 else (거짓인경우 값)**\n",
        "\n",
        "삼항연산자는 파이썬 문법에서 흔히 볼 수 있는 연산자 이며, 조건에 대한 참인 경우의 값 그렇지 않은 경우의 값을 뒤에 지정합니다."
      ]
    },
    {
      "cell_type": "code",
      "metadata": {
        "id": "fHGV_xO0514x",
        "colab": {
          "base_uri": "https://localhost:8080/",
          "height": 35
        },
        "outputId": "73653c7d-2b6d-4bf3-ddfa-25dd6387a773"
      },
      "source": [
        "age = 35\n",
        "\n",
        "\"30세 이상입니다.\" if age >= 30 else \"30세 이하입니다.\""
      ],
      "execution_count": 25,
      "outputs": [
        {
          "output_type": "execute_result",
          "data": {
            "text/plain": [
              "'30세 이상입니다.'"
            ],
            "application/vnd.google.colaboratory.intrinsic+json": {
              "type": "string"
            }
          },
          "metadata": {},
          "execution_count": 25
        }
      ]
    },
    {
      "cell_type": "code",
      "metadata": {
        "id": "hc9QQXDZ514x",
        "colab": {
          "base_uri": "https://localhost:8080/",
          "height": 35
        },
        "outputId": "ba90497c-7225-4238-867c-f0b657710ec1"
      },
      "source": [
        "age = 20\n",
        "\n",
        "\"30세 이상입니다.\" if age >= 30 else \"30세 이하입니다.\""
      ],
      "execution_count": 26,
      "outputs": [
        {
          "output_type": "execute_result",
          "data": {
            "text/plain": [
              "'30세 이하입니다.'"
            ],
            "application/vnd.google.colaboratory.intrinsic+json": {
              "type": "string"
            }
          },
          "metadata": {},
          "execution_count": 26
        }
      ]
    },
    {
      "cell_type": "markdown",
      "metadata": {
        "id": "i4RhdAWg514x"
      },
      "source": [
        "### 연습문제"
      ]
    },
    {
      "cell_type": "markdown",
      "metadata": {
        "id": "az8B-9au514x"
      },
      "source": [
        "사용자에게 몸무게를 입력 받아 과체중인지 정상 체중인지 출력하는 프로그램을 만드세요.\n",
        "\n",
        "- 몸무게가 100kg 초과이면 '귀하는 과체중 입니다.' 메시지를 출력하세요\n",
        "- 몸무게가 100kg 이하이면 '귀하는 정상체중 입니다.' 메시지를 출력하세요\n",
        "- 몸무게 입력은 input() 함수를 사용하여 입력 받습니다.\n",
        "- 반드시 **삼항연산자를 활용**하세요"
      ]
    },
    {
      "cell_type": "code",
      "metadata": {
        "id": "Ss9IXMbW514x",
        "colab": {
          "base_uri": "https://localhost:8080/",
          "height": 53
        },
        "outputId": "53bdd5d4-b2df-4cf4-bfb7-f3aa406117ab"
      },
      "source": [
        "# 입력 예시 (105로 입력한 경우)\n",
        "weight = input()\n",
        "weight = int(weight)\n",
        "'귀하는 과체중입니다.' if weight>100 else '귀하는 정상체중입니다.'"
      ],
      "execution_count": 29,
      "outputs": [
        {
          "name": "stdout",
          "output_type": "stream",
          "text": [
            "105\n"
          ]
        },
        {
          "output_type": "execute_result",
          "data": {
            "text/plain": [
              "'귀하는 과체중입니다.'"
            ],
            "application/vnd.google.colaboratory.intrinsic+json": {
              "type": "string"
            }
          },
          "metadata": {},
          "execution_count": 29
        }
      ]
    },
    {
      "cell_type": "code",
      "metadata": {
        "id": "m2BDDI9P514y"
      },
      "source": [
        "# 코드를 입력해 주세요\n"
      ],
      "execution_count": null,
      "outputs": []
    },
    {
      "cell_type": "markdown",
      "metadata": {
        "id": "LulhRjh_514y"
      },
      "source": [
        "<p><strong>[출력 결과]</strong></p><pre>'귀하는 과체중 입니다.'</pre>"
      ]
    },
    {
      "cell_type": "markdown",
      "metadata": {
        "id": "UkBFrQ99EIlN"
      },
      "source": [
        "## 논리 연산자 (and, or, not)"
      ]
    },
    {
      "cell_type": "markdown",
      "metadata": {
        "id": "JArIvFX7F4xv"
      },
      "source": [
        "**and**나 **or** 조건은 두 가지 이상 조건을 다룰 때 활용합니다."
      ]
    },
    {
      "cell_type": "markdown",
      "metadata": {
        "id": "1r39VMGsF_e4"
      },
      "source": [
        "### and\n",
        "\n",
        "- and 조건은 **모두 만족**할 때 참으로 인식합니다."
      ]
    },
    {
      "cell_type": "code",
      "metadata": {
        "id": "BMup-Y9VGGts",
        "colab": {
          "base_uri": "https://localhost:8080/"
        },
        "outputId": "59b32044-9f80-47a7-e7a9-12b933f8b4a7"
      },
      "source": [
        "True and True and True"
      ],
      "execution_count": 30,
      "outputs": [
        {
          "output_type": "execute_result",
          "data": {
            "text/plain": [
              "True"
            ]
          },
          "metadata": {},
          "execution_count": 30
        }
      ]
    },
    {
      "cell_type": "code",
      "metadata": {
        "id": "SVDUfdmLGIXm",
        "colab": {
          "base_uri": "https://localhost:8080/"
        },
        "outputId": "dcde8e4d-6636-4c5f-db32-36e1013b5c23"
      },
      "source": [
        "True and False and True"
      ],
      "execution_count": 31,
      "outputs": [
        {
          "output_type": "execute_result",
          "data": {
            "text/plain": [
              "False"
            ]
          },
          "metadata": {},
          "execution_count": 31
        }
      ]
    },
    {
      "cell_type": "code",
      "metadata": {
        "id": "1ZjfDRh3GJwz",
        "colab": {
          "base_uri": "https://localhost:8080/"
        },
        "outputId": "cf3baa88-506c-482a-f923-d605a93f9ab7"
      },
      "source": [
        "if (0 < 1) and (0 < 2):\n",
        "    print('모두 참')\n",
        "else:\n",
        "    print('거짓')"
      ],
      "execution_count": 32,
      "outputs": [
        {
          "output_type": "stream",
          "name": "stdout",
          "text": [
            "모두 참\n"
          ]
        }
      ]
    },
    {
      "cell_type": "code",
      "metadata": {
        "id": "cuHoVgi5GvVy",
        "colab": {
          "base_uri": "https://localhost:8080/"
        },
        "outputId": "a37cb1a9-d932-40b5-b4c3-2a280d01add4"
      },
      "source": [
        "if (0 < 1) and (0 > 2):\n",
        "    print('모두 참')\n",
        "else:\n",
        "    print('허참')"
      ],
      "execution_count": 33,
      "outputs": [
        {
          "output_type": "stream",
          "name": "stdout",
          "text": [
            "허참\n"
          ]
        }
      ]
    },
    {
      "cell_type": "markdown",
      "metadata": {
        "id": "LpFTEajiGxRN"
      },
      "source": [
        "### or\n",
        "\n",
        "- or 조건은 조건 중 **하나라도 만족**할 때 참으로 인식합니다."
      ]
    },
    {
      "cell_type": "code",
      "metadata": {
        "id": "kQnJHHiHG7MI",
        "colab": {
          "base_uri": "https://localhost:8080/"
        },
        "outputId": "a24e40e5-3c9c-4046-a92f-29a8b2402df6"
      },
      "source": [
        "True or False or False"
      ],
      "execution_count": 34,
      "outputs": [
        {
          "output_type": "execute_result",
          "data": {
            "text/plain": [
              "True"
            ]
          },
          "metadata": {},
          "execution_count": 34
        }
      ]
    },
    {
      "cell_type": "code",
      "metadata": {
        "id": "jEH3pQIDG9ls",
        "colab": {
          "base_uri": "https://localhost:8080/"
        },
        "outputId": "4a09c9b6-17af-4ad0-8ce4-0107e7421b35"
      },
      "source": [
        "False or False or False"
      ],
      "execution_count": 35,
      "outputs": [
        {
          "output_type": "execute_result",
          "data": {
            "text/plain": [
              "False"
            ]
          },
          "metadata": {},
          "execution_count": 35
        }
      ]
    },
    {
      "cell_type": "code",
      "metadata": {
        "id": "pCiPRf0FHBhx",
        "colab": {
          "base_uri": "https://localhost:8080/"
        },
        "outputId": "493bbd62-1e4b-451e-f962-f64bc99c03e9"
      },
      "source": [
        "if (0 < 1) or ( 1 < 0):\n",
        "    print('하나라도 참')\n",
        "else:\n",
        "    print('허참')"
      ],
      "execution_count": 36,
      "outputs": [
        {
          "output_type": "stream",
          "name": "stdout",
          "text": [
            "하나라도 참\n"
          ]
        }
      ]
    },
    {
      "cell_type": "code",
      "metadata": {
        "id": "IXQSEQYjHKRz",
        "colab": {
          "base_uri": "https://localhost:8080/"
        },
        "outputId": "28b2ec8a-831c-4983-b3a8-a3ed9b30a968"
      },
      "source": [
        "if (10 < 1) or ( 1 < 0):\n",
        "    print('하나라도 참')\n",
        "else:\n",
        "    print('허참')"
      ],
      "execution_count": 37,
      "outputs": [
        {
          "output_type": "stream",
          "name": "stdout",
          "text": [
            "허참\n"
          ]
        }
      ]
    },
    {
      "cell_type": "markdown",
      "metadata": {
        "id": "1_JYhWEy5140"
      },
      "source": [
        "### not\n",
        "\n",
        "- bool 값을 반전시킵니다."
      ]
    },
    {
      "cell_type": "code",
      "metadata": {
        "id": "v14ZnNvl5140",
        "colab": {
          "base_uri": "https://localhost:8080/"
        },
        "outputId": "9f930fca-4ab9-44f0-90ab-2b22d6ce8985"
      },
      "source": [
        "not True"
      ],
      "execution_count": 38,
      "outputs": [
        {
          "output_type": "execute_result",
          "data": {
            "text/plain": [
              "False"
            ]
          },
          "metadata": {},
          "execution_count": 38
        }
      ]
    },
    {
      "cell_type": "code",
      "metadata": {
        "id": "f4y-phUd5140",
        "colab": {
          "base_uri": "https://localhost:8080/"
        },
        "outputId": "b7bec9aa-9b2a-408b-e4fc-ede3ac6c1158"
      },
      "source": [
        "not False"
      ],
      "execution_count": 39,
      "outputs": [
        {
          "output_type": "execute_result",
          "data": {
            "text/plain": [
              "True"
            ]
          },
          "metadata": {},
          "execution_count": 39
        }
      ]
    },
    {
      "cell_type": "code",
      "metadata": {
        "id": "_nbGLKen5140"
      },
      "source": [
        "if not True:\n",
        "    print('not True')"
      ],
      "execution_count": null,
      "outputs": []
    },
    {
      "cell_type": "code",
      "metadata": {
        "id": "urbyttGG5140"
      },
      "source": [
        "if not False:\n",
        "    print('not False')"
      ],
      "execution_count": null,
      "outputs": []
    },
    {
      "cell_type": "markdown",
      "metadata": {
        "id": "M0wegNrX5140"
      },
      "source": [
        "## 연습문제"
      ]
    },
    {
      "cell_type": "markdown",
      "metadata": {
        "id": "Qr5n87QH5141"
      },
      "source": [
        "### 문제 1"
      ]
    },
    {
      "cell_type": "markdown",
      "metadata": {
        "id": "j5wJNvqq5141"
      },
      "source": [
        "- (몸무게 + 100 - 키)를 비만 수치 공식이라고 가정합니다.\n",
        "- 키와 몸무게를 입력받아 첫 번째 줄에 비만 수치를 출력합니다.\n",
        "- 비만 수치가 0보다 크면 비만이라는 메시지를 출력하세요.\n",
        "\n",
        "```\n",
        "입력 예) info =[155, 60] (키, 몸무게 순)\n",
        "출력[1]: 비만수치는 5 입니다.\n",
        "출력[2]: 당신은 비만입니다.\n",
        "```"
      ]
    },
    {
      "cell_type": "code",
      "metadata": {
        "id": "Gpe4jWMa5141"
      },
      "source": [
        "info = [155, 60]"
      ],
      "execution_count": 40,
      "outputs": []
    },
    {
      "cell_type": "code",
      "metadata": {
        "id": "t-d3hhoI5141",
        "colab": {
          "base_uri": "https://localhost:8080/"
        },
        "outputId": "9b3f3994-c629-4fd0-9f3c-dcb20466d2a1"
      },
      "source": [
        "# 코드를 입력해 주세요\n",
        "result = (info[1] +100 - info[0])\n",
        "print(f'비만수치는 {result}입니다.')\n",
        "if result > 0:\n",
        "  print('당신은 비만입니다.')"
      ],
      "execution_count": 42,
      "outputs": [
        {
          "output_type": "stream",
          "name": "stdout",
          "text": [
            "비만수치는 5입니다.\n",
            "당신은 비만입니다.\n"
          ]
        }
      ]
    },
    {
      "cell_type": "markdown",
      "metadata": {
        "id": "p1Uv4QX05141"
      },
      "source": [
        "<p><strong>[출력 결과]</strong></p><pre>비만수치는 5입니다\n",
        "당신은 비만입니다.\n",
        "</pre>"
      ]
    },
    {
      "cell_type": "markdown",
      "metadata": {
        "id": "ZSuLeVJg5142"
      },
      "source": [
        "### 문제 2"
      ]
    },
    {
      "cell_type": "markdown",
      "metadata": {
        "id": "EVkK9WAv5142"
      },
      "source": [
        "성적을 입력받아 90점 이상이면 A, 80점이상이면 B, 70점 이상이면 C, 70점 미만이면 D를 출력하세요\n",
        "- 단, 점수가 음수이거나 100점을 초과하는 경우에는 '에러'를 출력하세요\n",
        "\n",
        "힌트) input() 함수를 사용합니다.\n",
        "- input() 함수는 사용자로부터 입력 값을 받을 수 있습니다."
      ]
    },
    {
      "cell_type": "code",
      "source": [
        "score = input()\n",
        "score = int(score)\n",
        "print(f\"점수를 입력해주세요 : {score}\")\n",
        "if 100>score>=90:\n",
        "  print(\"A\")\n",
        "elif 90>score>=80:\n",
        "  print(\"B\")\n",
        "elif 80>score>=70:\n",
        "  print(\"C\")\n",
        "elif 70>score>0:\n",
        "  print(\"D\")\n",
        "else:\n",
        "  print(\"에러\")"
      ],
      "metadata": {
        "colab": {
          "base_uri": "https://localhost:8080/"
        },
        "id": "A1VABjYvja0x",
        "outputId": "0ce7abbd-9b28-474c-f4cf-029c5b4dbae7"
      },
      "execution_count": 46,
      "outputs": [
        {
          "output_type": "stream",
          "name": "stdout",
          "text": [
            "103\n",
            "점수를 입력해주세요 : 103\n",
            "에러\n"
          ]
        }
      ]
    },
    {
      "cell_type": "code",
      "source": [
        "score = int(input(\"점수를 입력해주세요 : \"))\n",
        "if score <0 or score>100:\n",
        "  print(\"에러\")\n",
        "elif score >= 90:\n",
        "  print(\"A\")\n",
        "elif score >= 80:\n",
        "  print(\"B\")\n",
        "elif score >= 70:\n",
        "  print(\"C\")\n",
        "else:\n",
        "  print(\"D\")"
      ],
      "metadata": {
        "colab": {
          "base_uri": "https://localhost:8080/"
        },
        "id": "eA6NgriHkfMT",
        "outputId": "b72fa032-5c97-412c-b116-9cc8a92c4f66"
      },
      "execution_count": 47,
      "outputs": [
        {
          "output_type": "stream",
          "name": "stdout",
          "text": [
            "-10\n",
            "점수를 입력해주세요 : -10\n",
            "에러\n"
          ]
        }
      ]
    },
    {
      "cell_type": "code",
      "metadata": {
        "id": "BqpPJlTJ5142"
      },
      "source": [
        "# 코드를 입력해 주세요\n"
      ],
      "execution_count": null,
      "outputs": []
    },
    {
      "cell_type": "markdown",
      "metadata": {
        "id": "suzljiWQ5142"
      },
      "source": [
        "<p><strong>[출력 결과]</strong></p><pre>점수를 입력해 주세요: 95\n",
        "A\n",
        "</pre>"
      ]
    },
    {
      "cell_type": "markdown",
      "source": [
        "사용자로부터 달러, 엔, 유로, 또는 위안 금액을 입력받은 후 이를 원으로 변환하는 프로그램을 작성해 주세요.\n",
        "\n",
        "각 통화별 환율은 다음과 같다.\n",
        "\n",
        "달러: 1237.0\n",
        "\n",
        "엔: 105.4\n",
        "\n",
        "유로: 1349.69\n",
        "\n",
        "위안: 194.57\n",
        "\n",
        "사용자는 10 달러, 200 엔, 30 유로, 100 위안과 같이 금액과 통화명 사이에 공백을 넣어 입력한다고 가정합니다.\n",
        "\n",
        "입력 예시) 10 달러\n",
        "\n",
        "결과 예시) 11670.0원\n"
      ],
      "metadata": {
        "id": "9VJug6ctmcUu"
      }
    },
    {
      "cell_type": "code",
      "source": [
        "exchange = {\"달러\": 1237, \"엔\":105.4, \"유로\":1349.69, \"위안\":194.57}\n",
        "user = input(\"입력 :\")\n",
        "num, currency = user.split()\n",
        "print(float(num)*exchange[currency], \"원\")"
      ],
      "metadata": {
        "colab": {
          "base_uri": "https://localhost:8080/"
        },
        "id": "n8DTtkZylD4W",
        "outputId": "8fa3fb51-4e60-4f98-dc4c-a3679a43125b"
      },
      "execution_count": 51,
      "outputs": [
        {
          "output_type": "stream",
          "name": "stdout",
          "text": [
            "입력 :13 달러\n",
            "16081.0 원\n"
          ]
        }
      ]
    }
  ]
}
